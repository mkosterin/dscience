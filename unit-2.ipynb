{
 "cells": [
  {
   "cell_type": "markdown",
   "metadata": {},
   "source": [
    "# Юнит-2, Разведывательный анализ данных"
   ]
  },
  {
   "cell_type": "code",
   "execution_count": 13,
   "metadata": {},
   "outputs": [
    {
     "data": {
      "text/plain": [
       "array([[1., 1., 1., 1., 1.],\n",
       "       [1., 1., 1., 1., 1.],\n",
       "       [1., 1., 1., 1., 1.],\n",
       "       [1., 1., 1., 1., 1.],\n",
       "       [1., 1., 1., 1., 1.]])"
      ]
     },
     "metadata": {},
     "output_type": "display_data"
    },
    {
     "data": {
      "text/plain": [
       "array([[1., 0., 0., 0., 0.],\n",
       "       [0., 1., 0., 0., 0.],\n",
       "       [0., 0., 1., 0., 0.],\n",
       "       [0., 0., 0., 1., 0.],\n",
       "       [0., 0., 0., 0., 1.]])"
      ]
     },
     "metadata": {},
     "output_type": "display_data"
    },
    {
     "data": {
      "text/plain": [
       "array([[1, 1, 1, 1, 1],\n",
       "       [1, 1, 1, 1, 1],\n",
       "       [1, 1, 1, 1, 1],\n",
       "       [1, 1, 1, 1, 1],\n",
       "       [1, 1, 1, 1, 1]])"
      ]
     },
     "metadata": {},
     "output_type": "display_data"
    },
    {
     "data": {
      "text/plain": [
       "array([[1, 2, 3, 4, 5],\n",
       "       [5, 1, 2, 3, 4],\n",
       "       [4, 5, 1, 2, 3],\n",
       "       [3, 4, 5, 1, 2],\n",
       "       [2, 3, 4, 5, 1]])"
      ]
     },
     "metadata": {},
     "output_type": "display_data"
    }
   ],
   "source": [
    "#9.2.4\n",
    "import numpy as np\n",
    "display(np.ones((5,5)))\n",
    "display(np.eye(5))\n",
    "display(np.full((5,5), 1))\n",
    "display(np.array([[1,2,3,4,5], [5,1,2,3,4], [4,5,1,2,3], [3,4,5,1,2], [2,3,4,5,1]]))"
   ]
  },
  {
   "cell_type": "code",
   "execution_count": 25,
   "metadata": {},
   "outputs": [
    {
     "data": {
      "text/plain": [
       "array([[0, 0, 2],\n",
       "       [2, 3, 4],\n",
       "       [4, 0, 0]])"
      ]
     },
     "metadata": {},
     "output_type": "display_data"
    },
    {
     "data": {
      "text/plain": [
       "array([[3, 4, 0],\n",
       "       [3, 4, 0],\n",
       "       [3, 1, 4]])"
      ]
     },
     "metadata": {},
     "output_type": "display_data"
    }
   ],
   "source": [
    "#9.2.5\n",
    "import numpy as np\n",
    "display(np.random.randint(0, 5, (3, 3)))\n",
    "display(np.random.randint(0, 6, (3, 3)))"
   ]
  },
  {
   "cell_type": "code",
   "execution_count": 33,
   "metadata": {},
   "outputs": [
    {
     "data": {
      "text/plain": [
       "array([1, 3, 5, 7, 9])"
      ]
     },
     "metadata": {},
     "output_type": "display_data"
    },
    {
     "name": "stdout",
     "output_type": "stream",
     "text": [
      "0 0\n",
      "1 1\n",
      "2 0\n",
      "3 1\n",
      "4 0\n",
      "5 1\n",
      "6 0\n",
      "7 1\n",
      "8 0\n",
      "9 1\n",
      "10 0\n"
     ]
    },
    {
     "data": {
      "text/plain": [
       "array([ 1,  3,  5,  7,  9, 11, 13])"
      ]
     },
     "metadata": {},
     "output_type": "display_data"
    }
   ],
   "source": [
    "#9.2.6\n",
    "import numpy as np\n",
    "display(np.array([i for i in range(11) if i%2]))\n",
    "for i in range(11):\n",
    "    print(i, i%2)\n",
    "display(np.arange(1, 14, 2))"
   ]
  },
  {
   "cell_type": "code",
   "execution_count": 49,
   "metadata": {},
   "outputs": [
    {
     "data": {
      "text/plain": [
       "(5, 51)"
      ]
     },
     "metadata": {},
     "output_type": "display_data"
    },
    {
     "name": "stdout",
     "output_type": "stream",
     "text": [
      "3154.33\n"
     ]
    }
   ],
   "source": [
    "#9.3.1\n",
    "import numpy as np\n",
    "first_line = [x*y for x in range(2, 100, 6) for y in range (7, 1, -2)]\n",
    "second_line = [x ** 0.5 for x in range(1000, 1101, 2)]\n",
    "third_line = [x**2 for x in range(51)]\n",
    "\n",
    "big_secret = np.array([first_line, second_line, third_line, second_line, first_line])\n",
    "display(big_secret.shape)\n",
    "summ = 0\n",
    "for i in big_secret[:,-1]:\n",
    "    summ += i\n",
    "print(round(summ,2))\n"
   ]
  },
  {
   "cell_type": "code",
   "execution_count": 83,
   "metadata": {},
   "outputs": [
    {
     "data": {
      "text/plain": [
       "(5, 51)"
      ]
     },
     "metadata": {},
     "output_type": "display_data"
    },
    {
     "name": "stdout",
     "output_type": "stream",
     "text": [
      "121.37\n"
     ]
    }
   ],
   "source": [
    "#9.3.2\n",
    "import numpy as np\n",
    "first_line = [x*y for x in range(2, 100, 6) for y in range (7, 1, -2)]\n",
    "second_line = [x ** 0.5 for x in range(1000, 1101, 2)]\n",
    "third_line = [x**2 for x in range(51)]\n",
    "\n",
    "big_secret = np.array([first_line, second_line, third_line, second_line, first_line])\n",
    "display(big_secret.shape)\n",
    "summ = 0\n",
    "for i in range(5):\n",
    "    summ += big_secret[i, i]\n",
    "print(round(summ,2))"
   ]
  },
  {
   "cell_type": "code",
   "execution_count": 81,
   "metadata": {},
   "outputs": [
    {
     "name": "stdout",
     "output_type": "stream",
     "text": [
      "341505315559.2347\n"
     ]
    }
   ],
   "source": [
    "#9.3.3\n",
    "import numpy as np\n",
    "first_line = [x*y for x in range(2, 100, 6) for y in range (7, 1, -2)]\n",
    "second_line = [x ** 0.5 for x in range(1000, 1101, 2)]\n",
    "third_line = [x**2 for x in range(51)]\n",
    "\n",
    "big_secret = np.array([first_line, second_line, third_line, second_line, first_line])\n",
    "summ = []\n",
    "for i in range(5):\n",
    "    summ.append(big_secret[i, i+46])\n",
    "print(np.prod(summ))"
   ]
  },
  {
   "cell_type": "code",
   "execution_count": 99,
   "metadata": {},
   "outputs": [
    {
     "name": "stdout",
     "output_type": "stream",
     "text": [
      "0:00:00\n",
      "0:00:00\n"
     ]
    },
    {
     "data": {
      "text/plain": [
       "array([[-1.,  1., -1.,  1., -1.,  1., -1.,  1., -1.,  1., -1.,  1., -1.,\n",
       "         1., -1.,  1., -1.,  1., -1.,  1., -1.,  1., -1.,  1., -1.,  1.,\n",
       "        -1.,  1., -1.,  1., -1.,  1., -1.,  1., -1.,  1., -1.,  1., -1.,\n",
       "         1., -1.,  1., -1.,  1., -1.,  1., -1.,  1., -1.,  1., -1.],\n",
       "       [ 1.,  1.,  1.,  1.,  1.,  1.,  1.,  1.,  1.,  1.,  1.,  1.,  1.,\n",
       "         1.,  1.,  1.,  1.,  1.,  1.,  1.,  1.,  1.,  1.,  1.,  1.,  1.,\n",
       "         1.,  1.,  1.,  1.,  1.,  1.,  1.,  1.,  1.,  1.,  1.,  1.,  1.,\n",
       "         1.,  1.,  1.,  1.,  1.,  1.,  1.,  1.,  1.,  1.,  1.,  1.],\n",
       "       [-1.,  1., -1.,  1., -1.,  1., -1.,  1., -1.,  1., -1.,  1., -1.,\n",
       "         1., -1.,  1., -1.,  1., -1.,  1., -1.,  1., -1.,  1., -1.,  1.,\n",
       "        -1.,  1., -1.,  1., -1.,  1., -1.,  1., -1.,  1., -1.,  1., -1.,\n",
       "         1., -1.,  1., -1.,  1., -1.,  1., -1.,  1., -1.,  1., -1.],\n",
       "       [ 1.,  1.,  1.,  1.,  1.,  1.,  1.,  1.,  1.,  1.,  1.,  1.,  1.,\n",
       "         1.,  1.,  1.,  1.,  1.,  1.,  1.,  1.,  1.,  1.,  1.,  1.,  1.,\n",
       "         1.,  1.,  1.,  1.,  1.,  1.,  1.,  1.,  1.,  1.,  1.,  1.,  1.,\n",
       "         1.,  1.,  1.,  1.,  1.,  1.,  1.,  1.,  1.,  1.,  1.,  1.],\n",
       "       [-1.,  1., -1.,  1., -1.,  1., -1.,  1., -1.,  1., -1.,  1., -1.,\n",
       "         1., -1.,  1., -1.,  1., -1.,  1., -1.,  1., -1.,  1., -1.,  1.,\n",
       "        -1.,  1., -1.,  1., -1.,  1., -1.,  1., -1.,  1., -1.,  1., -1.,\n",
       "         1., -1.,  1., -1.,  1., -1.,  1., -1.,  1., -1.,  1., -1.]])"
      ]
     },
     "metadata": {},
     "output_type": "display_data"
    }
   ],
   "source": [
    "#9.3.-\n",
    "import numpy as np\n",
    "import time\n",
    "from datetime import datetime\n",
    "first_line = [x*y for x in range(2, 100, 6) for y in range (7, 1, -2)]\n",
    "second_line = [x ** 0.5 for x in range(1000, 1101, 2)]\n",
    "third_line = [x**2 for x in range(51)]\n",
    "\n",
    "big_secret = np.array([first_line, second_line, third_line, second_line, first_line])\n",
    "\n",
    "start_time = datetime.now()\n",
    "for i in range(big_secret.shape[0]):\n",
    "    for j in range(big_secret.shape[1]):\n",
    "        if (j%2 == 0) and (i%2 == 0):\n",
    "            big_secret[i, j] = -1\n",
    "        else:\n",
    "            big_secret[i, j] = 1\n",
    "print(datetime.now() - start_time)\n",
    "\n",
    "start_time = datetime.now()\n",
    "for i in range(big_secret.shape[0]):\n",
    "    for j in range(big_secret.shape[1]):\n",
    "        if (i%2 == 0) and (j%2 == 0):\n",
    "            big_secret[i, j] = -1\n",
    "        else:\n",
    "            big_secret[i, j] = 1\n",
    "print(datetime.now() - start_time)\n",
    "\n",
    "display(big_secret)"
   ]
  },
  {
   "cell_type": "code",
   "execution_count": 86,
   "metadata": {},
   "outputs": [
    {
     "name": "stdout",
     "output_type": "stream",
     "text": [
      "-1.0\n"
     ]
    }
   ],
   "source": [
    "#9.3.4\n",
    "import numpy as np\n",
    "first_line = [x*y for x in range(2, 100, 6) for y in range (7, 1, -2)]\n",
    "second_line = [x ** 0.5 for x in range(1000, 1101, 2)]\n",
    "third_line = [x**2 for x in range(51)]\n",
    "big_secret = np.array([first_line, second_line, third_line, second_line, first_line])\n",
    "\n",
    "for i in range(big_secret.shape[0]):\n",
    "    for j in range(big_secret.shape[1]):\n",
    "        if (j%2 == 0) and (i%2 == 0):\n",
    "            big_secret[i, j] = -1\n",
    "        else:\n",
    "            big_secret[i, j] = 1\n",
    "\n",
    "summ = 0\n",
    "for i in range(5):\n",
    "    summ += big_secret[i, i]\n",
    "print(summ)"
   ]
  },
  {
   "cell_type": "code",
   "execution_count": 93,
   "metadata": {},
   "outputs": [
    {
     "name": "stdout",
     "output_type": "stream",
     "text": [
      "-1.0\n"
     ]
    }
   ],
   "source": [
    "#9.3.5\n",
    "import numpy as np\n",
    "\n",
    "first_line = [x*y for x in range(2, 100, 6) for y in range (7, 1, -2)]\n",
    "second_line = [x ** 0.5 for x in range(1000, 1101, 2)]\n",
    "third_line = [x**2 for x in range(51)]\n",
    "big_secret = np.array([first_line, second_line, third_line, second_line, first_line])\n",
    "\n",
    "\n",
    "for i in range(big_secret.shape[0]):\n",
    "    for j in range(big_secret.shape[1]):\n",
    "        if (j%2 == 0) and (i%2 == 0):\n",
    "            big_secret[i, j] = -1\n",
    "        else:\n",
    "            big_secret[i, j] = 1\n",
    "\n",
    "summ = []\n",
    "for i in range(5):\n",
    "    summ.append(big_secret[i, i+46])\n",
    "print(np.prod(summ))\n"
   ]
  },
  {
   "cell_type": "code",
   "execution_count": 102,
   "metadata": {},
   "outputs": [
    {
     "data": {
      "text/plain": [
       "3"
      ]
     },
     "metadata": {},
     "output_type": "display_data"
    }
   ],
   "source": [
    "#9.4.1\n",
    "import numpy as np\n",
    "\n",
    "first = [x**(1/2) for x in range(100)]\n",
    "second = [x**(1/3) for x in range(100, 200)]\n",
    "third = [x/y for x in range(200,300,2) for y in [3,5]]\n",
    "\n",
    "great_secret = np.array([first, second, third]).T\n",
    "\n",
    "display(great_secret.shape[1])"
   ]
  },
  {
   "cell_type": "code",
   "execution_count": 114,
   "metadata": {},
   "outputs": [
    {
     "data": {
      "text/plain": [
       "array([ 0.        ,  4.64158883, 66.66666667])"
      ]
     },
     "metadata": {},
     "output_type": "display_data"
    },
    {
     "data": {
      "text/plain": [
       "0.16"
      ]
     },
     "metadata": {},
     "output_type": "display_data"
    }
   ],
   "source": [
    "#9.4.2\n",
    "import numpy as np\n",
    "\n",
    "first = [x**(1/2) for x in range(100)]\n",
    "second = [x**(1/3) for x in range(100, 200)]\n",
    "third = [x/y for x in range(200,300,2) for y in [3,5]]\n",
    "\n",
    "great_secret = np.array([first, second, third]).T\n",
    "\n",
    "display(great_secret[0])\n",
    "display(round(np.cos(great_secret[0]).sum(),2))"
   ]
  },
  {
   "cell_type": "code",
   "execution_count": 118,
   "metadata": {},
   "outputs": [
    {
     "data": {
      "text/plain": [
       "5470.0"
      ]
     },
     "metadata": {},
     "output_type": "display_data"
    }
   ],
   "source": [
    "#9.4.3\n",
    "import numpy as np\n",
    "\n",
    "first = [x**(1/2) for x in range(100)]\n",
    "second = [x**(1/3) for x in range(100, 200)]\n",
    "third = [x/y for x in range(200,300,2) for y in [3,5]]\n",
    "\n",
    "great_secret = np.array([first, second, third]).T\n",
    "\n",
    "display(great_secret[great_secret > 50].sum())\n",
    "#display(round(np.cos(great_secret[0]).sum(),2))"
   ]
  },
  {
   "cell_type": "code",
   "execution_count": 121,
   "metadata": {},
   "outputs": [
    {
     "data": {
      "text/plain": [
       "7.0710678118654755"
      ]
     },
     "metadata": {},
     "output_type": "display_data"
    }
   ],
   "source": [
    "#9.4.4\n",
    "import numpy as np\n",
    "\n",
    "first = [x**(1/2) for x in range(100)]\n",
    "second = [x**(1/3) for x in range(100, 200)]\n",
    "third = [x/y for x in range(200,300,2) for y in [3,5]]\n",
    "\n",
    "great_secret = np.array([first, second, third]).T\n",
    "\n",
    "display(great_secret.flatten()[150])"
   ]
  },
  {
   "cell_type": "code",
   "execution_count": 129,
   "metadata": {},
   "outputs": [
    {
     "data": {
      "text/plain": [
       "115.12"
      ]
     },
     "metadata": {},
     "output_type": "display_data"
    }
   ],
   "source": [
    "#9.4.5\n",
    "import numpy as np\n",
    "\n",
    "first = [x**(1/2) for x in range(100)]\n",
    "second = [x**(1/3) for x in range(100, 200)]\n",
    "third = [x/y for x in range(200,300,2) for y in [3,5]]\n",
    "\n",
    "great_secret = np.array([first, second, third]).T\n",
    "\n",
    "display(round(np.sort(great_secret, axis=0)[-1,:].sum(),2))"
   ]
  },
  {
   "cell_type": "code",
   "execution_count": 200,
   "metadata": {},
   "outputs": [
    {
     "data": {
      "text/plain": [
       "array([[  1. , 135. ,  34. ,   4. ],\n",
       "       [  2. , 160. ,  43. ,   5. ],\n",
       "       [  3. , 163. ,  40. ,   4.3],\n",
       "       [  4. , 147. ,  44. ,   5. ],\n",
       "       [  5. , 138. ,  41. ,   4.7],\n",
       "       [  6. , 149. ,  54. ,   3.9],\n",
       "       [  7. , 136. ,  39. ,   4.2],\n",
       "       [  8. , 154. ,  48. ,   4.9],\n",
       "       [  9. , 137. ,  35. ,   3.7],\n",
       "       [ 10. , 165. ,  60. ,   4.6]])"
      ]
     },
     "metadata": {},
     "output_type": "display_data"
    },
    {
     "data": {
      "text/plain": [
       "42.0"
      ]
     },
     "metadata": {},
     "output_type": "display_data"
    },
    {
     "data": {
      "text/plain": [
       "1.8"
      ]
     },
     "metadata": {},
     "output_type": "display_data"
    },
    {
     "data": {
      "text/plain": [
       "array([[1.  , 0.64],\n",
       "       [0.64, 1.  ]])"
      ]
     },
     "metadata": {},
     "output_type": "display_data"
    },
    {
     "data": {
      "text/plain": [
       "array([[1.  , 0.46],\n",
       "       [0.46, 1.  ]])"
      ]
     },
     "metadata": {},
     "output_type": "display_data"
    },
    {
     "data": {
      "text/plain": [
       "array([[1. , 0.3],\n",
       "       [0.3, 1. ]])"
      ]
     },
     "metadata": {},
     "output_type": "display_data"
    },
    {
     "data": {
      "text/plain": [
       "0.4517742799230607"
      ]
     },
     "metadata": {},
     "output_type": "display_data"
    },
    {
     "data": {
      "text/plain": [
       "60.36"
      ]
     },
     "metadata": {},
     "output_type": "display_data"
    },
    {
     "data": {
      "text/plain": [
       "60.36"
      ]
     },
     "metadata": {},
     "output_type": "display_data"
    },
    {
     "data": {
      "text/plain": [
       "43.8"
      ]
     },
     "metadata": {},
     "output_type": "display_data"
    },
    {
     "data": {
      "text/plain": [
       "34.0"
      ]
     },
     "metadata": {},
     "output_type": "display_data"
    },
    {
     "data": {
      "text/plain": [
       "60.0"
      ]
     },
     "metadata": {},
     "output_type": "display_data"
    }
   ],
   "source": [
    "#9.5\n",
    "import numpy as np\n",
    "table = \"\"\"1\t135\t34\t4\n",
    "2\t160\t43\t5\n",
    "3\t163\t40\t4.3\n",
    "4\t147\t44\t5\n",
    "5\t138\t41\t4.7\n",
    "6\t149\t54\t3.9\n",
    "7\t136\t39\t4.2\n",
    "8\t154\t48\t4.9\n",
    "9\t137\t35\t3.7\n",
    "10\t165\t60\t4.6\"\"\"\n",
    "students = [list(map(float, l.split('\\t'))) for l in table.split('\\n')]\n",
    "students = np.array(students)\n",
    "display(students)\n",
    "\n",
    "#9.5.1 Чему равно медианное значение массы тела школьников?\n",
    "display(np.median(students[:,-2]))\n",
    "\n",
    "#9.5.2 На сколько среднее арифметическое массы тела школьников больше медианного\n",
    "#значения для этого же показателя? Дайте ответ в килограммах с точностью до одной десятой кг.\n",
    "display(round(np.mean(students[:,-2]) - np.median(students[:,-2]),1))\n",
    "\n",
    "#9.5.3 Между какой парой признаков в массиве students наблюдается минимальная корреляция?\n",
    "display(np.round(np.corrcoef(students[:,1], students[:,2]), 2))\n",
    "display(np.round(np.corrcoef(students[:,1], students[:,3]), 2))\n",
    "display(np.round(np.corrcoef(students[:,2], students[:,3]), 2))\n",
    "\n",
    "#9.5.4 Используя имеющийся набор данных о школьниках, найдите, чему равно стандартное отклонение их средних баллов.\n",
    "display(np.std(students[:,3]))\n",
    "\n",
    "#9.5.5 Посчитайте, чему равна дисперсия значений веса школьников.\n",
    "display(np.std(students[:,2])**2)\n",
    "display(np.var(students[:,2]))\n",
    "display(np.mean(students[:,2]))\n",
    "display(np.min(students[:,2]))\n",
    "display(np.max(students[:,2]))"
   ]
  },
  {
   "cell_type": "code",
   "execution_count": 184,
   "metadata": {},
   "outputs": [
    {
     "data": {
      "text/plain": [
       "array([[3, 5, 8, 8, 6, 8, 3, 5, 9, 1],\n",
       "       [9, 5, 3, 4, 5, 6, 6, 4, 5, 1],\n",
       "       [6, 2, 4, 9, 1, 2, 4, 5, 5, 6],\n",
       "       [5, 1, 3, 6, 9, 8, 5, 9, 4, 5],\n",
       "       [9, 4, 6, 9, 5, 4, 5, 7, 1, 3],\n",
       "       [1, 8, 6, 8, 3, 6, 1, 1, 3, 1],\n",
       "       [1, 7, 1, 8, 8, 1, 4, 5, 1, 9],\n",
       "       [1, 2, 8, 9, 9, 5, 1, 7, 7, 6],\n",
       "       [2, 1, 4, 7, 9, 7, 6, 2, 3, 4],\n",
       "       [4, 9, 4, 9, 8, 3, 2, 1, 7, 8]])"
      ]
     },
     "execution_count": 184,
     "metadata": {},
     "output_type": "execute_result"
    }
   ],
   "source": [
    "#9.7.3\n",
    "import numpy as np\n",
    "np.random.randint(1, 10, (10, 10))"
   ]
  },
  {
   "cell_type": "code",
   "execution_count": 185,
   "metadata": {},
   "outputs": [
    {
     "data": {
      "text/plain": [
       "array([[ 7,  8,  9],\n",
       "       [12, 13, 14],\n",
       "       [17, 18, 19]])"
      ]
     },
     "metadata": {},
     "output_type": "display_data"
    }
   ],
   "source": [
    "#9.7.4\n",
    "import numpy as np\n",
    "my_array = np.array([[1,2,3,4,5],\n",
    "                     [6,7,8,9,10],\n",
    "                     [11,12,13,14,15],\n",
    "                     [16,17,18,19,20],\n",
    "                     [21,22,23,24,25]])\n",
    "display(my_array[1:4,1:4])"
   ]
  },
  {
   "cell_type": "code",
   "execution_count": 186,
   "metadata": {},
   "outputs": [
    {
     "data": {
      "text/plain": [
       "-0.058"
      ]
     },
     "metadata": {},
     "output_type": "display_data"
    }
   ],
   "source": [
    "#9.7.5\n",
    "import numpy as np\n",
    "my_array = np.array([[1,2,3,4,5],\n",
    "                     [6,7,8,9,10],\n",
    "                     [11,12,13,14,15],\n",
    "                     [16,17,18,19,20],\n",
    "                     [21,22,23,24,25]])\n",
    "my_sin = np.sin(my_array)\n",
    "display(round(my_sin.sum(),3))"
   ]
  },
  {
   "cell_type": "code",
   "execution_count": 187,
   "metadata": {},
   "outputs": [
    {
     "data": {
      "text/plain": [
       "array([[ 0.84147098,  0.90929743,  0.14112001, -0.7568025 , -0.95892427],\n",
       "       [-0.2794155 ,  1.        ,  1.        ,  1.        , -0.54402111],\n",
       "       [-0.99999021,  1.        ,  1.        ,  1.        ,  0.65028784],\n",
       "       [-0.28790332,  1.        ,  1.        ,  1.        ,  0.91294525],\n",
       "       [ 0.83665564, -0.00885131, -0.8462204 , -0.90557836, -0.13235175]])"
      ]
     },
     "metadata": {},
     "output_type": "display_data"
    },
    {
     "data": {
      "text/plain": [
       "7.572"
      ]
     },
     "metadata": {},
     "output_type": "display_data"
    }
   ],
   "source": [
    "#9.7.6\n",
    "import numpy as np\n",
    "my_array = np.array([[1,2,3,4,5],\n",
    "                     [6,7,8,9,10],\n",
    "                     [11,12,13,14,15],\n",
    "                     [16,17,18,19,20],\n",
    "                     [21,22,23,24,25]])\n",
    "my_sin = np.sin(my_array)\n",
    "my_sin[1:4, 1:4] = 1\n",
    "display(my_sin)\n",
    "display(round(my_sin.sum(),3))"
   ]
  },
  {
   "cell_type": "code",
   "execution_count": 188,
   "metadata": {},
   "outputs": [
    {
     "data": {
      "text/plain": [
       "2.406"
      ]
     },
     "metadata": {},
     "output_type": "display_data"
    }
   ],
   "source": [
    "#9.7.7\n",
    "import numpy as np\n",
    "my_array = np.array([[1,2,3,4,5],\n",
    "                     [6,7,8,9,10],\n",
    "                     [11,12,13,14,15],\n",
    "                     [16,17,18,19,20],\n",
    "                     [21,22,23,24,25]])\n",
    "my_sin = np.sin(my_array)\n",
    "my_sin[1:4, 1:4] = 1\n",
    "display(round(my_sin[:,0:4].reshape((10, 2))[:,0].sum(),3))"
   ]
  },
  {
   "cell_type": "code",
   "execution_count": 205,
   "metadata": {},
   "outputs": [
    {
     "data": {
      "text/plain": [
       "302501.0"
      ]
     },
     "metadata": {},
     "output_type": "display_data"
    },
    {
     "data": {
      "text/plain": [
       "292095.0"
      ]
     },
     "metadata": {},
     "output_type": "display_data"
    },
    {
     "data": {
      "text/plain": [
       "array([[1.        , 0.99999973],\n",
       "       [0.99999973, 1.        ]])"
      ]
     },
     "metadata": {},
     "output_type": "display_data"
    }
   ],
   "source": [
    "#9.7.8-10\n",
    "# Создайте массив bigdata, содержащий квадраты всех нечётных чисел в диапазоне от 100 до 1000.\n",
    "import numpy as np\n",
    "bigdata = np.arange(101, 1000, 2)\n",
    "bigdata = bigdata ** 2\n",
    "\n",
    "#9.7.8 Чему равна медиана массива bigdata?\n",
    "display(np.median(bigdata))\n",
    "\n",
    "#9.7.9 Чему равно стандартное отклонение для массива bigdata? Ответ округлите до целых:\n",
    "display(round(np.std(bigdata)))\n",
    "\n",
    "#9.7.10 Чему равен коэффициент корреляции между элементами массива bigdata с чётными и нечётными индексами?\n",
    "#Введите полученный ответ без изменений и округлений.\n",
    "display(np.corrcoef(bigdata[::2], bigdata[1::2]))\n"
   ]
  },
  {
   "cell_type": "code",
   "execution_count": null,
   "metadata": {},
   "outputs": [],
   "source": []
  }
 ],
 "metadata": {
  "kernelspec": {
   "display_name": "Python 3",
   "language": "python",
   "name": "python3"
  },
  "language_info": {
   "codemirror_mode": {
    "name": "ipython",
    "version": 3
   },
   "file_extension": ".py",
   "mimetype": "text/x-python",
   "name": "python",
   "nbconvert_exporter": "python",
   "pygments_lexer": "ipython3",
   "version": "3.7.6"
  }
 },
 "nbformat": 4,
 "nbformat_minor": 4
}
