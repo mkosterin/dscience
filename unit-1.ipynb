{
 "cells": [
  {
   "cell_type": "code",
   "execution_count": 8,
   "metadata": {},
   "outputs": [
    {
     "name": "stdout",
     "output_type": "stream",
     "text": [
      "-70\n",
      "33\n",
      "255\n",
      "10\n",
      "10\n"
     ]
    }
   ],
   "source": [
    "import pandas as pd\n",
    "data = pd.Series(list(range(10, 1001)))\n",
    "print(data.loc[10] + data.loc[23] - data.loc[245] + data.iloc[122])\n",
    "print(data.loc[23])\n",
    "print(data.loc[245])\n",
    "print(data.iloc[0])\n",
    "print(data.loc[0])\n"
   ]
  },
  {
   "cell_type": "code",
   "execution_count": 11,
   "metadata": {},
   "outputs": [
    {
     "data": {
      "text/plain": [
       "24.795378770256647"
      ]
     },
     "metadata": {},
     "output_type": "display_data"
    },
    {
     "data": {
      "text/plain": [
       "12897"
      ]
     },
     "metadata": {},
     "output_type": "display_data"
    },
    {
     "data": {
      "text/plain": [
       "14.740435689517149"
      ]
     },
     "metadata": {},
     "output_type": "display_data"
    },
    {
     "data": {
      "text/plain": [
       "96954000"
      ]
     },
     "metadata": {},
     "output_type": "display_data"
    },
    {
     "data": {
      "text/plain": [
       "0"
      ]
     },
     "metadata": {},
     "output_type": "display_data"
    }
   ],
   "source": [
    "import pandas as pd\n",
    "\n",
    "football = pd.read_csv('data_sf.csv')\n",
    "#display(football.info())\n",
    "#display(football.head())\n",
    "#display(football.tail())\n",
    "#display(football.describe())\n",
    "#display(football.describe(include = ['object']))\n",
    "#with pd.option_context('display.max_rows', None, 'display.max_columns', None):\n",
    "#    display(football.describe())\n",
    "display(football.Age.mean())\n",
    "display(football.Composure.count())\n",
    "display(football.ShortPassing.std())\n",
    "display(football.Wage.sum())\n",
    "display(football.Value.min())"
   ]
  },
  {
   "cell_type": "code",
   "execution_count": 75,
   "metadata": {},
   "outputs": [
    {
     "data": {
      "text/plain": [
       "67.57"
      ]
     },
     "metadata": {},
     "output_type": "display_data"
    },
    {
     "data": {
      "text/plain": [
       "62.41"
      ]
     },
     "metadata": {},
     "output_type": "display_data"
    },
    {
     "data": {
      "text/plain": [
       "0    RF\n",
       "Name: Position, dtype: object"
      ]
     },
     "metadata": {},
     "output_type": "display_data"
    },
    {
     "data": {
      "text/plain": [
       "22789"
      ]
     },
     "metadata": {},
     "output_type": "display_data"
    },
    {
     "data": {
      "text/plain": [
       "25.59"
      ]
     },
     "metadata": {},
     "output_type": "display_data"
    },
    {
     "data": {
      "text/plain": [
       "24"
      ]
     },
     "metadata": {},
     "output_type": "display_data"
    },
    {
     "data": {
      "text/plain": [
       "22.64"
      ]
     },
     "metadata": {},
     "output_type": "display_data"
    },
    {
     "data": {
      "text/plain": [
       "'Spain'"
      ]
     },
     "metadata": {},
     "output_type": "display_data"
    },
    {
     "data": {
      "text/plain": [
       "2.77"
      ]
     },
     "metadata": {},
     "output_type": "display_data"
    },
    {
     "data": {
      "text/plain": [
       "2.08"
      ]
     },
     "metadata": {},
     "output_type": "display_data"
    }
   ],
   "source": [
    "#python-5\n",
    "import pandas as pd\n",
    "football = pd.read_csv('data_sf.csv')\n",
    "\n",
    "#football[football.Age > 20]\n",
    "#1\n",
    "display(round(football[football.Wage > football.Wage.mean()].SprintSpeed.mean(),2))\n",
    "#2\n",
    "display(round(football[football.Wage < football.Wage.mean()].SprintSpeed.mean(),2))\n",
    "#3\n",
    "display(football[football.Wage == football.Wage.max()].Position)\n",
    "#4\n",
    "display(football[football.Nationality == 'Brazil'].Penalties.sum())\n",
    "#5\n",
    "display(round(football[football.HeadingAccuracy > 50].Age.mean(),2))\n",
    "#6\n",
    "display(football[(football.Composure > football.Composure.max()*0.9) \n",
    "                 & (football.Reactions > football.Reactions.max()*0.9)].Age.min())\n",
    "#7\n",
    "display(round(football[football.Age == football.Age.max()].Reactions.mean()\n",
    "                 - football[football.Age == football.Age.min()].Reactions.mean(),2))\n",
    "#8\n",
    "display(football[football.Value > football.Value.mean()].Nationality.value_counts().idxmax())\n",
    "#9\n",
    "display(round(football[(football.Position == 'GK') \n",
    "                 & (football.GKReflexes == football.GKReflexes.max())].Wage.mean()\n",
    "                 / football[(football.Position == 'GK')\n",
    "                 & (football.GKHandling == football.GKHandling.max())].Wage.mean(),2))\n",
    "#10\n",
    "display(round(football[football.Aggression == football.Aggression.max()].ShotPower.mean()\n",
    "                 / football[football.Aggression == football.Aggression.min()].ShotPower.mean(),2))"
   ]
  },
  {
   "cell_type": "code",
   "execution_count": 82,
   "metadata": {},
   "outputs": [
    {
     "data": {
      "text/plain": [
       "650"
      ]
     },
     "metadata": {},
     "output_type": "display_data"
    },
    {
     "data": {
      "text/plain": [
       "Shonan Bellmare      30\n",
       "V-Varen Nagasaki     30\n",
       "Vissel Kobe          29\n",
       "FC Emmen             29\n",
       "Padova               29\n",
       "                     ..\n",
       "Olympiacos CFP        8\n",
       "Dinamo Zagreb         7\n",
       "GD Chaves             7\n",
       "Vitória Guimarães     7\n",
       "Atlético Mineiro      6\n",
       "Name: Club, Length: 650, dtype: int64"
      ]
     },
     "metadata": {},
     "output_type": "display_data"
    }
   ],
   "source": [
    "#python-6\n",
    "import pandas as pd\n",
    "df = pd.read_csv('data_sf.csv')\n",
    "#1\n",
    "display(len(df['Club'].value_counts()))\n",
    "#2\n",
    "display(df['Club'].value_counts())"
   ]
  },
  {
   "cell_type": "code",
   "execution_count": null,
   "metadata": {},
   "outputs": [],
   "source": []
  }
 ],
 "metadata": {
  "kernelspec": {
   "display_name": "Python 3",
   "language": "python",
   "name": "python3"
  },
  "language_info": {
   "codemirror_mode": {
    "name": "ipython",
    "version": 3
   },
   "file_extension": ".py",
   "mimetype": "text/x-python",
   "name": "python",
   "nbconvert_exporter": "python",
   "pygments_lexer": "ipython3",
   "version": "3.7.6"
  }
 },
 "nbformat": 4,
 "nbformat_minor": 4
}
