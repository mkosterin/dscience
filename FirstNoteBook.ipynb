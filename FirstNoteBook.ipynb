{
 "cells": [
  {
   "cell_type": "code",
   "execution_count": 15,
   "metadata": {},
   "outputs": [
    {
     "data": {
      "text/plain": [
       "str"
      ]
     },
     "execution_count": 15,
     "metadata": {},
     "output_type": "execute_result"
    }
   ],
   "source": [
    "type(\"var\")"
   ]
  },
  {
   "cell_type": "code",
   "execution_count": 16,
   "metadata": {},
   "outputs": [
    {
     "data": {
      "text/plain": [
       "7"
      ]
     },
     "execution_count": 16,
     "metadata": {},
     "output_type": "execute_result"
    }
   ],
   "source": [
    "agent_name=7.0\n",
    "int(agent_name)"
   ]
  },
  {
   "cell_type": "code",
   "execution_count": 17,
   "metadata": {},
   "outputs": [
    {
     "data": {
      "text/plain": [
       "float"
      ]
     },
     "execution_count": 17,
     "metadata": {},
     "output_type": "execute_result"
    }
   ],
   "source": [
    "type(2+3.4)"
   ]
  },
  {
   "cell_type": "code",
   "execution_count": 18,
   "metadata": {},
   "outputs": [
    {
     "data": {
      "text/plain": [
       "'hey!'"
      ]
     },
     "execution_count": 18,
     "metadata": {},
     "output_type": "execute_result"
    }
   ],
   "source": [
    "'hey'+'!'"
   ]
  },
  {
   "cell_type": "code",
   "execution_count": 19,
   "metadata": {},
   "outputs": [
    {
     "data": {
      "text/plain": [
       "2"
      ]
     },
     "execution_count": 19,
     "metadata": {},
     "output_type": "execute_result"
    }
   ],
   "source": [
    "int(2.4)"
   ]
  },
  {
   "cell_type": "code",
   "execution_count": 20,
   "metadata": {},
   "outputs": [
    {
     "data": {
      "text/plain": [
       "float"
      ]
     },
     "execution_count": 20,
     "metadata": {},
     "output_type": "execute_result"
    }
   ],
   "source": [
    "type(4**(1/2))"
   ]
  },
  {
   "cell_type": "code",
   "execution_count": 25,
   "metadata": {},
   "outputs": [
    {
     "data": {
      "text/plain": [
       "'4242'"
      ]
     },
     "execution_count": 25,
     "metadata": {},
     "output_type": "execute_result"
    }
   ],
   "source": [
    "'42'*2"
   ]
  },
  {
   "cell_type": "code",
   "execution_count": 26,
   "metadata": {},
   "outputs": [
    {
     "name": "stdout",
     "output_type": "stream",
     "text": [
      "Напишите что-нибудь хорошее: sss\n"
     ]
    },
    {
     "data": {
      "text/plain": [
       "'sss'"
      ]
     },
     "execution_count": 26,
     "metadata": {},
     "output_type": "execute_result"
    }
   ],
   "source": [
    "input ('Напишите что-нибудь хорошее: ')"
   ]
  },
  {
   "cell_type": "code",
   "execution_count": 27,
   "metadata": {},
   "outputs": [
    {
     "name": "stdout",
     "output_type": "stream",
     "text": [
      "Напишите что-нибудь хорошее: ss\n"
     ]
    }
   ],
   "source": [
    "phrase = input ('Напишите что-нибудь хорошее: ')"
   ]
  },
  {
   "cell_type": "code",
   "execution_count": 30,
   "metadata": {},
   "outputs": [
    {
     "name": "stdout",
     "output_type": "stream",
     "text": [
      "Эх, это не очень редкое слово...\n"
     ]
    }
   ],
   "source": [
    "word = 'ОченьДлинноеСлово'\n",
    "if 'ф' in word:\n",
    "    print('Ого! Вы ввели редкое слово!')\n",
    "else:\n",
    "    print('Эх, это не очень редкое слово...')"
   ]
  },
  {
   "cell_type": "code",
   "execution_count": 35,
   "metadata": {},
   "outputs": [
    {
     "name": "stdout",
     "output_type": "stream",
     "text": [
      "Квадратный корень из 168 - не целое число\n"
     ]
    }
   ],
   "source": [
    "number = 168\n",
    "result = (number**(1/2))\n",
    "cel = result - int(result)\n",
    "if cel ==0:\n",
    "  print(int(result))\n",
    "else:\n",
    "  print('Квадратный корень из', number, '- не целое число')"
   ]
  },
  {
   "cell_type": "code",
   "execution_count": 4,
   "metadata": {},
   "outputs": [
    {
     "name": "stdout",
     "output_type": "stream",
     "text": [
      "8\n",
      "день не определен\n"
     ]
    }
   ],
   "source": [
    "number = int(input())\n",
    "if number==1:\n",
    "    print('понедельник')\n",
    "elif number==2:\n",
    "    print('вторник')\n",
    "elif number==3:\n",
    "    print('среда')\n",
    "elif number==4:\n",
    "    print('четверг')\n",
    "elif number==5:\n",
    "    print('пятница')\n",
    "elif number==6:\n",
    "    print('суббота')\n",
    "elif number==7:\n",
    "    print('воскресенье')\n",
    "else:\n",
    "    print('день не определен') \n",
    "    "
   ]
  },
  {
   "cell_type": "code",
   "execution_count": 15,
   "metadata": {},
   "outputs": [
    {
     "name": "stdout",
     "output_type": "stream",
     "text": [
      "8\n",
      "отлично\n"
     ]
    }
   ],
   "source": [
    "mark = int(input())\n",
    "if mark<4:\n",
    "  print('неудовлетворительно')\n",
    "elif (mark == 4 or mark == 5):\n",
    "  print('удовлетворительно')\n",
    "elif (mark == 6 or mark == 7):\n",
    "  print('хорошо')\n",
    "elif mark >= 8:\n",
    "  print('отлично')"
   ]
  },
  {
   "cell_type": "code",
   "execution_count": 16,
   "metadata": {},
   "outputs": [
    {
     "data": {
      "text/plain": [
       "True"
      ]
     },
     "execution_count": 16,
     "metadata": {},
     "output_type": "execute_result"
    }
   ],
   "source": [
    "x = 10 \n",
    "y = 15\n",
    "y > x**y - 1000 or \"test\" > \"push\""
   ]
  },
  {
   "cell_type": "code",
   "execution_count": 19,
   "metadata": {},
   "outputs": [
    {
     "name": "stdout",
     "output_type": "stream",
     "text": [
      "кристалл\n",
      "Ruby\n"
     ]
    }
   ],
   "source": [
    "fav_word = 'Аппликация'\n",
    "#fav_word=input()\n",
    "python = \"рептилия\", \"питон\", \"змея\"\n",
    "cpp = \"плюс\", \"плюсы\"\n",
    "ruby = \"рубин\", \"кристалл\"\n",
    "if fav_word in cpp:\n",
    "    print('C++')\n",
    "elif fav_word in ruby:\n",
    "    print('Ruby')\n",
    "elif fav_word in python:\n",
    "    print('Python')"
   ]
  },
  {
   "cell_type": "markdown",
   "metadata": {},
   "source": [
    "Преподаватель ведёт занятия с 10:30 до 12:00, с 13:40 до 15:00, с 18:00 до 19:30. В университет он приходит в 10 утра, а уходит - в 20 часов. Время в университете, свободное от занятий, он посвящает консультированию студентов. Напишите программу, которая помогла бы студентам подстроиться под свободное время преподавателя: пусть они вводят желаемое время (сначала одно число — часы (hour), затем второе — минуты (minute)), а программа показывает, свободен преподаватель в это время или нет (выводит на экран \"Преподаватель свободен.\" или \"Преподаватель занят.\", соответственно). Для проверки используйте hour = 18 и minute = 47"
   ]
  },
  {
   "cell_type": "code",
   "execution_count": 41,
   "metadata": {},
   "outputs": [
    {
     "name": "stdout",
     "output_type": "stream",
     "text": [
      "Преподаватель свободен.\n"
     ]
    }
   ],
   "source": [
    "from datetime import datetime, time\n",
    "#hour=int(input())\n",
    "#minutes=int(input())\n",
    "hour=19\n",
    "minute=47\n",
    "vr = time(hour, minute)\n",
    "start_time = time(10,0)\n",
    "first_lesson_start = time(10,30)\n",
    "first_lesson_end = time(12,0)\n",
    "second_lesson_start = time(13,40)\n",
    "second_lesson_end = time(15,0)\n",
    "third_lesson_start = time(18,0)\n",
    "third_lesson_end = time(19,30)\n",
    "end_time = time(20,0)\n",
    "\n",
    "if (vr>=end_time or vr<start_time) or (vr>=first_lesson_start and vr<first_lesson_end) or (vr>=second_lesson_start and vr<second_lesson_end) or (vr>=third_lesson_start and vr<third_lesson_end):\n",
    "    print('Преподаватель занят.')\n",
    "else:\n",
    "    print('Преподаватель свободен.')"
   ]
  },
  {
   "cell_type": "markdown",
   "metadata": {},
   "source": [
    "Друзья придумали свой шифр: исходные слова заменять на последовательность нечётных символов в этих словах. Например, 'python' в их шифровке будет выглядеть как 'pto'. Напишите программу, которая помогает зашифровывать слова по этой схеме: принимает на вход слово (word) и последовательно выводит каждый нечётный символ в нём. Для проверки используйте word = 'подшипник'"
   ]
  },
  {
   "cell_type": "code",
   "execution_count": 55,
   "metadata": {},
   "outputs": [
    {
     "name": "stdout",
     "output_type": "stream",
     "text": [
      "пдинк\n"
     ]
    }
   ],
   "source": [
    "#word = input()\n",
    "word = 'подшипник'\n",
    "encr = []\n",
    "for i,letter in enumerate(word):\n",
    "    if i%2 == 0:\n",
    "        encr.append(word[i])\n",
    "print(''.join(encr))"
   ]
  },
  {
   "cell_type": "code",
   "execution_count": 56,
   "metadata": {},
   "outputs": [
    {
     "name": "stdout",
     "output_type": "stream",
     "text": [
      "п\n",
      "д\n",
      "и\n",
      "н\n",
      "к\n"
     ]
    }
   ],
   "source": [
    "word = 'подшипник'\n",
    "for i, item in enumerate(word):\n",
    "    if i%2==0:\n",
    "        print(item)"
   ]
  },
  {
   "cell_type": "markdown",
   "metadata": {},
   "source": [
    "Задание 2\n",
    "1 point possible (graded)\n",
    "Вы решили написать программу, которая выявляет високосные года в диапазоне лет. Пусть она принимает на вход два числа: нижнюю и верхнюю границы годов (переменные year_1 и year_2), и для каждого года из диапазона выводит информацию: \"... год високосный\" или \"... год невисокосный\", где вместо многоточия указывается номер года.\n",
    "\n",
    "Для проверки используйте year_1 = 2013, year_2 = 2020. Значения обеих переменных должны быть включены в диапазон."
   ]
  },
  {
   "cell_type": "code",
   "execution_count": 62,
   "metadata": {},
   "outputs": [
    {
     "name": "stdout",
     "output_type": "stream",
     "text": [
      "2013 год невисокосный\n",
      "2014 год невисокосный\n",
      "2015 год невисокосный\n",
      "2016 год високосный\n",
      "2017 год невисокосный\n",
      "2018 год невисокосный\n",
      "2019 год невисокосный\n",
      "2020 год високосный\n"
     ]
    }
   ],
   "source": [
    "#year_1 = int(input())\n",
    "#year_2 = int(input())\n",
    "year_1 = 2013\n",
    "year_2 = 2020\n",
    "for i in range(year_1, year_2+1):\n",
    "    if i % 4 != 0 or (i % 100 == 0 and i % 400 != 0):\n",
    "        print(i, 'год невисокосный')\n",
    "    else:\n",
    "        print(i, 'год високосный')"
   ]
  },
  {
   "cell_type": "markdown",
   "metadata": {},
   "source": [
    "Задание 3\n",
    "1 point possible (graded)\n",
    "Напишите программу, которая принимает на вход слово (word) и последовательно выводит все русские гласные из этого слова. Для проверки используйте word = 'Зимушка-зима'"
   ]
  },
  {
   "cell_type": "code",
   "execution_count": 65,
   "metadata": {},
   "outputs": [
    {
     "name": "stdout",
     "output_type": "stream",
     "text": [
      "и\n",
      "у\n",
      "а\n",
      "и\n",
      "а\n"
     ]
    }
   ],
   "source": [
    "#word=input()\n",
    "word = 'Зимушка-зима'\n",
    "letters='а,у,о,ы,е,я,ю,ё,и,е'\n",
    "for i,letter in enumerate(word):\n",
    "    if letter in letters:\n",
    "        print(letter)"
   ]
  },
  {
   "cell_type": "markdown",
   "metadata": {},
   "source": [
    "Задание 4\n",
    "1 point possible (graded)\n",
    "Попросите пользователя ввести своё имя (name) и с помощью цикла выведите каждую букву этого имени на экран, сопроводив порядковым номером с помощью фразы: \"Буква ... в этом имени - ...\" (например, \"Буква 1 в этом имени - С\"). Для проверки используйте name = 'Сергей'"
   ]
  },
  {
   "cell_type": "code",
   "execution_count": 67,
   "metadata": {},
   "outputs": [
    {
     "name": "stdout",
     "output_type": "stream",
     "text": [
      "Буква 1 в этом имени - С\n",
      "Буква 2 в этом имени - е\n",
      "Буква 3 в этом имени - р\n",
      "Буква 4 в этом имени - г\n",
      "Буква 5 в этом имени - е\n",
      "Буква 6 в этом имени - й\n"
     ]
    }
   ],
   "source": [
    "#name=input()\n",
    "name='Сергей'\n",
    "for i,letter in enumerate(name):\n",
    "    print ('Буква', i+1, 'в этом имени -', letter)"
   ]
  },
  {
   "cell_type": "markdown",
   "metadata": {},
   "source": [
    "Задание 5\n",
    "1 point possible (graded)\n",
    "Напишите программу, которая последовательно выводит нечётные числа, которые делятся на 3 или 5, от первого введённого числа (num_1) до второго введённого числа (num_2) включительно. Если второе число меньше первого или первое число меньше нуля, выведите \"Введён неверный диапазон чисел\".\n",
    "\n",
    "Для проверки используйте num_1 = 25, num_2 = 45"
   ]
  },
  {
   "cell_type": "code",
   "execution_count": null,
   "metadata": {},
   "outputs": [],
   "source": [
    "num_1 = 25\n",
    "num_2 = 45\n",
    "#num_1=int(input())\n",
    "#num_2=int(input())\n",
    "def posled(num1, num2):\n",
    "    for i in range(num1, num2+1):\n",
    "        if i%2 != 0 and (i%3 == 0 or i%5 ==0):\n",
    "            print(i)\n",
    "if (num_2 < num_1) or (num_1 <0):\n",
    "    print('Введён неверный диапазон чисел')\n",
    "else:\n",
    "    posled(num_1, num_2)\n"
   ]
  },
  {
   "cell_type": "markdown",
   "metadata": {},
   "source": [
    "Задание 1\n",
    "1 point possible (graded)\n",
    "Выведите таблицу квадратов и кубов для чисел от 1 до 10 включительно. (Каждая новая строчка распечатывается через print() и имеет формат '2 4 8', то есть число, затем его квадрат, а затем его куб)"
   ]
  },
  {
   "cell_type": "code",
   "execution_count": 75,
   "metadata": {},
   "outputs": [
    {
     "name": "stdout",
     "output_type": "stream",
     "text": [
      "1 1 1\n",
      "2 4 8\n",
      "3 9 27\n",
      "4 16 64\n",
      "5 25 125\n",
      "6 36 216\n",
      "7 49 343\n",
      "8 64 512\n",
      "9 81 729\n",
      "10 100 1000\n"
     ]
    }
   ],
   "source": [
    "start = 1\n",
    "finish = 10\n",
    "for i in range(start, finish+1):\n",
    "    print(i,i**2,i**3)"
   ]
  },
  {
   "cell_type": "markdown",
   "metadata": {},
   "source": [
    "Задание 2\n",
    "1 point possible (graded)\n",
    "Напишите программу, которая получает на вход число (number) и последовательно в порядке возрастания выводит все его делители на экран (само число тоже является своим делителем).\n",
    "\n",
    "Для проверки используйте number = 84"
   ]
  },
  {
   "cell_type": "code",
   "execution_count": 89,
   "metadata": {},
   "outputs": [
    {
     "name": "stdout",
     "output_type": "stream",
     "text": [
      "1\n",
      "2\n",
      "3\n",
      "4\n",
      "6\n",
      "7\n",
      "12\n",
      "14\n",
      "21\n",
      "28\n",
      "42\n",
      "84\n"
     ]
    }
   ],
   "source": [
    "#number=int(input())\n",
    "number=84\n",
    "for i in range(1, number+1):\n",
    "    if number%i == 0:\n",
    "        print(i)"
   ]
  },
  {
   "cell_type": "markdown",
   "metadata": {},
   "source": [
    "Задание 3\n",
    "1 point possible (graded)\n",
    "Написать программу, которая ищет все общие (не равные 1) делители двух чисел (num_1 и num_2), введённых пользователем, и последовательно в порядке возрастания выводит их на экран. Если общих делителей нет, не выводит на экран ничего.\n",
    "\n",
    "Для проверки используйте num_1 = 12 и num_2 = 38"
   ]
  },
  {
   "cell_type": "code",
   "execution_count": 86,
   "metadata": {},
   "outputs": [
    {
     "name": "stdout",
     "output_type": "stream",
     "text": [
      "12\n",
      "2\n"
     ]
    }
   ],
   "source": [
    "#num_1=int(input())\n",
    "#num_2=int(input())\n",
    "num_1 = 12\n",
    "num_2 = 38\n",
    "if num_1 > num_2:\n",
    "    men = num_2\n",
    "else:\n",
    "    men = num_1\n",
    "print (men)\n",
    "for i in range(2, men+1):\n",
    "    if num_1%i == 0 and num_2%i == 0:\n",
    "        print(i)"
   ]
  },
  {
   "cell_type": "markdown",
   "metadata": {},
   "source": [
    "Задание 4\n",
    "1 point possible (graded)\n",
    "Написать программу, которая на вход получает натуральное число n и выводит n-е число ряда Фибоначчи на экран. Для проверки используйте n = 10\n",
    "\n",
    "Пояснение: последовательность Фибоначчи — это ряд чисел, в котором первые два элемента равны 1, а каждый следующий элемент равен сумме двух предыдущих: 1, 1, 2, 3, 5, 8, 13, 21, ..."
   ]
  },
  {
   "cell_type": "code",
   "execution_count": 97,
   "metadata": {},
   "outputs": [
    {
     "name": "stdout",
     "output_type": "stream",
     "text": [
      "55\n"
     ]
    }
   ],
   "source": [
    "#n = int(input())\n",
    "n = 10\n",
    "def fibo(n):  \n",
    "   if n <= 1:  \n",
    "       return n  \n",
    "   else:  \n",
    "       return(fibo(n-1) + fibo(n-2))\n",
    "print (fibo(n))"
   ]
  },
  {
   "cell_type": "markdown",
   "metadata": {},
   "source": [
    "Задание 5\n",
    "1 point possible (graded)\n",
    "Напишите программу, которая выводит таблицу умножения от 1 до 10 для выбранного целого числа (number). Если number = 15, то строка таблицы имеет вид \"15 X 3 = 45\".\n",
    "\n",
    "Для проверки используйте number = 15"
   ]
  },
  {
   "cell_type": "code",
   "execution_count": 100,
   "metadata": {},
   "outputs": [
    {
     "name": "stdout",
     "output_type": "stream",
     "text": [
      "15 X 1 = 15\n",
      "15 X 2 = 30\n",
      "15 X 3 = 45\n",
      "15 X 4 = 60\n",
      "15 X 5 = 75\n",
      "15 X 6 = 90\n",
      "15 X 7 = 105\n",
      "15 X 8 = 120\n",
      "15 X 9 = 135\n",
      "15 X 10 = 150\n"
     ]
    }
   ],
   "source": [
    "#number = int(input())\n",
    "number = 15\n",
    "for i in range(1, 11):\n",
    "    print(number, 'X', i, '=',number*i)"
   ]
  },
  {
   "cell_type": "code",
   "execution_count": 102,
   "metadata": {},
   "outputs": [
    {
     "name": "stdout",
     "output_type": "stream",
     "text": [
      "Идёт итерация цикла  № 0\n",
      "Идёт итерация цикла  № 1\n",
      "Идёт итерация цикла  № 2\n",
      "Идёт итерация цикла  № 4\n",
      "Выполнение цикла закончено\n"
     ]
    }
   ],
   "source": [
    "for i in range(5):\n",
    "    #i = i+1\n",
    "    if i == 3:\n",
    "        continue\n",
    "    print('Идёт итерация цикла  №', i)\n",
    "print('Выполнение цикла закончено')"
   ]
  },
  {
   "cell_type": "markdown",
   "metadata": {},
   "source": [
    "Задание 1\n",
    "0.0/1.0 point (graded)\n",
    "Напишите программу, которая ищет наибольший (не равный 1) общий делитель двух чисел, введённых пользователем (num_1, num_2), и выводит его на экран. Если общих делителей нет, выводит на экран \"Общих делителей не найдено\".\n",
    "\n",
    "Для проверки используйте num_1 = 1812, num_2 = 2500 и не меняйте их в ходе решения.\n",
    "\n",
    "PS: Если использовать break в цикле for - else, то при прерывании цикла код после else выполняться не будет."
   ]
  },
  {
   "cell_type": "code",
   "execution_count": 104,
   "metadata": {},
   "outputs": [
    {
     "name": "stdout",
     "output_type": "stream",
     "text": [
      "4\n"
     ]
    }
   ],
   "source": [
    "#num_1=int(input())\n",
    "#num_2=int(input())\n",
    "num_1 = 1812\n",
    "num_2 = 2500\n",
    "if num_1 > num_2:\n",
    "    men = num_2\n",
    "else:\n",
    "    men = num_1\n",
    "for i in range(men+1, 2, -1):\n",
    "    if num_1%i == 0 and num_2%i == 0:\n",
    "        print(i)\n",
    "        break"
   ]
  },
  {
   "cell_type": "markdown",
   "metadata": {},
   "source": [
    "Задание 2\n",
    "0.0/1.0 point (graded)\n",
    "Напишите программу с использованием оператора continue, которая принимает на вход строку (string), после чего выводит её посимвольно, но без букв \"а\", \"б\", \"в\". Пример: ввод \"арбуз\", вывод \"руз\".\n",
    "\n",
    "Для проверки используйте string = 'абстракция'\n",
    "PS: Чтобы выводить побуквенно в одну строчку, в функции print предусмотрен параметр end. Если написать print('Hallo!', end=''), следующий print продолжит вывод не с новой строки."
   ]
  },
  {
   "cell_type": "code",
   "execution_count": 105,
   "metadata": {},
   "outputs": [
    {
     "name": "stdout",
     "output_type": "stream",
     "text": [
      "стркция"
     ]
    }
   ],
   "source": [
    "#string = input()\n",
    "string = 'абстракция'\n",
    "for i, letter in enumerate(string):\n",
    "    if letter in ['а', 'б', 'в']:\n",
    "        continue\n",
    "    else:\n",
    "        print(letter, end='')"
   ]
  },
  {
   "cell_type": "markdown",
   "metadata": {},
   "source": [
    "Задание 3\n",
    "0.0/1.0 point (graded)\n",
    "Напишите программу, которая анализирует ответы пользователя на вопрос \"Любите ли вы Python?\". Если ответ пользователя (string) — \"Да\", то программа отвечает: \"Это отлично!\", иначе программа отвечает: \"Увы, это неправильный ответ\". Программа должна \"спросить\" пользователя максимум 5 раз. При пяти ответах \"Нет\" выводит: \"Это безнадёжно!\".\n",
    "\n",
    "Для проверки используйте string = 'Нет', а на каждой итерации цикла не меняйте значение переменной.\n",
    "\n",
    "Команду, выводящую на экран вопрос: \"Любите ли вы Python?\", в код включать НЕ нужно."
   ]
  },
  {
   "cell_type": "code",
   "execution_count": 111,
   "metadata": {},
   "outputs": [
    {
     "name": "stdout",
     "output_type": "stream",
     "text": [
      "Увы, это неправильный ответ\n",
      "Увы, это неправильный ответ\n",
      "Увы, это неправильный ответ\n",
      "Увы, это неправильный ответ\n",
      "Увы, это неправильный ответ\n",
      "Это безнадежно\n"
     ]
    }
   ],
   "source": [
    "string = 'Нет'\n",
    "for i in range(5):\n",
    "    #string = input()\n",
    "    if string == 'Да':\n",
    "        print('Это отлично!')\n",
    "        break\n",
    "    else:\n",
    "        print('Увы, это неправильный ответ')\n",
    "        if i == 4:\n",
    "            print('Это безнадежно')\n",
    "            "
   ]
  },
  {
   "cell_type": "markdown",
   "metadata": {},
   "source": [
    "Задание 4\n",
    "0.0/1.0 point (graded)\n",
    "Напишите программу, которая проверяет, является ли введённое число (number) простым. Если число простое, то программа выводит \"Простое\", иначе \"Не является простым\".\n",
    "\n",
    "Для проверки используйте number = 173"
   ]
  },
  {
   "cell_type": "code",
   "execution_count": 116,
   "metadata": {},
   "outputs": [
    {
     "name": "stdout",
     "output_type": "stream",
     "text": [
      "Простое\n"
     ]
    }
   ],
   "source": [
    "#number=input()\n",
    "number=173\n",
    "for i in range(2, number):\n",
    "    if number%i == 0:\n",
    "        print('Не является простым')\n",
    "        break\n",
    "    else:\n",
    "        continue\n",
    "if i == number-1:\n",
    "    print('Простое')"
   ]
  },
  {
   "cell_type": "markdown",
   "metadata": {},
   "source": [
    "Задание 5\n",
    "0.0/1.0 point (graded)\n",
    "Напишите программу, которая проверяет введённую пользователем строку (string) на соответствие правилу: у строки нет ни одной гласной русской маленькой буквы на каждой чётной позиции. Пример подходящей строки: \"пока!\" (в Python первый символ является нулевым, поэтому мы считаем первый символ чётным). Если строка подходит, программа выводит на экран \"Какая хорошая строка!\", а иначе — \"Строка мне не нравится!\".\n",
    "\n",
    "Для проверки используйте string = 'прелестная строка'"
   ]
  },
  {
   "cell_type": "code",
   "execution_count": 141,
   "metadata": {},
   "outputs": [
    {
     "name": "stdout",
     "output_type": "stream",
     "text": [
      "0\n",
      "а\n",
      "ost False\n",
      "True\n",
      "False\n",
      "1\n",
      "п\n",
      "ost True\n",
      "False\n",
      "False\n",
      "2\n",
      "а\n",
      "ost False\n",
      "True\n",
      "False\n",
      "3\n",
      "п\n",
      "ost True\n",
      "False\n",
      "False\n",
      "Строка мне не нравится!\n"
     ]
    }
   ],
   "source": [
    "#string = 'прелестная строка'\n",
    "string = 'апап'\n",
    "letters='а,у,о,ы,е,я,ю,ё,и,е'\n",
    "good = False\n",
    "for i,letter in enumerate(string):\n",
    "    print(i)\n",
    "    print(letter)\n",
    "#    print(good)\n",
    "    print('ost',i%2 != 0)\n",
    "    print(letter in letters)\n",
    "    print(i%2 != 0 and (letter in letters))\n",
    "    if i%2 != 0 and (letter in letters):\n",
    "        print('Какая хорошая строка!')\n",
    "        good = False\n",
    "        break\n",
    "    else:\n",
    "        good = True\n",
    " \n",
    "if good == True:\n",
    "    print('Строка мне не нравится!')"
   ]
  },
  {
   "cell_type": "code",
   "execution_count": 142,
   "metadata": {},
   "outputs": [
    {
     "name": "stdout",
     "output_type": "stream",
     "text": [
      "Какая хорошая строка!\n"
     ]
    }
   ],
   "source": [
    "string = 'прелестная строка'\n",
    "letters='а,у,о,ы,е,я,ю,ё,и,е'\n",
    "good = False\n",
    "for i,letter in enumerate(string):\n",
    "    if i%2 != 0 and (letter in letters):\n",
    "        print('Какая хорошая строка!')\n",
    "        good = False\n",
    "        break\n",
    "    else:\n",
    "        good = True\n",
    " \n",
    "if good == True:\n",
    "    print('Строка мне не нравится!')"
   ]
  },
  {
   "cell_type": "code",
   "execution_count": 1,
   "metadata": {},
   "outputs": [
    {
     "ename": "NameError",
     "evalue": "name 'good' is not defined",
     "output_type": "error",
     "traceback": [
      "\u001b[1;31m---------------------------------------------------------------------------\u001b[0m",
      "\u001b[1;31mNameError\u001b[0m                                 Traceback (most recent call last)",
      "\u001b[1;32m<ipython-input-1-1f8acd3265e5>\u001b[0m in \u001b[0;36m<module>\u001b[1;34m\u001b[0m\n\u001b[1;32m----> 1\u001b[1;33m \u001b[0mgood\u001b[0m\u001b[1;33m\u001b[0m\u001b[1;33m\u001b[0m\u001b[0m\n\u001b[0m",
      "\u001b[1;31mNameError\u001b[0m: name 'good' is not defined"
     ]
    }
   ],
   "source": []
  },
  {
   "cell_type": "code",
   "execution_count": 3,
   "metadata": {},
   "outputs": [
    {
     "data": {
      "text/plain": [
       "['Капустин', 'Козлов', 'Сидоров']"
      ]
     },
     "execution_count": 3,
     "metadata": {},
     "output_type": "execute_result"
    }
   ],
   "source": [
    "sparta = ['Иванов', 'Петров', 'Сидоров', 'Зайцев', 'Дятлов', \n",
    "          'Козлов', 'Лисичкин', 'Огурцов', 'Капустин', 'Арбузов']\n",
    "sparta[-2:1:-3]"
   ]
  },
  {
   "cell_type": "code",
   "execution_count": 6,
   "metadata": {},
   "outputs": [
    {
     "name": "stdout",
     "output_type": "stream",
     "text": [
      "[398, 97, 54, 31, 10]\n",
      "590\n"
     ]
    }
   ],
   "source": [
    "my_list = [1, 10, 45, 31, 12, 54, 111, 398, 97, 63]\n",
    "my_list.sort(reverse = True)\n",
    "new_list = my_list[::2]\n",
    "print(new_list)\n",
    "result = 0\n",
    "for number in new_list:\n",
    "    result += number\n",
    "print(result)"
   ]
  },
  {
   "cell_type": "code",
   "execution_count": 8,
   "metadata": {},
   "outputs": [
    {
     "name": "stdout",
     "output_type": "stream",
     "text": [
      "[1024, 512, 256, 128, 64, 32, 16, 8, 4, 2, 1]\n"
     ]
    }
   ],
   "source": [
    "my_list = [1]\n",
    "for i in range(10):\n",
    "    my_list.append(my_list[i] * 2)\n",
    "my_list.sort(reverse = True)\n",
    "print(my_list)"
   ]
  },
  {
   "cell_type": "code",
   "execution_count": 9,
   "metadata": {},
   "outputs": [
    {
     "name": "stdout",
     "output_type": "stream",
     "text": [
      "['а', 'а', 'а', 'б', 'б', 'п', 'п', 'я']\n"
     ]
    }
   ],
   "source": [
    "fruits = 'яблоко банан апельсин баклажан перец помидор арбуз ананас'.split()\n",
    "my_list = []\n",
    "for fruit in fruits:\n",
    "    my_list.append(fruit[0])\n",
    "my_list.sort()\n",
    "print(my_list)"
   ]
  },
  {
   "cell_type": "markdown",
   "metadata": {},
   "source": [
    "Задание 8\n",
    "1 point possible (graded)\n",
    "Напишите программу, которая создаёт список, содержащий целые, кратные трём числа в интервале от 1 до 50. Найдите сумму элементов этого списка. Результат вычислений сохраните в переменной с именем result."
   ]
  },
  {
   "cell_type": "code",
   "execution_count": 13,
   "metadata": {},
   "outputs": [
    {
     "name": "stdout",
     "output_type": "stream",
     "text": [
      "[3, 6, 9, 12, 15, 18, 21, 24, 27, 30, 33, 36, 39, 42, 45, 48]\n",
      "408\n"
     ]
    }
   ],
   "source": [
    "list_krat = []\n",
    "sum = 0\n",
    "for i in range(1, 50+1):\n",
    "    if i%3 == 0:\n",
    "        list_krat.append(i)\n",
    "        sum += i\n",
    "print(sum)"
   ]
  },
  {
   "cell_type": "markdown",
   "metadata": {},
   "source": [
    "Задание 9\n",
    "1 point possible (graded)\n",
    "Напишите программу, которая создаёт список my_list, содержащий длины слов из списка raw_list (дан в начале кода), и находит сумму минимального и максимального элементов нового списка (my_list). Результат вычислений (сумма минимального и максимального элементов списка my_list) присвойте переменной result."
   ]
  },
  {
   "cell_type": "code",
   "execution_count": 19,
   "metadata": {},
   "outputs": [
    {
     "name": "stdout",
     "output_type": "stream",
     "text": [
      "[10, 5, 7, 6, 7, 5, 7]\n",
      "15\n"
     ]
    }
   ],
   "source": [
    "raw_list = ['переменные', 'циклы', 'условия', 'списки', 'словари', 'файлы', 'функции']\n",
    "my_list = []\n",
    "for word in raw_list:\n",
    "    my_list.append(len(word))\n",
    "result = min(my_list)+max(my_list)\n"
   ]
  },
  {
   "cell_type": "markdown",
   "metadata": {},
   "source": [
    "Задание 10*\n",
    "1 point possible (graded)\n",
    "Дан список raw_list (содержимое списка приведено в начале кода). Найдите минимальное (x_min) и максимальное (x_max) значения элементов данного списка.\n",
    "\n",
    "Создайте новый список my_list, состоящий из элементов списка raw_list, умноженных на x_min, если элемент является чётным числом, и на x_max, в случае если элемент нечётный.\n",
    "\n",
    "Найдите максимальное значение списка my_list. Результат присвойте переменной result."
   ]
  },
  {
   "cell_type": "code",
   "execution_count": 22,
   "metadata": {},
   "outputs": [
    {
     "name": "stdout",
     "output_type": "stream",
     "text": [
      "2 71\n",
      "5041\n"
     ]
    }
   ],
   "source": [
    "my_list = []\n",
    "raw_list = [2, 8, 10, 23, 64, 49, 11, 52, 71, 14]\n",
    "x_min = min(raw_list)\n",
    "x_max = max(raw_list)\n",
    "print(x_min, x_max)\n",
    "for i in raw_list:\n",
    "    if i % 2 == 0:\n",
    "        my_list.append(i * x_min)\n",
    "    else:\n",
    "        my_list.append(i * x_max)\n",
    "result = (max(my_list))"
   ]
  },
  {
   "cell_type": "markdown",
   "metadata": {},
   "source": [
    "Задание 9\n",
    "1 point possible (graded)\n",
    "Перепишите привёденный ниже код, используя генератор списков. Полученный в результате работы генератора список должен иметь имя my_list."
   ]
  },
  {
   "cell_type": "code",
   "execution_count": 1,
   "metadata": {},
   "outputs": [
    {
     "name": "stdout",
     "output_type": "stream",
     "text": [
      "[2.6457513110645907, 3.7416573867739413, 4.58257569495584, 5.291502622129181, 5.916079783099616, 6.48074069840786, 7.0]\n"
     ]
    }
   ],
   "source": [
    "my_list = []\n",
    "for x in range(1, 50):\n",
    "    if x%7 == 0:\n",
    "        my_list.append(x**0.5)\n",
    "print(my_list)"
   ]
  },
  {
   "cell_type": "code",
   "execution_count": 7,
   "metadata": {},
   "outputs": [
    {
     "name": "stdout",
     "output_type": "stream",
     "text": [
      "[2.6457513110645907, 3.7416573867739413, 4.58257569495584, 5.291502622129181, 5.916079783099616, 6.48074069840786, 7.0]\n"
     ]
    }
   ],
   "source": [
    "my_list = [x**0.5 for x in range(1, 50) if x%7 == 0]\n",
    "print(my_list)"
   ]
  },
  {
   "cell_type": "markdown",
   "metadata": {},
   "source": [
    "Задание 10*\n",
    "1 point possible (graded)\n",
    "Перепишите привёденный ниже код, используя генератор списков. Полученный в результате работы генератора список должен иметь имя my_list."
   ]
  },
  {
   "cell_type": "code",
   "execution_count": 8,
   "metadata": {},
   "outputs": [
    {
     "name": "stdout",
     "output_type": "stream",
     "text": [
      "[9, 10, 11, 12, 13, 14, 15, 16, 17, 18]\n"
     ]
    }
   ],
   "source": [
    "my_list = []\n",
    "for x in range(90, 100):\n",
    "    first_digit = x//10\n",
    "    last_digit = x%10\n",
    "    my_list.append(first_digit + last_digit)\n",
    "print(my_list)"
   ]
  },
  {
   "cell_type": "code",
   "execution_count": 13,
   "metadata": {},
   "outputs": [
    {
     "name": "stdout",
     "output_type": "stream",
     "text": [
      "[9, 10, 11, 12, 13, 14, 15, 16, 17, 18]\n"
     ]
    }
   ],
   "source": [
    "my_list = [x//10 + x%10 for x in range(90, 100)]\n",
    "print (my_list)"
   ]
  },
  {
   "cell_type": "code",
   "execution_count": 14,
   "metadata": {},
   "outputs": [],
   "source": [
    "employee_base = {\n",
    "    'Мария Никитина': '+79033923029',\n",
    "    'Егор Савичев': '+78125849204',\n",
    "    'Александр Пахомов': '+79053049385',\n",
    "    'Алина Егорова': '+79265748370',\n",
    "    'Руслан Башаров': '+79030598495',\n",
    "}"
   ]
  },
  {
   "cell_type": "markdown",
   "metadata": {},
   "source": [
    "Жеребьевка Чемпионата мира-2018\n",
    "1 point possible (graded)\n",
    "Дан словарь с результатами жеребьевки Чемпионата мира по футболу-2018 пяти стран по группам:\n",
    "Напишите код, который по названию страны country присваивает переменной group название группы по результатам жеребьевки. Если страны нет в словаре draw_dict, то переменной group присваивается значение 'unknown'. Выполните код для значения country = 'Италия'."
   ]
  },
  {
   "cell_type": "code",
   "execution_count": 20,
   "metadata": {},
   "outputs": [],
   "source": [
    "draw_dict = {\n",
    "    'Россия': 'A',\n",
    "    'Португалия': 'B',\n",
    "    'Франция': 'C',\n",
    "    'Дания': 'C',\n",
    "    'Египет': 'A'\n",
    "}\n",
    "country = 'Италия'\n",
    "if country in draw_dict:\n",
    "    group = draw_dict[country]\n",
    "else:\n",
    "    group = 'unknown'"
   ]
  },
  {
   "cell_type": "markdown",
   "metadata": {},
   "source": [
    "Жеребьевка Чемпионата мира-2018\n",
    "1 point possible (graded)\n",
    "Решите предыдущую задачу, используя метод setdefault. Вместо проверки на наличие ключа вы можете сразу назначить значение по умолчанию 'unknown'. Проверьте работу кода для country = 'Италия'. Результат запишите в переменную group"
   ]
  },
  {
   "cell_type": "code",
   "execution_count": 21,
   "metadata": {},
   "outputs": [],
   "source": [
    "draw_dict = {\n",
    "    'Россия': 'A',\n",
    "    'Португалия': 'B',\n",
    "    'Франция': 'C',\n",
    "    'Дания': 'C',\n",
    "    'Египет': 'A'\n",
    "}\n",
    "country = 'Италия'\n",
    "draw_dict.setdefault(country, 'unknown')\n",
    "group = draw_dict[country]"
   ]
  },
  {
   "cell_type": "markdown",
   "metadata": {},
   "source": [
    "Фильтрация результатов жеребьевки\n",
    "1 point possible (graded)\n",
    "Отфильтруйте словарь draw_dict, оставив в нем только страны группы A. Отфильтрованный результат запишите в новый словарь draw_new"
   ]
  },
  {
   "cell_type": "code",
   "execution_count": 27,
   "metadata": {},
   "outputs": [
    {
     "name": "stdout",
     "output_type": "stream",
     "text": [
      "{'Россия': 'A', 'Египет': 'A'}\n"
     ]
    }
   ],
   "source": [
    "draw_dict = {\n",
    "    'Россия': 'A',\n",
    "    'Португалия': 'B',\n",
    "    'Франция': 'C',\n",
    "    'Дания': 'C',\n",
    "    'Египет': 'A'\n",
    "}\n",
    "draw_new = {}\n",
    "for country in draw_dict.keys():\n",
    "    if draw_dict[country] == 'A':\n",
    "        draw_new[country] = 'A'\n"
   ]
  },
  {
   "cell_type": "markdown",
   "metadata": {},
   "source": [
    "Фильтрация результатов жеребьевки\n",
    "1 point possible (graded)\n",
    "Отфильтруйте словарь draw_dict с помощью метода items, оставив в нем только страны группы A. Отфильтрованный результат запишите в новый словарь draw_new"
   ]
  },
  {
   "cell_type": "code",
   "execution_count": 30,
   "metadata": {},
   "outputs": [],
   "source": [
    "draw_dict = {\n",
    "    'Россия': 'A',\n",
    "    'Португалия': 'B',\n",
    "    'Франция': 'C',\n",
    "    'Дания': 'C',\n",
    "    'Египет': 'A'\n",
    "}\n",
    "draw_new = {}\n",
    "for country, grade in draw_dict.items():\n",
    "    if grade == 'A':\n",
    "        draw_new[country] = grade\n",
    "    "
   ]
  },
  {
   "cell_type": "markdown",
   "metadata": {},
   "source": [
    "Задание 1\n",
    "Сотрудник ведет запись ежедневных расходов по партнерам. Он мог бы записывать суммы за 1-3 апреля в знакомые нам списки, но это не очень удобно: [2504, 4994, 6343]. Оформите расходы в словарь, в котором ключами являются даты ('2019-04-01', '2019-04-02', '2019-04-03' апреля), а значениями — суммы расходов (2504, 4994 и 6343 рублей соответственно)."
   ]
  },
  {
   "cell_type": "code",
   "execution_count": 32,
   "metadata": {},
   "outputs": [],
   "source": [
    "spending = {\n",
    "    '2019-04-01':2504, \n",
    "    '2019-04-02':4994,\n",
    "    '2019-04-03':6343\n",
    "}\n"
   ]
  },
  {
   "cell_type": "markdown",
   "metadata": {},
   "source": [
    "Задание 2\n",
    "1 point possible (graded)\n",
    "Посчитайте сумму расходов из словаря первой задачи"
   ]
  },
  {
   "cell_type": "code",
   "execution_count": 33,
   "metadata": {},
   "outputs": [
    {
     "name": "stdout",
     "output_type": "stream",
     "text": [
      "13841\n"
     ]
    }
   ],
   "source": [
    "spending = {\n",
    "    '2019-04-01':2504, \n",
    "    '2019-04-02':4994,\n",
    "    '2019-04-03':6343\n",
    "}\n",
    "how_many = 0\n",
    "for spend in spending.values():\n",
    "    how_many += spend\n",
    "print(how_many)"
   ]
  },
  {
   "cell_type": "code",
   "execution_count": 34,
   "metadata": {},
   "outputs": [
    {
     "name": "stdout",
     "output_type": "stream",
     "text": [
      "Пульсометр Beurer PM62\n"
     ]
    }
   ],
   "source": [
    "csv_file = [\n",
    "    ['100412', 'Ботинки для горных лыж ATOMIC Hawx Prime 100', 9],\n",
    "    ['100728', 'Скейтборд Jdbug RT03', 32],\n",
    "    ['100732', 'Роллерсерф Razor RipStik Bright', 11],\n",
    "    ['100803', 'Ботинки для сноуборда DC Tucknee', 20],\n",
    "    ['100898', 'Шагомер Omron HJA-306', 2],\n",
    "    ['100934', 'Пульсометр Beurer PM62', 17],\n",
    "]\n",
    "pulsometer_id = csv_file[5][1]\n",
    "print(pulsometer_id)"
   ]
  },
  {
   "cell_type": "markdown",
   "metadata": {},
   "source": [
    "Фильтрация товарных позиций по количеству\n",
    "1 point possible (graded)\n",
    "Отфильтруйте список товарных позиций csv_file, оставив только те позиции, у которых количество штук на складе больше 10. Результат запишите в переменную csv_file_filtered"
   ]
  },
  {
   "cell_type": "code",
   "execution_count": 37,
   "metadata": {},
   "outputs": [
    {
     "name": "stdout",
     "output_type": "stream",
     "text": [
      "[['100728', 'Скейтборд Jdbug RT03', 32], ['100732', 'Роллерсерф Razor RipStik Bright', 11], ['100803', 'Ботинки для сноуборда DC Tucknee', 20], ['100934', 'Пульсометр Beurer PM62', 17]]\n"
     ]
    }
   ],
   "source": [
    "csv_file = [\n",
    "    ['100412', 'Ботинки для горных лыж ATOMIC Hawx Prime 100', 9],\n",
    "    ['100728', 'Скейтборд Jdbug RT03', 32],\n",
    "    ['100732', 'Роллерсерф Razor RipStik Bright', 11],\n",
    "    ['100803', 'Ботинки для сноуборда DC Tucknee', 20],\n",
    "    ['100898', 'Шагомер Omron HJA-306', 2],\n",
    "    ['100934', 'Пульсометр Beurer PM62', 17],\n",
    "]\n",
    "csv_file_filtered = []\n",
    "for record in csv_file:\n",
    "    if record[2] > 10:\n",
    "        csv_file_filtered.append(record)\n",
    "print (csv_file_filtered)\n",
    "        "
   ]
  },
  {
   "cell_type": "markdown",
   "metadata": {},
   "source": [
    "Фильтрация товарных словарей\n",
    "1 point possible (graded)\n",
    "Разработчики поменяли формат выгрузки из базы данных товарных позиций. Теперь это список словарей, каждый столбец в котором имеет имя. Напишите код, который оставляет только те товары, в названии которых есть слово \"Ботинки\". Результат запишите в переменную csv_dict_boots"
   ]
  },
  {
   "cell_type": "code",
   "execution_count": 39,
   "metadata": {},
   "outputs": [
    {
     "name": "stdout",
     "output_type": "stream",
     "text": [
      "[{'id': '100412', 'position': 'Ботинки для горных лыж ATOMIC Hawx Prime 100', 'count': 9}, {'id': '100803', 'position': 'Ботинки для сноуборда DC Tucknee', 'count': 20}]\n"
     ]
    }
   ],
   "source": [
    "csv_dict = [\n",
    "    {'id': '100412', 'position': 'Ботинки для горных лыж ATOMIC Hawx Prime 100', 'count': 9},\n",
    "    {'id': '100728', 'position': 'Скейтборд Jdbug RT03', 'count': 32},\n",
    "    {'id': '100732', 'position': 'Роллерсерф Razor RipStik Bright', 'count': 11},\n",
    "    {'id': '100803', 'position': 'Ботинки для сноуборда DC Tucknee', 'count': 20},\n",
    "    {'id': '100898', 'position': 'Шагомер Omron HJA-306', 'count': 2},\n",
    "    {'id': '100934', 'position': 'Пульсометр Beurer PM62', 'count': 17},\n",
    "]\n",
    "csv_dict_boots = []\n",
    "for record in csv_dict:\n",
    "    if 'Ботинки' in record['position']:\n",
    "        csv_dict_boots.append(record)\n",
    "print(csv_dict_boots)"
   ]
  },
  {
   "cell_type": "code",
   "execution_count": 40,
   "metadata": {},
   "outputs": [],
   "source": [
    "contacts = {\n",
    "    'Борискин Владимир': {\n",
    "        'tel': '5387',\n",
    "        'position': 'менеджер'\n",
    "    },\n",
    "    \n",
    "    'Сомова Наталья': {\n",
    "        'tel': '5443',\n",
    "        'position': 'разработчик'\n",
    "    },\n",
    "}"
   ]
  },
  {
   "cell_type": "code",
   "execution_count": 42,
   "metadata": {},
   "outputs": [
    {
     "name": "stdout",
     "output_type": "stream",
     "text": [
      "98\n"
     ]
    }
   ],
   "source": [
    "results = [\n",
    "    {'cost': 98, 'source': 'vk'},\n",
    "    {'cost': 153, 'source': 'yandex'},\n",
    "    {'cost': 110, 'source': 'facebook'},\n",
    "]\n",
    "min_cost = results[0]['cost']\n",
    "for i in results:\n",
    "    if i['cost'] <= min_cost:\n",
    "        min_cost = i['cost']\n",
    "print(min_cost)\n",
    "    "
   ]
  },
  {
   "cell_type": "code",
   "execution_count": 44,
   "metadata": {},
   "outputs": [
    {
     "ename": "TypeError",
     "evalue": "list indices must be integers or slices, not str",
     "output_type": "error",
     "traceback": [
      "\u001b[1;31m---------------------------------------------------------------------------\u001b[0m",
      "\u001b[1;31mTypeError\u001b[0m                                 Traceback (most recent call last)",
      "\u001b[1;32m<ipython-input-44-c52afc821887>\u001b[0m in \u001b[0;36m<module>\u001b[1;34m\u001b[0m\n\u001b[0;32m      4\u001b[0m     \u001b[1;33m{\u001b[0m\u001b[1;34m'cost'\u001b[0m\u001b[1;33m:\u001b[0m \u001b[1;36m110\u001b[0m\u001b[1;33m,\u001b[0m \u001b[1;34m'source'\u001b[0m\u001b[1;33m:\u001b[0m \u001b[1;34m'facebook'\u001b[0m\u001b[1;33m}\u001b[0m\u001b[1;33m,\u001b[0m\u001b[1;33m\u001b[0m\u001b[1;33m\u001b[0m\u001b[0m\n\u001b[0;32m      5\u001b[0m ]\n\u001b[1;32m----> 6\u001b[1;33m \u001b[0mprint\u001b[0m \u001b[1;33m=\u001b[0m \u001b[0mmin\u001b[0m\u001b[1;33m(\u001b[0m\u001b[0mresults\u001b[0m\u001b[1;33m[\u001b[0m\u001b[1;34m'cost'\u001b[0m\u001b[1;33m]\u001b[0m\u001b[1;33m)\u001b[0m\u001b[1;33m\u001b[0m\u001b[1;33m\u001b[0m\u001b[0m\n\u001b[0m\u001b[0;32m      7\u001b[0m \u001b[0mprint\u001b[0m\u001b[1;33m(\u001b[0m\u001b[0mmin_cost\u001b[0m\u001b[1;33m)\u001b[0m\u001b[1;33m\u001b[0m\u001b[1;33m\u001b[0m\u001b[0m\n",
      "\u001b[1;31mTypeError\u001b[0m: list indices must be integers or slices, not str"
     ]
    }
   ],
   "source": [
    "results = [\n",
    "    {'cost': 98, 'source': 'vk'},\n",
    "    {'cost': 153, 'source': 'yandex'},\n",
    "    {'cost': 110, 'source': 'facebook'},\n",
    "]\n",
    "print = min(results['cost'])\n",
    "print(min_cost)"
   ]
  },
  {
   "cell_type": "markdown",
   "metadata": {},
   "source": [
    "Задание 3\n",
    "1 point possible (graded)\n",
    "На каждом этапе производственной линии закладываются отклонения от исходных размеров, ведущие к деформации, т. е. после каждого этапа размер детали умножается на значение ключа damage:"
   ]
  },
  {
   "cell_type": "code",
   "execution_count": 49,
   "metadata": {},
   "outputs": [
    {
     "name": "stdout",
     "output_type": "stream",
     "text": [
      "0.98\n",
      "0.9702\n",
      "0.960498\n",
      "0.9220780799999999\n",
      "0.8944157375999999\n",
      "5\n"
     ]
    }
   ],
   "source": [
    "defect_stats = [\n",
    "    {'step number': 1, 'damage': 0.98},\n",
    "    {'step number': 2, 'damage': 0.99},\n",
    "    {'step number': 3, 'damage': 0.99},\n",
    "    {'step number': 4, 'damage': 0.96},\n",
    "    {'step number': 5, 'damage': 0.97},\n",
    "    {'step number': 6, 'damage': 0.97},\n",
    "]\n",
    "size = 1\n",
    "for i in defect_stats:\n",
    "    if size > 0.9:\n",
    "        size = size * i['damage']\n",
    "        print(size)\n",
    "    else:\n",
    "        print (i['step number'] - 1)\n",
    "        break\n"
   ]
  },
  {
   "cell_type": "markdown",
   "metadata": {},
   "source": [
    "Задание 4\n",
    "1 point possible (graded)\n",
    "Имеется статистика курсов валют. Какая валюта имеет минимальный курс по отношению к рублю за 1 единицу? Для определения курса валюты необходимо значение ключа 'Value' разделить на значение ключа 'Nominal'. В качестве ответа укажите код валюты (например, AUD)"
   ]
  },
  {
   "cell_type": "code",
   "execution_count": 96,
   "metadata": {},
   "outputs": [
    {
     "name": "stdout",
     "output_type": "stream",
     "text": [
      "{'AMD': 0.13121, 'AUD': 45.5309, 'INR': 0.929658, 'MDL': 3.6930500000000004}\n",
      "AMD\n"
     ]
    }
   ],
   "source": [
    "currency = {\n",
    "    'AMD': {\n",
    "        'Name': 'Армянских драмов',\n",
    "        'Nominal': 100,\n",
    "        'Value': 13.121\n",
    "    },\n",
    "\n",
    "    'AUD': {\n",
    "        'Name': 'Австралийский доллар',\n",
    "        'Nominal': 1,\n",
    "        'Value': 45.5309\n",
    "    },\n",
    "\n",
    "    'INR': {\n",
    "        'Name': 'Индийских рупий',\n",
    "        'Nominal': 100,\n",
    "        'Value': 92.9658\n",
    "    },\n",
    "\n",
    "    'MDL': {\n",
    "        'Name': 'Молдавских леев',\n",
    "        'Nominal': 10,\n",
    "        'Value': 36.9305\n",
    "    },\n",
    "}\n",
    "result = {}\n",
    "for currence, detail in currency.items():\n",
    "    kurs = detail['Value'] / detail['Nominal']\n",
    "    result[currence]=kurs\n",
    "print (result)\n",
    "for i in result:\n",
    "    if result[i] == min(result.values()):\n",
    "        print (i)\n"
   ]
  },
  {
   "cell_type": "markdown",
   "metadata": {},
   "source": [
    "Задание 5\n",
    "1 point possible (graded)\n",
    "Согласно сайту www.bodycounters.com в четырех частях фильма “Пираты Карибского моря” было довольно много погибших. Вот их статистика:\n",
    "Напишите скрипт, который считает общее число погибших живых существ во всех сериях. Укажите итоговое число в качестве ответа. Пиратов-зомби в последней части тоже считайте живыми.\n",
    "\n"
   ]
  },
  {
   "cell_type": "code",
   "execution_count": 103,
   "metadata": {},
   "outputs": [
    {
     "name": "stdout",
     "output_type": "stream",
     "text": [
      "225\n"
     ]
    }
   ],
   "source": [
    "bodycount = {\n",
    "    'Проклятие Черной жемчужины': {\n",
    "        'человек': 17\n",
    "    }, \n",
    "\n",
    "    'Сундук мертвеца': {\n",
    "        'человек': 56,\n",
    "        'раков-отшельников': 1\n",
    "    },\n",
    "\n",
    "    'На краю света': {\n",
    "        'человек': 88\n",
    "    },\n",
    "\n",
    "    'На странных берегах': {\n",
    "        'человек': 56,\n",
    "        'русалок': 2,\n",
    "        'ядовитых жаб': 3,\n",
    "        'пиратов зомби': 2\n",
    "    }\n",
    "}\n",
    "victims = 0\n",
    "for part in bodycount.values():\n",
    "    for victim in part.values():\n",
    "        victims += victim\n",
    "        \n",
    "print(victims)"
   ]
  },
  {
   "cell_type": "code",
   "execution_count": 127,
   "metadata": {},
   "outputs": [
    {
     "name": "stdout",
     "output_type": "stream",
     "text": [
      "107\n",
      "['page', 'page', 'page', 'datepicker', 'table', 'table', 'table', 'table', 'datepicker', 'datepicker', 'datepicker', 'datepicker', 'datepicker', 'page', 'page', 'page', 'page', 'page', 'page', 'page', 'page', 'page', 'page', 'page', 'page', 'page', 'page', 'page', 'page', 'page', 'page', 'page', 'page', 'report', 'report', 'report', 'report', 'page', 'report', 'page', 'page', 'page', 'table', 'table', 'table', 'table', 'page', 'page', 'page', 'page', 'page', 'page', 'page', 'page', 'page', 'page', 'page', 'page', 'report', 'page', 'page', 'page', 'page', 'page', 'report', 'page', 'page', 'page', 'page', 'page', 'page', 'page', 'page', 'page', 'page', 'page', 'page', 'page', 'datepicker', 'datepicker', 'datepicker', 'datepicker', 'datepicker', 'datepicker', 'datepicker', 'page', 'page', 'page', 'page', 'page', 'page', 'report', 'table', 'table', 'datepicker', 'datepicker', 'page', 'page', 'page', 'page', 'page', 'page', 'page', 'page', 'page', 'page', 'page']\n",
      "Counter({'page': 74, 'datepicker': 15, 'table': 10, 'report': 8})\n",
      "[27115, 27115, 27115, 27115, 60459, 60459, 60459, 60459, 58113, 58113]\n",
      "Counter({27115: 4, 60459: 4, 58113: 2})\n",
      "3\n",
      "4\n",
      "------------------------------------------------------\n",
      "[62526, 61944, 27115, 27115, 27115, 27115, 27115, 27115, 27115, 27115, 27115, 27115, 27115, 62017, 63120, 59883, 2913, 62940, 63149, 45391, 18923, 63019, 18923, 18923, 15759, 62007, 62941, 51009, 62236, 44682, 39709, 60459, 62144, 60459, 60459, 60459, 60459, 60459, 60459, 52492, 52492, 60459, 60459, 60459, 60459, 60459, 52492, 18923, 25301, 18923, 33645, 62089, 26705, 1103, 62439, 44196, 62602, 62602, 62602, 62602, 62602, 62602, 62602, 62602, 62602, 62602, 62602, 50149, 57009, 57207, 32792, 27323, 24500, 24500, 58330, 61245, 19799, 56544, 56544, 56544, 56544, 56544, 56544, 56544, 56544, 23207, 23207, 23207, 23207, 48128, 58113, 58113, 58113, 58113, 58113, 58113, 58113, 57613, 61244, 53666, 53018, 53666, 41737, 61078, 20820, 41737, 49700]\n",
      "Counter({60459: 12, 27115: 11, 62602: 11, 56544: 8, 58113: 7, 18923: 5, 23207: 4, 52492: 3, 24500: 2, 53666: 2, 41737: 2, 62526: 1, 61944: 1, 62017: 1, 63120: 1, 59883: 1, 2913: 1, 62940: 1, 63149: 1, 45391: 1, 63019: 1, 15759: 1, 62007: 1, 62941: 1, 51009: 1, 62236: 1, 44682: 1, 39709: 1, 62144: 1, 25301: 1, 33645: 1, 62089: 1, 26705: 1, 1103: 1, 62439: 1, 44196: 1, 50149: 1, 57009: 1, 57207: 1, 32792: 1, 27323: 1, 58330: 1, 61245: 1, 19799: 1, 48128: 1, 57613: 1, 61244: 1, 53018: 1, 61078: 1, 20820: 1, 49700: 1})\n",
      "51\n",
      "12\n",
      "------------------------------------------------------\n",
      "[62526, 61944, 27115, 62017, 63120, 59883, 2913, 62940, 63149, 45391, 18923, 63019, 18923, 18923, 15759, 62007, 62941, 51009, 62236, 44682, 39709, 60459, 62144, 60459, 52492, 52492, 60459, 52492, 18923, 25301, 18923, 33645, 62089, 26705, 1103, 62439, 44196, 62602, 62602, 62602, 62602, 62602, 62602, 62602, 62602, 62602, 50149, 57009, 57207, 32792, 27323, 24500, 24500, 58330, 61245, 19799, 56544, 23207, 23207, 23207, 23207, 48128, 58113, 58113, 57613, 61244, 53666, 53018, 53666, 41737, 61078, 20820, 41737, 49700]\n",
      "Counter({62602: 9, 18923: 5, 23207: 4, 60459: 3, 52492: 3, 24500: 2, 58113: 2, 53666: 2, 41737: 2, 62526: 1, 61944: 1, 27115: 1, 62017: 1, 63120: 1, 59883: 1, 2913: 1, 62940: 1, 63149: 1, 45391: 1, 63019: 1, 15759: 1, 62007: 1, 62941: 1, 51009: 1, 62236: 1, 44682: 1, 39709: 1, 62144: 1, 25301: 1, 33645: 1, 62089: 1, 26705: 1, 1103: 1, 62439: 1, 44196: 1, 50149: 1, 57009: 1, 57207: 1, 32792: 1, 27323: 1, 58330: 1, 61245: 1, 19799: 1, 56544: 1, 48128: 1, 57613: 1, 61244: 1, 53018: 1, 61078: 1, 20820: 1, 49700: 1})\n",
      "51\n",
      "9\n",
      "------------------------------------------------------\n",
      "[60459, 60459, 60459, 60459, 60459, 62602, 62602, 58113]\n",
      "Counter({60459: 5, 62602: 2, 58113: 1})\n"
     ]
    }
   ],
   "source": [
    "import json\n",
    "import collections\n",
    "with open('data.json', 'rb') as infile:\n",
    "    data = json.load(infile)\n",
    "data_list = data['events_data']\n",
    "print(len(data_list))\n",
    "categories = []\n",
    "for item in data_list:\n",
    "    category = item['category']\n",
    "    categories.append(category)\n",
    "print(categories)\n",
    "\n",
    "c = collections.Counter()\n",
    "for category in categories:\n",
    "    c[category] += 1\n",
    "print (c)\n",
    "\n",
    "table_clients = []\n",
    "for item in data_list:\n",
    "    client_id = item['client_id']\n",
    "    category = item['category']\n",
    "    if category == 'table':\n",
    "        table_clients.append(client_id)\n",
    "print(table_clients)\n",
    "\n",
    "c = collections.Counter()\n",
    "for table_client in table_clients:\n",
    "    c[table_client] += 1\n",
    "print (c)\n",
    "\n",
    "print (len(c.keys()))\n",
    "\n",
    "print(c[27115])\n",
    "print('------------------------------------------------------')\n",
    "\n",
    "events_clients = []\n",
    "for item in data_list:\n",
    "    client_id = item['client_id']\n",
    "    category = item['category']\n",
    "    events_clients.append(client_id)\n",
    "print(events_clients)\n",
    "c = collections.Counter()\n",
    "for event_client in events_clients:\n",
    "    c[event_client] += 1\n",
    "print (c)\n",
    "print (len(c.keys()))\n",
    "print(c[60459])\n",
    "\n",
    "print('------------------------------------------------------')\n",
    "\n",
    "events_clients = []\n",
    "for item in data_list:\n",
    "    client_id = item['client_id']\n",
    "    category = item['category']\n",
    "    if category == 'page':\n",
    "        events_clients.append(client_id)\n",
    "print(events_clients)\n",
    "c = collections.Counter()\n",
    "for event_client in events_clients:\n",
    "    c[event_client] += 1\n",
    "print (c)\n",
    "print (len(c.keys()))\n",
    "print(c[62602])\n",
    "\n",
    "print('------------------------------------------------------')\n",
    "\n",
    "events_clients = []\n",
    "for item in data_list:\n",
    "    client_id = item['client_id']\n",
    "    category = item['category']\n",
    "    if category == 'report':\n",
    "        events_clients.append(client_id)\n",
    "print(events_clients)\n",
    "c = collections.Counter()\n",
    "for event_client in events_clients:\n",
    "    c[event_client] += 1\n",
    "print (c)\n",
    "\n"
   ]
  },
  {
   "cell_type": "markdown",
   "metadata": {},
   "source": [
    "Задание 4\n",
    "1 point possible (graded)\n",
    "Дана переменная string, в которой нужно заменить все знаки препинания на смайлики (':)'). Знаками препинания считайте символы: точка, запятая, двоеточие, тире (дефис), восклицательный и вопросительный знаки. Значение переменной string должно измениться в процессе выполнения программы.\n",
    "\n",
    "Решите задачу для string = 'Тяжёлая интернет-зависимость - это когда ты выходишь из интернета, а он из тебя нет.'\n",
    "\n",
    "Пример:\n",
    "исходное значение переменной: string = 'Привет, Андрей!'\n",
    "итоговое значение переменной: string = 'Привет:) Андрей:)'"
   ]
  },
  {
   "cell_type": "code",
   "execution_count": 2,
   "metadata": {},
   "outputs": [
    {
     "name": "stdout",
     "output_type": "stream",
     "text": [
      "Тяжёлая интернет:)зависимость :) это когда ты выходишь из интернета:) а он из тебя нет:)\n"
     ]
    }
   ],
   "source": [
    "string = 'Тяжёлая интернет-зависимость - это когда ты выходишь из интернета, а он из тебя нет.'\n",
    "string = string.replace('-', ':)')\n",
    "string = string.replace(',', ':)')\n",
    "string = string.replace('.', ':)')\n",
    "print (string)"
   ]
  },
  {
   "cell_type": "markdown",
   "metadata": {},
   "source": [
    "Задание 5*\n",
    "1 point possible (graded)\n",
    "Дана переменная name, в которой хранится имя пользователя, записанное русскими буквами. Напишите программу, которая перебирает имя по буквам и для каждой буквы выводит сообщение: \"... - гласная буква\" или \"... - согласная буква\", где вместо многоточия нужно подставить букву из имени пользователя.\n",
    "\n",
    "Значение переменной name не должно меняться в ходе выполнения программы. В сообщениях, выводимых на экран, буквы из имени пользователя должны выводиться в том же регистре, в котором они присутствуют в переменной name.\n",
    "\n",
    "Решите задачу для name = 'Севастиан'\n",
    "\n",
    "Пример работы программы для имени Анна:\n",
    "А - гласная буква\n",
    "н - согласная буква\n",
    "н - согласная буква\n",
    "а - гласная буква\n",
    "Подсказка: чтобы избавить себя от необходимости выполнять проверку сложного составного условия, вы можете создать два списка с буквами: в одном хранить гласные буквы, а в другом — согласные."
   ]
  },
  {
   "cell_type": "code",
   "execution_count": 10,
   "metadata": {},
   "outputs": [
    {
     "name": "stdout",
     "output_type": "stream",
     "text": [
      "С - согласная буква\n",
      "е - гласная буква\n",
      "в - согласная буква\n",
      "а - гласная буква\n",
      "с - согласная буква\n",
      "т - согласная буква\n",
      "и - гласная буква\n",
      "а - гласная буква\n",
      "н - согласная буква\n"
     ]
    }
   ],
   "source": [
    "name = 'Севастиан'\n",
    "vowels = ['а', 'о', 'и', 'е', 'ё', 'э', 'ы', 'у', 'ю', 'я']\n",
    "for i in range(len(name)):\n",
    "    if name[i].lower() in vowels:\n",
    "        print(name[i],'- гласная буква')\n",
    "    else:\n",
    "        print(name[i],'- согласная буква')"
   ]
  },
  {
   "cell_type": "markdown",
   "metadata": {},
   "source": [
    "Регулярка\n"
   ]
  },
  {
   "cell_type": "code",
   "execution_count": 20,
   "metadata": {},
   "outputs": [
    {
     "name": "stdout",
     "output_type": "stream",
     "text": [
      "['расширяемый', 'программированию).', 'пресмыкающихся.', '\"Летающий']\n"
     ]
    }
   ],
   "source": [
    "import re\n",
    "text = 'Разработка языка Python была начата в конце 1980-х годов сотрудником голландского института CWI Гвидо ван Россумом. Для распределённой ОС Amoeba требовался расширяемый скриптовый язык, и Гвидо начал писать Python на досуге, позаимствовав некоторые наработки для языка ABC (Гвидо участвовал в разработке этого языка, ориентированного на обучение программированию). В феврале 1991 года Гвидо опубликовал исходный текст в группе новостей alt.sources. Название языка произошло вовсе не от вида пресмыкающихся. Автор назвал язык в честь популярного британского комедийного телешоу 1970-х \"Летающий цирк Монти Пайтона\".'\n",
    "#reg = re.compile('\\d+')\n",
    "#print(reg.search(text))\n",
    "#reg = re.compile('[A-Za-z]+')\n",
    "#print(reg.findall(text))\n",
    "#reg = re.compile('[А-Яа-я]+ка')\n",
    "#print(reg.findall(text))\n",
    "reg = re.compile('\\S*[а]\\S\\S[и]\\S*')\n",
    "print(reg.findall(text))\n",
    "\n"
   ]
  },
  {
   "cell_type": "markdown",
   "metadata": {},
   "source": [
    "Задание 5*\n",
    "1 point possible (graded)\n",
    "Используя возможности модуля re, определите количество пар слов, в которых первое слово заканчивается на гласную русскую букву, второе — начинается на согласную (также русскую). Введите количество найденных пар слов в поле для ответа.\n",
    "\n",
    "Во время подсчёта не учитывайте регистр букв (т.е. при подсчёте должны учитываться как вариант: \"...а П...\" , так и вариант: \"...а п...\" ). Предлоги и союзы считайте полноправными словами, даже если они состоят из одной буквы.\n",
    "\n",
    "Если между словами имеется знак препинания, считайте, что эти два слова НЕ удовлетворяют критерию поиска (т.е. вариант: \"...а, П...\" НЕ должен учитываться при подсчёте)."
   ]
  },
  {
   "cell_type": "code",
   "execution_count": 38,
   "metadata": {},
   "outputs": [
    {
     "name": "stdout",
     "output_type": "stream",
     "text": [
      "22\n",
      "['а н', 'а в', 'о в', 'я р', 'я р', 'и г', 'о н', 'а д', 'е н', 'и д', 'о н', 'е п', 'а г', 'е н', 'а п', 'о в', 'е н', 'а п', 'о б', 'о к', 'о т', 'и п']\n",
      "разработка языка python была начата в конце 1980-х годов сотрудником голландского института cwi гвидо ван россумом. для распределённой ос amoeba требовался расширяемый скриптовый язык, и гвидо начал писать python на досуге, позаимствовав некоторые наработки для языка abc (гвидо участвовал в разработке этого языка, ориентированного на обучение программированию). в феврале 1991 года гвидо опубликовал исходный текст в группе новостей alt.sources. название языка произошло вовсе не от вида пресмыкающихся. автор назвал язык в честь популярного британского комедийного телешоу 1970-х \"летающий цирк монти пайтона\".\n"
     ]
    }
   ],
   "source": [
    "import re\n",
    "text = 'Разработка языка Python была начата в конце 1980-х годов сотрудником голландского института CWI Гвидо ван Россумом. Для распределённой ОС Amoeba требовался расширяемый скриптовый язык, и Гвидо начал писать Python на досуге, позаимствовав некоторые наработки для языка ABC (Гвидо участвовал в разработке этого языка, ориентированного на обучение программированию). В феврале 1991 года Гвидо опубликовал исходный текст в группе новостей alt.sources. Название языка произошло вовсе не от вида пресмыкающихся. Автор назвал язык в честь популярного британского комедийного телешоу 1970-х \"Летающий цирк Монти Пайтона\".'\n",
    "text_low = text.lower()\n",
    "reg = re.compile('[аоиеёэыуюя]\\s+[бвгджзйклмнпрстфхцчшщ]')\n",
    "print(len(reg.findall(text_low)))\n",
    "print(reg.findall(text_low))\n",
    "\n",
    "print(text_low)"
   ]
  },
  {
   "cell_type": "markdown",
   "metadata": {},
   "source": [
    "Задание 1\n",
    "1 point possible (graded)\n",
    "У скольких абитуриентов родители имеют диплом бакалавра (bachelor's degree)?\n",
    "\n",
    "Введите ответ в виде целого числа. При написании кода обратите внимание на использование кавычек/апострофов"
   ]
  },
  {
   "cell_type": "code",
   "execution_count": 10,
   "metadata": {},
   "outputs": [
    {
     "name": "stdout",
     "output_type": "stream",
     "text": [
      "\"gender\",\"race/ethnicity\",\"parental level of education\",\"lunch\",\"test preparation course\",\"math score\",\"reading score\",\"writing score\"\n",
      "\n"
     ]
    }
   ],
   "source": [
    "f = open('StudentsPerformance.csv')\n",
    "print(f.readline())\n",
    "f.close()"
   ]
  },
  {
   "cell_type": "code",
   "execution_count": 11,
   "metadata": {},
   "outputs": [
    {
     "name": "stdout",
     "output_type": "stream",
     "text": [
      "118\n"
     ]
    }
   ],
   "source": [
    "f = open('StudentsPerformance.csv')\n",
    "bachelors = 0\n",
    "for line in f:\n",
    "    spl_str = line.split(',')\n",
    "    if 'bachelor' in spl_str[2]:\n",
    "        bachelors += 1\n",
    "f.close()\n",
    "print (bachelors)"
   ]
  },
  {
   "cell_type": "markdown",
   "metadata": {},
   "source": [
    "Задание 2\n",
    "1 point possible (graded)\n",
    "Сколько разных вариантов значений встречается в столбце \"parental level of education\"?\n",
    "\n",
    "Введите ответ в виде целого числа.\n",
    "\n",
    "Подсказка 1: для хранения уникальных вариантов вы можете использовать список.\n",
    "\n",
    "Подсказка 2: не забудьте, что первая строка файла содержит заголовки столбцов и не должна учитываться при обработке"
   ]
  },
  {
   "cell_type": "code",
   "execution_count": 19,
   "metadata": {},
   "outputs": [
    {
     "name": "stdout",
     "output_type": "stream",
     "text": [
      "[\"bachelor's degree\", 'some college', \"master's degree\", \"associate's degree\", 'high school', 'some high school']\n"
     ]
    }
   ],
   "source": [
    "f = open('StudentsPerformance.csv')\n",
    "edu = []\n",
    "f.readline()\n",
    "for line in f:\n",
    "    spl_str = line.split(',')\n",
    "    if spl_str[2][1:-1] not in edu:\n",
    "        edu.append(spl_str[2][1:-1])\n",
    "f.close()\n",
    "print (edu)"
   ]
  },
  {
   "cell_type": "markdown",
   "metadata": {},
   "source": [
    "Задание 3\n",
    "1 point possible (graded)\n",
    "Сколько процентов абитуриентов полноценно пообедали перед экзаменом? (У скольких процентов абитуриентов значение столбца \"lunch\" = \"standard\").\n",
    "\n",
    "Ответ введите в виде десятичной дроби. Знак процента вводить не нужно."
   ]
  },
  {
   "cell_type": "code",
   "execution_count": 35,
   "metadata": {},
   "outputs": [
    {
     "name": "stdout",
     "output_type": "stream",
     "text": [
      "{'standard': 645, 'free/reduced': 355}\n",
      "1000\n",
      "Had eaten tasty: 64.5\n"
     ]
    }
   ],
   "source": [
    "f = open('StudentsPerformance.csv')\n",
    "lunch = {}\n",
    "students_q = 0\n",
    "f.readline()\n",
    "for line in f:\n",
    "    spl_str = line.split(',')\n",
    "    if spl_str[3][1:-1] not in lunch:\n",
    "        lunch[(spl_str[3][1:-1])] = 1\n",
    "        students_q += 1\n",
    "    else:\n",
    "        lunch[(spl_str[3][1:-1])] += 1\n",
    "        students_q += 1\n",
    "f.close()\n",
    "print (lunch)\n",
    "print (students_q)\n",
    "st = int(lunch['standard'])/students_q\n",
    "print ('Had eaten tasty: {}'.format(st*100))\n"
   ]
  },
  {
   "cell_type": "markdown",
   "metadata": {},
   "source": [
    "Задание 4\n",
    "1 point possible (graded)\n",
    "Сколько абитуриентов относится к этнической группе \"group C\"?\n",
    "\n",
    "Введите ответ в виде целого числа."
   ]
  },
  {
   "cell_type": "code",
   "execution_count": 41,
   "metadata": {},
   "outputs": [
    {
     "name": "stdout",
     "output_type": "stream",
     "text": [
      "\"gender\",\"race/ethnicity\",\"parental level of education\",\"lunch\",\"test preparation course\",\"math score\",\"reading score\",\"writing score\"\n",
      "\n",
      "\"female\",\"group B\",\"bachelor's degree\",\"standard\",\"none\",\"72\",\"72\",\"74\"\n",
      "\n",
      "319\n"
     ]
    }
   ],
   "source": [
    "f = open('StudentsPerformance.csv')\n",
    "print(f.readline())\n",
    "print(f.readline())\n",
    "\n",
    "etn = 0\n",
    "for line in f:\n",
    "    spl_str = line.split(',')\n",
    "    if 'group C' in spl_str[1]:\n",
    "        etn += 1\n",
    "f.close()\n",
    "print (etn)"
   ]
  },
  {
   "cell_type": "markdown",
   "metadata": {},
   "source": [
    "Задание 5\n",
    "1 point possible (graded)\n",
    "Сколько разных этнических групп встречается в файле?\n",
    "\n",
    "Введите ответ в виде целого числа.\n",
    "\n",
    "Подсказка 1: для хранения уникальных вариантов Вы можете использовать список.\n",
    "\n",
    "Подсказка 2: не забудьте, что первая строка файла содержит заголовки столбцов и не должна учитываться при обработке"
   ]
  },
  {
   "cell_type": "code",
   "execution_count": 40,
   "metadata": {},
   "outputs": [
    {
     "name": "stdout",
     "output_type": "stream",
     "text": [
      "{'group B': 190, 'group C': 319, 'group A': 89, 'group D': 262, 'group E': 140}\n",
      "5\n"
     ]
    }
   ],
   "source": [
    "f = open('StudentsPerformance.csv')\n",
    "etn = {}\n",
    "f.readline()\n",
    "for line in f:\n",
    "    spl_str = line.split(',')\n",
    "    if spl_str[1][1:-1] not in etn:\n",
    "        etn[(spl_str[1][1:-1])] = 1\n",
    "    else:\n",
    "        etn[(spl_str[1][1:-1])] += 1\n",
    "f.close()\n",
    "print (etn)\n",
    "print (len(etn))\n"
   ]
  },
  {
   "cell_type": "markdown",
   "metadata": {},
   "source": [
    "Вычислите средний балл абитуриентов на экзамене по чтению (reading score).\n",
    "\n",
    "Введите ответ в виде одного числа. Не округляйте полученное значение."
   ]
  },
  {
   "cell_type": "code",
   "execution_count": 109,
   "metadata": {},
   "outputs": [
    {
     "name": "stdout",
     "output_type": "stream",
     "text": [
      "72.60810810810811\n",
      "249\n",
      "518\n"
     ]
    }
   ],
   "source": [
    "reading = []\n",
    "\n",
    "f = open('StudentsPerformance.csv')\n",
    "\n",
    "for line in f:\n",
    "    info = line.split(',')\n",
    "    if info[0] == '\"gender\"' or info[0] == '\"male\"':\n",
    "        continue\n",
    "    else:\n",
    "        mark = int(info[6][1:-1])\n",
    "        reading.append(mark) \n",
    "reading_avg = sum(reading)/len(reading)\n",
    "print(reading_avg)\n",
    "above_avg = 0\n",
    "for mark in reading:\n",
    "    if mark < reading_avg:\n",
    "        above_avg += 1\n",
    "print(above_avg)\n",
    "print(len(reading))\n"
   ]
  },
  {
   "cell_type": "markdown",
   "metadata": {},
   "source": [
    "Задание 4\n",
    "1 point possible (graded)\n",
    "Сколько абитуриентов получили на экзамене по письму (writing score) оценку выше 90?\n",
    "\n",
    "Введите количество абитуриентов в окно для ответа."
   ]
  },
  {
   "cell_type": "code",
   "execution_count": 65,
   "metadata": {},
   "outputs": [
    {
     "name": "stdout",
     "output_type": "stream",
     "text": [
      "59\n"
     ]
    }
   ],
   "source": [
    "writing = []\n",
    "st = 0\n",
    "f = open('StudentsPerformance.csv')\n",
    "\n",
    "for line in f:\n",
    "    info = line.split(',')\n",
    "    if info[0] == '\"gender\"' or '\"standard\"' not in info[3]:\n",
    "        continue\n",
    "    else:\n",
    "        mark = int(info[7][1:-2])\n",
    "        writing.append(mark) \n",
    "for i in writing:\n",
    "    if i > 90:\n",
    "        st += 1\n",
    "print(st)"
   ]
  },
  {
   "cell_type": "markdown",
   "metadata": {},
   "source": [
    "###Задание 1\n",
    "1 point possible (graded)\n",
    "Сколько мальчиков хорошо пообедали перед экзаменом (lunch = standard)?\n",
    "\n",
    "Ответ введите в виде одного числа.\n",
    "###Задание 2\n",
    "1 point possible (graded)\n",
    "Сколько мальчиков закончили подготовительные курсы (test preparation course = completed)?\n",
    "\n",
    "Ответ введите в виде одного числа.\n",
    "###Задание 3\n",
    "1 point possible (graded)\n",
    "У скольких девочек родители имеют степень магистра (parental level of education = master's degree)?\n",
    "\n",
    "Ответ введите в виде одного числа."
   ]
  },
  {
   "cell_type": "code",
   "execution_count": 99,
   "metadata": {},
   "outputs": [
    {
     "name": "stdout",
     "output_type": "stream",
     "text": [
      "{'female': {'standard': 329, 'none': 334, \"bachelor's degree\": 63, 'group B': 104, 'completed': 184, 'some college': 118, 'group C': 180, \"master's degree\": 36, \"associate's degree\": 116, 'free/reduced': 189, 'high school': 94, 'group A': 36, 'some high school': 91, 'group D': 129, 'group E': 69}, 'male': {'free/reduced': 166, 'none': 308, \"associate's degree\": 106, 'group A': 53, 'standard': 316, 'some college': 108, 'group C': 139, 'group B': 86, 'completed': 174, 'high school': 102, 'group D': 133, \"master's degree\": 23, \"bachelor's degree\": 55, 'group E': 71, 'some high school': 88}}\n",
      "36\n"
     ]
    }
   ],
   "source": [
    "f = open('StudentsPerformance.csv')\n",
    "people_lunch = {}\n",
    "f.readline()\n",
    "for line in f:\n",
    "    spl_str = line.split(',')\n",
    "    gender = spl_str[0][1:-1]\n",
    "    lunch = spl_str[3][1:-1]\n",
    "    preparation = spl_str[4][1:-1]\n",
    "    parental_level = spl_str[2][1:-1]\n",
    "    etn = spl_str[1][1:-1]\n",
    "    if gender not in people_lunch:\n",
    "        people_lunch[gender] = {}\n",
    "        people_lunch[gender][lunch] = 1\n",
    "        people_lunch[gender][preparation] = 1\n",
    "        people_lunch[gender][parental_level] = 1\n",
    "        people_lunch[gender][etn] = 1\n",
    "    else:\n",
    "        if lunch not in people_lunch[gender]:\n",
    "            people_lunch[gender][lunch] = 1\n",
    "        else:\n",
    "            people_lunch[gender][lunch] += 1\n",
    "        if preparation not in people_lunch[gender]:\n",
    "            people_lunch[gender][preparation] = 1\n",
    "        else:\n",
    "            people_lunch[gender][preparation] += 1\n",
    "        if parental_level not in people_lunch[gender]:\n",
    "            people_lunch[gender][parental_level] = 1\n",
    "        else:\n",
    "            people_lunch[gender][parental_level] += 1\n",
    "        if etn not in people_lunch[gender]:\n",
    "            people_lunch[gender][etn] = 1\n",
    "        else:\n",
    "            people_lunch[gender][etn] += 1\n",
    "        \n",
    "\n",
    "f.close()\n",
    "print (people_lunch)\n",
    "print (people_lunch['female']['master\\'s degree'])\n",
    "\n"
   ]
  },
  {
   "cell_type": "markdown",
   "metadata": {},
   "source": [
    "Задание 4\n",
    "1 point possible (graded)\n",
    "Сколько абитуриентов, относящихся к этнической группе С, закончили подготовительные курсы?\n",
    "\n",
    "Ответ введите в виде одного числа.\n"
   ]
  },
  {
   "cell_type": "code",
   "execution_count": 103,
   "metadata": {
    "scrolled": true
   },
   "outputs": [
    {
     "name": "stdout",
     "output_type": "stream",
     "text": [
      "{'group B': {'none': 122, 'completed': 68}, 'group C': {'completed': 117, 'none': 202}, 'group A': {'none': 58, 'completed': 31}, 'group D': {'completed': 82, 'none': 180}, 'group E': {'none': 80, 'completed': 60}}\n"
     ]
    }
   ],
   "source": [
    "f = open('StudentsPerformance.csv')\n",
    "people = {}\n",
    "f.readline()\n",
    "for line in f:\n",
    "    spl_str = line.split(',')\n",
    "    etn = spl_str[1][1:-1]\n",
    "    preparation = spl_str[4][1:-1]\n",
    "    if etn not in people:\n",
    "        people[etn] = {}\n",
    "        people[etn][preparation] = 1\n",
    "    else:\n",
    "        if preparation not in people[etn]:\n",
    "            people[etn][preparation] = 1\n",
    "        else:\n",
    "            people[etn][preparation] += 1\n",
    "       \n",
    "\n",
    "f.close()\n",
    "print (people)\n",
    "\n",
    "\n"
   ]
  },
  {
   "cell_type": "markdown",
   "metadata": {},
   "source": [
    "Задание 5*\n",
    "1 point possible (graded)\n",
    "Сколько девочек, родители которых имеют степень магистра, набрали по математике больше 90 баллов?\n",
    "\n",
    "Ответ введите в виде одного числа."
   ]
  },
  {
   "cell_type": "code",
   "execution_count": 108,
   "metadata": {},
   "outputs": [
    {
     "name": "stdout",
     "output_type": "stream",
     "text": [
      "{'male': {'some college': 9, \"associate's degree\": 9, 'some high school': 3, \"bachelor's degree\": 5, \"master's degree\": 2, 'high school': 1}, 'female': {\"bachelor's degree\": 7, 'some high school': 2, 'high school': 1, 'some college': 2, \"associate's degree\": 7, \"master's degree\": 2}}\n"
     ]
    }
   ],
   "source": [
    "f = open('StudentsPerformance.csv')\n",
    "people = {}\n",
    "f.readline()\n",
    "for line in f:\n",
    "    spl_str = line.split(',')\n",
    "    sex = spl_str[0][1:-1]\n",
    "    parent_level = spl_str[2][1:-1]\n",
    "    math = spl_str[5][1:-1]\n",
    "    if int(math) > 90:\n",
    "        if sex not in people:\n",
    "            people[sex] = {}\n",
    "            people[sex][parent_level] = 1\n",
    "        else:\n",
    "            if parent_level not in people[sex]:\n",
    "                people[sex][parent_level] = 1\n",
    "            else:\n",
    "                people[sex][parent_level] += 1\n",
    "       \n",
    "\n",
    "f.close()\n",
    "print (people)"
   ]
  },
  {
   "cell_type": "markdown",
   "metadata": {},
   "source": [
    "Задание 8\n",
    "0/1 point (graded)\n",
    "Какой средний балл, полученный мальчиками на экзамене по чтению? Ответ округлите до трёх цифр после запятой."
   ]
  },
  {
   "cell_type": "code",
   "execution_count": 110,
   "metadata": {},
   "outputs": [
    {
     "name": "stdout",
     "output_type": "stream",
     "text": [
      "65.47302904564316\n",
      "232\n",
      "482\n"
     ]
    }
   ],
   "source": [
    "reading = []\n",
    "\n",
    "f = open('StudentsPerformance.csv')\n",
    "\n",
    "for line in f:\n",
    "    info = line.split(',')\n",
    "    if info[0] == '\"gender\"' or info[0] == '\"female\"':\n",
    "        continue\n",
    "    else:\n",
    "        mark = int(info[6][1:-1])\n",
    "        reading.append(mark) \n",
    "reading_avg = sum(reading)/len(reading)\n",
    "print(reading_avg)\n",
    "above_avg = 0\n",
    "for mark in reading:\n",
    "    if mark < reading_avg:\n",
    "        above_avg += 1\n",
    "print(above_avg)\n",
    "print(len(reading))"
   ]
  },
  {
   "cell_type": "markdown",
   "metadata": {},
   "source": [
    "Задание 9\n",
    "1 point possible (graded)\n",
    "Какой средний балл на экзамене по чтению набрали ученики, набравшие максимальный балл на экзамене по математике? Ответ округлите до трёх цифр после запятой."
   ]
  },
  {
   "cell_type": "code",
   "execution_count": 114,
   "metadata": {},
   "outputs": [
    {
     "name": "stdout",
     "output_type": "stream",
     "text": [
      "63.02253521126761\n",
      "177\n",
      "355\n"
     ]
    }
   ],
   "source": [
    "reading = []\n",
    "\n",
    "f = open('StudentsPerformance.csv')\n",
    "\n",
    "for line in f:\n",
    "    info = line.split(',')\n",
    "    if info[0] == '\"gender\"' or info[3] == '\"standard\"':\n",
    "        continue\n",
    "    else:\n",
    "        mark = int(info[7][1:-2])\n",
    "        reading.append(mark) \n",
    "reading_avg = sum(reading)/len(reading)\n",
    "print(reading_avg)\n",
    "above_avg = 0\n",
    "for mark in reading:\n",
    "    if mark < reading_avg:\n",
    "        above_avg += 1\n",
    "print(above_avg)\n",
    "print(len(reading))"
   ]
  },
  {
   "cell_type": "markdown",
   "metadata": {},
   "source": [
    "get_median\n",
    "1 point possible (graded)\n",
    "Постройте функцию get_median, которая принимает на вход список чисел и возвращает медиану, например, для этого списка.\n",
    "\n",
    "get_median([5, 2, 1, 3, 4]) должен вернуть 3\n",
    "get_median([3, 3, 7, 9]) должен вернуть 5"
   ]
  },
  {
   "cell_type": "code",
   "execution_count": 21,
   "metadata": {},
   "outputs": [
    {
     "name": "stdout",
     "output_type": "stream",
     "text": [
      "3\n",
      "5.0\n"
     ]
    }
   ],
   "source": [
    "def get_median(lst: list):\n",
    "    lst.sort()\n",
    "    if len(lst) % 2 == 0:\n",
    "        med = (lst[int(len(lst)/2) - 1] + lst[int(len(lst)/2)]) / 2\n",
    "    else:\n",
    "        med = lst[int(len(lst)/2)]\n",
    "    return med\n",
    "src = [5, 2, 1, 3, 4]\n",
    "print(get_median(src))\n",
    "src = [3, 3, 7, 9]\n",
    "print(get_median(src))"
   ]
  },
  {
   "cell_type": "markdown",
   "metadata": {},
   "source": [
    "avg_orders\n",
    "1 point possible (graded)\n",
    "Перепишите код ниже, определив функцию avg_orders(user_db), которая возвращает среднее число заказов по данным в базе. Затем выведите на экран результат вызова этой функции для user_db\n",
    "user_db = [{'orders': 12}, {'orders': 30}, {'orders': 45}]\n",
    "\n",
    "# перепишите эту часть\n",
    "order_sum = sum([user['orders'] for user in user_db])\n",
    "orders_per_user = order_sum/len(user_db)\n",
    "print(orders_per_user)"
   ]
  },
  {
   "cell_type": "code",
   "execution_count": 24,
   "metadata": {},
   "outputs": [
    {
     "name": "stdout",
     "output_type": "stream",
     "text": [
      "29.0\n"
     ]
    }
   ],
   "source": [
    "user_db = [{'orders': 12}, {'orders': 30}, {'orders': 45}]\n",
    "\n",
    "def avg_orders(user_db: list):\n",
    "    order_sum = sum([user['orders'] for user in user_db])\n",
    "    orders_per_user = order_sum/len(user_db)\n",
    "    return orders_per_user\n",
    "\n",
    "print(avg_orders(user_db))"
   ]
  },
  {
   "cell_type": "markdown",
   "metadata": {},
   "source": [
    "get_euro_rate\n",
    "1 point possible (graded)\n",
    "Определите функцию get_euro_rate, которая возвращает случайное число от 65 до 85. Перепишите to_euro из примера выше, чтобы вместо постоянного exchange_rate 70 она использовала get_euro_rate\n",
    "\n",
    "Для выполнения задания вам потребуется функция random() из модуля random, которая возвращает случайное число от 0 до 1"
   ]
  },
  {
   "cell_type": "code",
   "execution_count": 30,
   "metadata": {},
   "outputs": [
    {
     "name": "stdout",
     "output_type": "stream",
     "text": [
      "68.08665475534934\n"
     ]
    }
   ],
   "source": [
    "import random\n",
    "# добавьте функцию get_euro_rate\n",
    "def get_euro_rate():\n",
    "    return random.uniform(65, 85)\n",
    "\n",
    "# используйте get_euro_rate в следующей функции\n",
    "def to_euro(price):  \n",
    "    exchange_rate = get_euro_rate()\n",
    "    rounded = round(price/exchange_rate, 2)  \n",
    "    return '€' + str(rounded)\n",
    "\n",
    "print (get_euro_rate())"
   ]
  },
  {
   "cell_type": "code",
   "execution_count": 32,
   "metadata": {},
   "outputs": [
    {
     "name": "stdout",
     "output_type": "stream",
     "text": [
      "10\n",
      "range(0, 5)\n"
     ]
    }
   ],
   "source": [
    "all_the = sum\n",
    "magic = range\n",
    "print(all_the(magic(5)))\n",
    "print(magic(5))"
   ]
  },
  {
   "cell_type": "code",
   "execution_count": 42,
   "metadata": {},
   "outputs": [
    {
     "name": "stdout",
     "output_type": "stream",
     "text": [
      "Mr. Boris\n",
      "Mr. Ivan\n",
      "Mr. Bob\n",
      "<map object at 0x0000020D1B468B88>\n",
      "<class 'map'>\n"
     ]
    }
   ],
   "source": [
    "# исходная версия была такой  \n",
    "def polite_name(name):  \n",
    "    return 'Mr. ' + name   \n",
    "  \n",
    "guests = [\"Boris\", \"Ivan\", \"Bob\"]  \n",
    "guest_iterator = map(polite_name, guests)   \n",
    "for i in guest_iterator:\n",
    "    print (i)\n",
    "print(guest_iterator)\n",
    "print(type(guest_iterator))"
   ]
  },
  {
   "cell_type": "markdown",
   "metadata": {},
   "source": [
    "Упражнение 2: Meany-map\n",
    "1 point possible (graded)\n",
    "При анализе данных бывает полезно \"подвинуть\" числа так, чтобы среднее значение было нулевым: так удобнее анализировать их распределение.\n",
    "\n",
    "Напишите выражение c map, которое из каждого элемента values вычитает среднее значение mean. Результат положите в переменную result"
   ]
  },
  {
   "cell_type": "code",
   "execution_count": 44,
   "metadata": {},
   "outputs": [
    {
     "name": "stdout",
     "output_type": "stream",
     "text": [
      "-14\n",
      "-10\n",
      "-3\n",
      "-2\n",
      "5\n",
      "24\n"
     ]
    }
   ],
   "source": [
    "values = [4, 8, 15, 16, 23, 42]\n",
    "mean = 18\n",
    "result = map(lambda x: x - mean, values)\n",
    "for i in result:\n",
    "    print(i)"
   ]
  },
  {
   "cell_type": "markdown",
   "metadata": {},
   "source": [
    "Fully normalized\n",
    "1 point possible (graded)\n",
    "Если вы обратили внимание, в предыдущих частях модуля у вас было несколько заданий с функцией normalize. Нормализацию часто применяют в машинном обучении, приводят данные к виду, когда среднее значение равно 0, а стандартное отклонение — 1.\n",
    "\n",
    "Определите функцию normalize с тремя аргументами:\n",
    "\n",
    "numbers — список чисел;\n",
    "mean — число, необязательный аргумент, по умолчанию 0;\n",
    "std — число, необязательный аргумент, по умолчанию 1.\n",
    "Функция должна для каждого числа из numbers вычитать mean и полученный результат делить на std. На выходе ожидается список из этих новых чисел.\n",
    "normalize([10, 20])\n",
    "\n",
    "=> [10, 20]\n",
    "\n",
    "normalize([10, 20], std=2)\n",
    "\n",
    "=> [5, 10]\n",
    "\n",
    "normalize([10, 20], mean=15)\n",
    "\n",
    "=> [-5, 5]"
   ]
  },
  {
   "cell_type": "code",
   "execution_count": 50,
   "metadata": {},
   "outputs": [
    {
     "name": "stdout",
     "output_type": "stream",
     "text": [
      "[10.0, 20.0]\n",
      "[5.0, 10.0]\n",
      "[-5.0, 5.0]\n"
     ]
    }
   ],
   "source": [
    "def normalize(numbers: list, mean=0, std=1):\n",
    "    lst = []\n",
    "    for i in numbers:\n",
    "        lst.append((i - mean) / std)\n",
    "    return lst\n",
    "a = [10, 20]\n",
    "print(normalize(a))\n",
    "print(normalize(a, std=2))\n",
    "print(normalize(a, mean=15))\n"
   ]
  },
  {
   "cell_type": "code",
   "execution_count": 53,
   "metadata": {},
   "outputs": [
    {
     "name": "stdout",
     "output_type": "stream",
     "text": [
      "[10.0, 20.0]\n",
      "[5.0, 10.0]\n",
      "[-5.0, 5.0]\n"
     ]
    }
   ],
   "source": [
    "def normalize(numbers: list, mean=0, std=1):\n",
    "    return list(map(lambda x: (x - mean) / std, numbers))\n",
    "    \n",
    "a = [10, 20]\n",
    "print(normalize(a))\n",
    "print(normalize(a, std=2))\n",
    "print(normalize(a, mean=15))"
   ]
  },
  {
   "cell_type": "markdown",
   "metadata": {},
   "source": [
    "Сумматор\n",
    "1 point possible (graded)\n",
    "Теперь немного практики для закрепления. Определите функцию sum_args, которая суммирует все свои аргументы. Например, sum_args(10, 15, -4) должна возвращать 21"
   ]
  },
  {
   "cell_type": "code",
   "execution_count": 60,
   "metadata": {},
   "outputs": [
    {
     "name": "stdout",
     "output_type": "stream",
     "text": [
      "21\n"
     ]
    }
   ],
   "source": [
    "def sum_args(*args):\n",
    "    sum = 0\n",
    "    for i in args:\n",
    "        sum += i    \n",
    "    return sum\n",
    "print(sum_args(10, 15, -4))"
   ]
  },
  {
   "cell_type": "markdown",
   "metadata": {},
   "source": [
    "Count letters\n",
    "1 point possible (graded)\n",
    "Определите функцию count_letters(sentence, average), которая считает количество букв в строке без учёта пробелов. У функции должен быть необязательный булевый аргумент average, который по умолчанию равен False. Если он равен True, то функция должна возвращать количество букв в среднем на слово.\n",
    "\n",
    "count_letters(\"Beep boop\") # => 8\n",
    "count_letters(\"Beep boop\", average=True) # => 4\n",
    "count_letters(\"I will build my own theme park\") # => 24\n",
    "count_letters(\"I will build my own theme park\", average=True) # => 3.429\n",
    "Словом считается любая последовательность символов, отделённая пробелами или границами предложения. Cреднюю длину слова можно не округлять"
   ]
  },
  {
   "cell_type": "code",
   "execution_count": 11,
   "metadata": {},
   "outputs": [
    {
     "name": "stdout",
     "output_type": "stream",
     "text": [
      "8\n",
      "4.0\n",
      "24\n",
      "3.4285714285714284\n"
     ]
    }
   ],
   "source": [
    "import re\n",
    "def count_letters(sentence, average = False):\n",
    "    pattern = re.compile(r'\\s')\n",
    "    spaces =  len(pattern.findall(sentence))\n",
    "    if average == False:\n",
    "        return len(sentence) - spaces\n",
    "    else:\n",
    "        return (len(sentence) - spaces) / (spaces + 1)\n",
    "    \n",
    "print(count_letters(\"Beep boop\"))\n",
    "print(count_letters(\"Beep boop\", average=True))\n",
    "print(count_letters(\"I will build my own theme park\"))\n",
    "print(count_letters(\"I will build my own theme park\", average=True))"
   ]
  },
  {
   "cell_type": "markdown",
   "metadata": {},
   "source": [
    "Выражение\n",
    "1 point possible (graded)\n",
    "Чему равно выражение?"
   ]
  },
  {
   "cell_type": "code",
   "execution_count": 19,
   "metadata": {},
   "outputs": [
    {
     "data": {
      "text/plain": [
       "'a'"
      ]
     },
     "execution_count": 19,
     "metadata": {},
     "output_type": "execute_result"
    }
   ],
   "source": [
    "words = [\"sofa\", \"suitcase\", \"valise\", \"picture\", \"basket\", \"carton\", \"doggie\"]\n",
    "list(map(lambda w: sorted(w)[0], words))[5]"
   ]
  },
  {
   "cell_type": "markdown",
   "metadata": {},
   "source": [
    "Always n\n",
    "1 point possible (graded)\n",
    "Напишите функцию always(n), которая возвращает функцию, которая в свою очередь возвращает n. Например,\n",
    "\n",
    "five = always(5)\n",
    "five() # должно вернуть 5"
   ]
  },
  {
   "cell_type": "code",
   "execution_count": 35,
   "metadata": {},
   "outputs": [
    {
     "name": "stdout",
     "output_type": "stream",
     "text": [
      "5\n"
     ]
    }
   ],
   "source": [
    "def always(n):\n",
    "    return (lambda : n)\n",
    "five = always(5)\n",
    "print(five())"
   ]
  },
  {
   "cell_type": "code",
   "execution_count": null,
   "metadata": {},
   "outputs": [],
   "source": []
  },
  {
   "cell_type": "code",
   "execution_count": null,
   "metadata": {},
   "outputs": [],
   "source": []
  }
 ],
 "metadata": {
  "kernelspec": {
   "display_name": "Python 3",
   "language": "python",
   "name": "python3"
  },
  "language_info": {
   "codemirror_mode": {
    "name": "ipython",
    "version": 3
   },
   "file_extension": ".py",
   "mimetype": "text/x-python",
   "name": "python",
   "nbconvert_exporter": "python",
   "pygments_lexer": "ipython3",
   "version": "3.7.6"
  }
 },
 "nbformat": 4,
 "nbformat_minor": 4
}
