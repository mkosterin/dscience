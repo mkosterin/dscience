{
 "cells": [
  {
   "cell_type": "markdown",
   "metadata": {},
   "source": [
    "# 2.8 Итоговое задание\n",
    "Вас пригласили поучаствовать в одном из проектов UNICEF — международного подразделения ООН, чья миссия состоит в повышении уровня благополучия детей по всему миру. \n",
    "\n",
    "Суть проекта — отследить влияние условий жизни учащихся в возрасте от 15 до 22 лет на их успеваемость по математике, чтобы на ранней стадии выявлять студентов, находящихся в группе риска.\n",
    "\n",
    "И сделать это можно с помощью модели, которая предсказывала бы результаты госэкзамена по математике для каждого ученика школы (вот она, сила ML!). Чтобы определиться с параметрами будущей модели, проведите разведывательный анализ данных и составьте отчёт по его результатам. \n",
    "\n",
    "### Описание датасета\n",
    "1 school — аббревиатура школы, в которой учится ученик  \n",
    "2 sex — пол ученика ('F' - женский, 'M' - мужской)  \n",
    "3 age — возраст ученика (от 15 до 22)  \n",
    "4 address — тип адреса ученика ('U' - городской, 'R' - за городом)  \n",
    "5 famsize — размер семьи('LE3' <= 3, 'GT3' >3)  \n",
    "6 Pstatus — статус совместного жилья родителей ('T' - живут вместе 'A' - раздельно)  \n",
    "7 Medu — образование матери (0 - нет, 1 - 4 класса, 2 - 5-9 классы, 3 - среднее специальное или 11 классов, 4 - высшее)  \n",
    "8 Fedu — образование отца (0 - нет, 1 - 4 класса, 2 - 5-9 классы, 3 - среднее специальное или 11 классов, 4 - высшее)  \n",
    "9 Mjob — работа матери ('teacher' - учитель, 'health' - сфера здравоохранения, 'services' - гос служба, 'at_home' - не работает, 'other' - другое)  \n",
    "10 Fjob — работа отца ('teacher' - учитель, 'health' - сфера здравоохранения, 'services' - гос служба, 'at_home' - не работает, 'other' - другое)  \n",
    "11 reason — причина выбора школы ('home' - близость к дому, 'reputation' - репутация школы, 'course' - образовательная программа, 'other' - другое)  \n",
    "12 guardian — опекун ('mother' - мать, 'father' - отец, 'other' - другое)  \n",
    "13 traveltime — время в пути до школы (1 - <15 мин., 2 - 15-30 мин., 3 - 30-60 мин., 4 - >60 мин.)  \n",
    "14 studytime — время на учёбу помимо школы в неделю (1 - <2 часов, 2 - 2-5 часов, 3 - 5-10 часов, 4 - >10 часов)  \n",
    "15 failures — количество внеучебных неудач (n, если 1<=n<=3, иначе 0)  \n",
    "16 schoolsup — дополнительная образовательная поддержка (yes или no)  \n",
    "17 famsup — семейная образовательная поддержка (yes или no)  \n",
    "18 paid — дополнительные платные занятия по математике (yes или no)  \n",
    "19 activities — дополнительные внеучебные занятия (yes или no)  \n",
    "20 nursery — посещал детский сад (yes или no)  \n",
    "21 higher — хочет получить высшее образование (yes или no)  \n",
    "22 internet — наличие интернета дома (yes или no)  \n",
    "23 romantic — в романтических отношениях (yes или no)  \n",
    "24 famrel — семейные отношения (от 1 - очень плохо до 5 - очень хорошо)  \n",
    "25 freetime — свободное время после школы (от 1 - очень мало до 5 - очень мого)  \n",
    "26 goout — проведение времени с друзьями (от 1 - очень мало до 5 - очень много)  \n",
    "27 health — текущее состояние здоровья (от 1 - очень плохо до 5 - очень хорошо)  \n",
    "28 absences — количество пропущенных занятий  \n",
    "29 score — баллы по госэкзамену по математике  \n",
    "\n",
    "### Рекомендации по выполнению проекта\n",
    "Проведите первичную обработку данных. Так как данных много, стоит написать функции, которые можно применять к столбцам определённого типа.  \n",
    "Посмотрите на распределение признака для числовых переменных, устраните выбросы.  \n",
    "Оцените количество уникальных значений для номинативных переменных.  \n",
    "По необходимости преобразуйте данные  \n",
    "Проведите корреляционный анализ количественных переменных  \n",
    "Отберите не коррелирующие переменные.  \n",
    "Проанализируйте номинативные переменные и устраните те, которые не влияют на предсказываемую величину (в нашем случае — на переменную score).  \n",
    "Не забудьте сформулировать выводы относительно качества данных и тех переменных, которые вы будете использовать в дальнейшем построении модели.  \n",
    "\n",
    "\n",
    "### Вот по каким критериям проект будет оценивать ментор:\n",
    "\n",
    "Качество кода и соответствие стандартам оформления pep-8.  \n",
    "Для каждого столбца найдено количество пустых строк, найдены и убраны выбросы.   \n",
    "Для количественных переменных построены гистограммы распределений и сделаны выводы.  \n",
    "Проведён корреляционный анализ и анализ номинативных переменных, корректно отобраны переменные для построения модели.  \n",
    "Сформулированы промежуточные и итоговые выводы.  "
   ]
  },
  {
   "cell_type": "code",
   "execution_count": 149,
   "metadata": {},
   "outputs": [],
   "source": [
    "# Load dataset and make initial preparation\n",
    "import pandas as pd\n",
    "import matplotlib.pyplot as plt\n",
    "import seaborn as sns\n",
    "import math\n",
    "from itertools import combinations\n",
    "from scipy.stats import ttest_ind\n",
    "import numpy as np\n",
    "\n",
    "pd.set_option('display.max_rows', 50)  # показывать больше строк\n",
    "pd.set_option('display.max_columns', 50)  # показывать больше колонок\n",
    "\n",
    "st = pd.read_csv('stud_math.csv')"
   ]
  },
  {
   "cell_type": "code",
   "execution_count": 150,
   "metadata": {},
   "outputs": [
    {
     "data": {
      "text/html": [
       "<div>\n",
       "<style scoped>\n",
       "    .dataframe tbody tr th:only-of-type {\n",
       "        vertical-align: middle;\n",
       "    }\n",
       "\n",
       "    .dataframe tbody tr th {\n",
       "        vertical-align: top;\n",
       "    }\n",
       "\n",
       "    .dataframe thead th {\n",
       "        text-align: right;\n",
       "    }\n",
       "</style>\n",
       "<table border=\"1\" class=\"dataframe\">\n",
       "  <thead>\n",
       "    <tr style=\"text-align: right;\">\n",
       "      <th></th>\n",
       "      <th>school</th>\n",
       "      <th>sex</th>\n",
       "      <th>age</th>\n",
       "      <th>address</th>\n",
       "      <th>famsize</th>\n",
       "      <th>Pstatus</th>\n",
       "      <th>Medu</th>\n",
       "      <th>Fedu</th>\n",
       "      <th>Mjob</th>\n",
       "      <th>Fjob</th>\n",
       "      <th>reason</th>\n",
       "      <th>guardian</th>\n",
       "      <th>traveltime</th>\n",
       "      <th>studytime</th>\n",
       "      <th>failures</th>\n",
       "      <th>schoolsup</th>\n",
       "      <th>famsup</th>\n",
       "      <th>paid</th>\n",
       "      <th>activities</th>\n",
       "      <th>nursery</th>\n",
       "      <th>studytime, granular</th>\n",
       "      <th>higher</th>\n",
       "      <th>internet</th>\n",
       "      <th>romantic</th>\n",
       "      <th>famrel</th>\n",
       "      <th>freetime</th>\n",
       "      <th>goout</th>\n",
       "      <th>health</th>\n",
       "      <th>absences</th>\n",
       "      <th>score</th>\n",
       "    </tr>\n",
       "  </thead>\n",
       "  <tbody>\n",
       "    <tr>\n",
       "      <th>0</th>\n",
       "      <td>GP</td>\n",
       "      <td>F</td>\n",
       "      <td>18</td>\n",
       "      <td>U</td>\n",
       "      <td>NaN</td>\n",
       "      <td>A</td>\n",
       "      <td>4.0</td>\n",
       "      <td>4.0</td>\n",
       "      <td>at_home</td>\n",
       "      <td>teacher</td>\n",
       "      <td>course</td>\n",
       "      <td>mother</td>\n",
       "      <td>2.0</td>\n",
       "      <td>2.0</td>\n",
       "      <td>0.0</td>\n",
       "      <td>yes</td>\n",
       "      <td>no</td>\n",
       "      <td>no</td>\n",
       "      <td>no</td>\n",
       "      <td>yes</td>\n",
       "      <td>-6.0</td>\n",
       "      <td>yes</td>\n",
       "      <td>NaN</td>\n",
       "      <td>no</td>\n",
       "      <td>4.0</td>\n",
       "      <td>3.0</td>\n",
       "      <td>4.0</td>\n",
       "      <td>3.0</td>\n",
       "      <td>6.0</td>\n",
       "      <td>30.0</td>\n",
       "    </tr>\n",
       "    <tr>\n",
       "      <th>1</th>\n",
       "      <td>GP</td>\n",
       "      <td>F</td>\n",
       "      <td>17</td>\n",
       "      <td>U</td>\n",
       "      <td>GT3</td>\n",
       "      <td>NaN</td>\n",
       "      <td>1.0</td>\n",
       "      <td>1.0</td>\n",
       "      <td>at_home</td>\n",
       "      <td>other</td>\n",
       "      <td>course</td>\n",
       "      <td>father</td>\n",
       "      <td>1.0</td>\n",
       "      <td>2.0</td>\n",
       "      <td>0.0</td>\n",
       "      <td>no</td>\n",
       "      <td>yes</td>\n",
       "      <td>no</td>\n",
       "      <td>no</td>\n",
       "      <td>no</td>\n",
       "      <td>-6.0</td>\n",
       "      <td>yes</td>\n",
       "      <td>yes</td>\n",
       "      <td>no</td>\n",
       "      <td>5.0</td>\n",
       "      <td>3.0</td>\n",
       "      <td>3.0</td>\n",
       "      <td>3.0</td>\n",
       "      <td>4.0</td>\n",
       "      <td>30.0</td>\n",
       "    </tr>\n",
       "    <tr>\n",
       "      <th>2</th>\n",
       "      <td>GP</td>\n",
       "      <td>F</td>\n",
       "      <td>15</td>\n",
       "      <td>U</td>\n",
       "      <td>LE3</td>\n",
       "      <td>T</td>\n",
       "      <td>1.0</td>\n",
       "      <td>1.0</td>\n",
       "      <td>at_home</td>\n",
       "      <td>other</td>\n",
       "      <td>other</td>\n",
       "      <td>mother</td>\n",
       "      <td>1.0</td>\n",
       "      <td>2.0</td>\n",
       "      <td>3.0</td>\n",
       "      <td>yes</td>\n",
       "      <td>no</td>\n",
       "      <td>NaN</td>\n",
       "      <td>no</td>\n",
       "      <td>yes</td>\n",
       "      <td>-6.0</td>\n",
       "      <td>yes</td>\n",
       "      <td>yes</td>\n",
       "      <td>NaN</td>\n",
       "      <td>4.0</td>\n",
       "      <td>3.0</td>\n",
       "      <td>2.0</td>\n",
       "      <td>3.0</td>\n",
       "      <td>10.0</td>\n",
       "      <td>50.0</td>\n",
       "    </tr>\n",
       "    <tr>\n",
       "      <th>3</th>\n",
       "      <td>GP</td>\n",
       "      <td>F</td>\n",
       "      <td>15</td>\n",
       "      <td>U</td>\n",
       "      <td>GT3</td>\n",
       "      <td>T</td>\n",
       "      <td>4.0</td>\n",
       "      <td>2.0</td>\n",
       "      <td>health</td>\n",
       "      <td>NaN</td>\n",
       "      <td>home</td>\n",
       "      <td>mother</td>\n",
       "      <td>1.0</td>\n",
       "      <td>3.0</td>\n",
       "      <td>0.0</td>\n",
       "      <td>no</td>\n",
       "      <td>yes</td>\n",
       "      <td>yes</td>\n",
       "      <td>yes</td>\n",
       "      <td>yes</td>\n",
       "      <td>-9.0</td>\n",
       "      <td>yes</td>\n",
       "      <td>yes</td>\n",
       "      <td>yes</td>\n",
       "      <td>3.0</td>\n",
       "      <td>2.0</td>\n",
       "      <td>2.0</td>\n",
       "      <td>5.0</td>\n",
       "      <td>2.0</td>\n",
       "      <td>75.0</td>\n",
       "    </tr>\n",
       "    <tr>\n",
       "      <th>4</th>\n",
       "      <td>GP</td>\n",
       "      <td>F</td>\n",
       "      <td>16</td>\n",
       "      <td>U</td>\n",
       "      <td>GT3</td>\n",
       "      <td>T</td>\n",
       "      <td>3.0</td>\n",
       "      <td>3.0</td>\n",
       "      <td>other</td>\n",
       "      <td>other</td>\n",
       "      <td>home</td>\n",
       "      <td>father</td>\n",
       "      <td>1.0</td>\n",
       "      <td>2.0</td>\n",
       "      <td>0.0</td>\n",
       "      <td>no</td>\n",
       "      <td>yes</td>\n",
       "      <td>yes</td>\n",
       "      <td>no</td>\n",
       "      <td>yes</td>\n",
       "      <td>-6.0</td>\n",
       "      <td>yes</td>\n",
       "      <td>no</td>\n",
       "      <td>no</td>\n",
       "      <td>4.0</td>\n",
       "      <td>3.0</td>\n",
       "      <td>2.0</td>\n",
       "      <td>5.0</td>\n",
       "      <td>4.0</td>\n",
       "      <td>50.0</td>\n",
       "    </tr>\n",
       "    <tr>\n",
       "      <th>5</th>\n",
       "      <td>GP</td>\n",
       "      <td>M</td>\n",
       "      <td>16</td>\n",
       "      <td>U</td>\n",
       "      <td>LE3</td>\n",
       "      <td>T</td>\n",
       "      <td>4.0</td>\n",
       "      <td>3.0</td>\n",
       "      <td>services</td>\n",
       "      <td>other</td>\n",
       "      <td>reputation</td>\n",
       "      <td>mother</td>\n",
       "      <td>1.0</td>\n",
       "      <td>2.0</td>\n",
       "      <td>0.0</td>\n",
       "      <td>no</td>\n",
       "      <td>yes</td>\n",
       "      <td>yes</td>\n",
       "      <td>yes</td>\n",
       "      <td>yes</td>\n",
       "      <td>-6.0</td>\n",
       "      <td>yes</td>\n",
       "      <td>yes</td>\n",
       "      <td>no</td>\n",
       "      <td>5.0</td>\n",
       "      <td>4.0</td>\n",
       "      <td>2.0</td>\n",
       "      <td>5.0</td>\n",
       "      <td>10.0</td>\n",
       "      <td>75.0</td>\n",
       "    </tr>\n",
       "    <tr>\n",
       "      <th>6</th>\n",
       "      <td>GP</td>\n",
       "      <td>M</td>\n",
       "      <td>16</td>\n",
       "      <td>NaN</td>\n",
       "      <td>LE3</td>\n",
       "      <td>T</td>\n",
       "      <td>2.0</td>\n",
       "      <td>2.0</td>\n",
       "      <td>other</td>\n",
       "      <td>other</td>\n",
       "      <td>home</td>\n",
       "      <td>mother</td>\n",
       "      <td>1.0</td>\n",
       "      <td>2.0</td>\n",
       "      <td>0.0</td>\n",
       "      <td>no</td>\n",
       "      <td>no</td>\n",
       "      <td>no</td>\n",
       "      <td>no</td>\n",
       "      <td>yes</td>\n",
       "      <td>-6.0</td>\n",
       "      <td>yes</td>\n",
       "      <td>yes</td>\n",
       "      <td>no</td>\n",
       "      <td>4.0</td>\n",
       "      <td>4.0</td>\n",
       "      <td>4.0</td>\n",
       "      <td>3.0</td>\n",
       "      <td>0.0</td>\n",
       "      <td>55.0</td>\n",
       "    </tr>\n",
       "    <tr>\n",
       "      <th>7</th>\n",
       "      <td>GP</td>\n",
       "      <td>F</td>\n",
       "      <td>17</td>\n",
       "      <td>U</td>\n",
       "      <td>GT3</td>\n",
       "      <td>A</td>\n",
       "      <td>4.0</td>\n",
       "      <td>4.0</td>\n",
       "      <td>other</td>\n",
       "      <td>teacher</td>\n",
       "      <td>home</td>\n",
       "      <td>mother</td>\n",
       "      <td>2.0</td>\n",
       "      <td>2.0</td>\n",
       "      <td>0.0</td>\n",
       "      <td>yes</td>\n",
       "      <td>yes</td>\n",
       "      <td>no</td>\n",
       "      <td>no</td>\n",
       "      <td>yes</td>\n",
       "      <td>-6.0</td>\n",
       "      <td>yes</td>\n",
       "      <td>no</td>\n",
       "      <td>no</td>\n",
       "      <td>4.0</td>\n",
       "      <td>1.0</td>\n",
       "      <td>4.0</td>\n",
       "      <td>1.0</td>\n",
       "      <td>6.0</td>\n",
       "      <td>30.0</td>\n",
       "    </tr>\n",
       "    <tr>\n",
       "      <th>8</th>\n",
       "      <td>GP</td>\n",
       "      <td>M</td>\n",
       "      <td>15</td>\n",
       "      <td>U</td>\n",
       "      <td>LE3</td>\n",
       "      <td>A</td>\n",
       "      <td>3.0</td>\n",
       "      <td>2.0</td>\n",
       "      <td>services</td>\n",
       "      <td>other</td>\n",
       "      <td>home</td>\n",
       "      <td>mother</td>\n",
       "      <td>1.0</td>\n",
       "      <td>2.0</td>\n",
       "      <td>0.0</td>\n",
       "      <td>no</td>\n",
       "      <td>yes</td>\n",
       "      <td>yes</td>\n",
       "      <td>no</td>\n",
       "      <td>yes</td>\n",
       "      <td>-6.0</td>\n",
       "      <td>yes</td>\n",
       "      <td>yes</td>\n",
       "      <td>no</td>\n",
       "      <td>NaN</td>\n",
       "      <td>2.0</td>\n",
       "      <td>2.0</td>\n",
       "      <td>1.0</td>\n",
       "      <td>0.0</td>\n",
       "      <td>95.0</td>\n",
       "    </tr>\n",
       "    <tr>\n",
       "      <th>9</th>\n",
       "      <td>GP</td>\n",
       "      <td>M</td>\n",
       "      <td>15</td>\n",
       "      <td>U</td>\n",
       "      <td>NaN</td>\n",
       "      <td>NaN</td>\n",
       "      <td>3.0</td>\n",
       "      <td>4.0</td>\n",
       "      <td>other</td>\n",
       "      <td>other</td>\n",
       "      <td>home</td>\n",
       "      <td>mother</td>\n",
       "      <td>1.0</td>\n",
       "      <td>2.0</td>\n",
       "      <td>0.0</td>\n",
       "      <td>no</td>\n",
       "      <td>yes</td>\n",
       "      <td>yes</td>\n",
       "      <td>yes</td>\n",
       "      <td>yes</td>\n",
       "      <td>-6.0</td>\n",
       "      <td>yes</td>\n",
       "      <td>yes</td>\n",
       "      <td>no</td>\n",
       "      <td>5.0</td>\n",
       "      <td>5.0</td>\n",
       "      <td>1.0</td>\n",
       "      <td>5.0</td>\n",
       "      <td>0.0</td>\n",
       "      <td>75.0</td>\n",
       "    </tr>\n",
       "  </tbody>\n",
       "</table>\n",
       "</div>"
      ],
      "text/plain": [
       "  school sex  age address famsize Pstatus  Medu  Fedu      Mjob     Fjob  \\\n",
       "0     GP   F   18       U     NaN       A   4.0   4.0   at_home  teacher   \n",
       "1     GP   F   17       U     GT3     NaN   1.0   1.0   at_home    other   \n",
       "2     GP   F   15       U     LE3       T   1.0   1.0   at_home    other   \n",
       "3     GP   F   15       U     GT3       T   4.0   2.0    health      NaN   \n",
       "4     GP   F   16       U     GT3       T   3.0   3.0     other    other   \n",
       "5     GP   M   16       U     LE3       T   4.0   3.0  services    other   \n",
       "6     GP   M   16     NaN     LE3       T   2.0   2.0     other    other   \n",
       "7     GP   F   17       U     GT3       A   4.0   4.0     other  teacher   \n",
       "8     GP   M   15       U     LE3       A   3.0   2.0  services    other   \n",
       "9     GP   M   15       U     NaN     NaN   3.0   4.0     other    other   \n",
       "\n",
       "       reason guardian  traveltime  studytime  failures schoolsup famsup paid  \\\n",
       "0      course   mother         2.0        2.0       0.0       yes     no   no   \n",
       "1      course   father         1.0        2.0       0.0        no    yes   no   \n",
       "2       other   mother         1.0        2.0       3.0       yes     no  NaN   \n",
       "3        home   mother         1.0        3.0       0.0        no    yes  yes   \n",
       "4        home   father         1.0        2.0       0.0        no    yes  yes   \n",
       "5  reputation   mother         1.0        2.0       0.0        no    yes  yes   \n",
       "6        home   mother         1.0        2.0       0.0        no     no   no   \n",
       "7        home   mother         2.0        2.0       0.0       yes    yes   no   \n",
       "8        home   mother         1.0        2.0       0.0        no    yes  yes   \n",
       "9        home   mother         1.0        2.0       0.0        no    yes  yes   \n",
       "\n",
       "  activities nursery  studytime, granular higher internet romantic  famrel  \\\n",
       "0         no     yes                 -6.0    yes      NaN       no     4.0   \n",
       "1         no      no                 -6.0    yes      yes       no     5.0   \n",
       "2         no     yes                 -6.0    yes      yes      NaN     4.0   \n",
       "3        yes     yes                 -9.0    yes      yes      yes     3.0   \n",
       "4         no     yes                 -6.0    yes       no       no     4.0   \n",
       "5        yes     yes                 -6.0    yes      yes       no     5.0   \n",
       "6         no     yes                 -6.0    yes      yes       no     4.0   \n",
       "7         no     yes                 -6.0    yes       no       no     4.0   \n",
       "8         no     yes                 -6.0    yes      yes       no     NaN   \n",
       "9        yes     yes                 -6.0    yes      yes       no     5.0   \n",
       "\n",
       "   freetime  goout  health  absences  score  \n",
       "0       3.0    4.0     3.0       6.0   30.0  \n",
       "1       3.0    3.0     3.0       4.0   30.0  \n",
       "2       3.0    2.0     3.0      10.0   50.0  \n",
       "3       2.0    2.0     5.0       2.0   75.0  \n",
       "4       3.0    2.0     5.0       4.0   50.0  \n",
       "5       4.0    2.0     5.0      10.0   75.0  \n",
       "6       4.0    4.0     3.0       0.0   55.0  \n",
       "7       1.0    4.0     1.0       6.0   30.0  \n",
       "8       2.0    2.0     1.0       0.0   95.0  \n",
       "9       5.0    1.0     5.0       0.0   75.0  "
      ]
     },
     "metadata": {},
     "output_type": "display_data"
    },
    {
     "name": "stdout",
     "output_type": "stream",
     "text": [
      "<class 'pandas.core.frame.DataFrame'>\n",
      "RangeIndex: 395 entries, 0 to 394\n",
      "Data columns (total 30 columns):\n",
      " #   Column               Non-Null Count  Dtype  \n",
      "---  ------               --------------  -----  \n",
      " 0   school               395 non-null    object \n",
      " 1   sex                  395 non-null    object \n",
      " 2   age                  395 non-null    int64  \n",
      " 3   address              378 non-null    object \n",
      " 4   famsize              368 non-null    object \n",
      " 5   Pstatus              350 non-null    object \n",
      " 6   Medu                 392 non-null    float64\n",
      " 7   Fedu                 371 non-null    float64\n",
      " 8   Mjob                 376 non-null    object \n",
      " 9   Fjob                 359 non-null    object \n",
      " 10  reason               378 non-null    object \n",
      " 11  guardian             364 non-null    object \n",
      " 12  traveltime           367 non-null    float64\n",
      " 13  studytime            388 non-null    float64\n",
      " 14  failures             373 non-null    float64\n",
      " 15  schoolsup            386 non-null    object \n",
      " 16  famsup               356 non-null    object \n",
      " 17  paid                 355 non-null    object \n",
      " 18  activities           381 non-null    object \n",
      " 19  nursery              379 non-null    object \n",
      " 20  studytime, granular  388 non-null    float64\n",
      " 21  higher               375 non-null    object \n",
      " 22  internet             361 non-null    object \n",
      " 23  romantic             364 non-null    object \n",
      " 24  famrel               368 non-null    float64\n",
      " 25  freetime             384 non-null    float64\n",
      " 26  goout                387 non-null    float64\n",
      " 27  health               380 non-null    float64\n",
      " 28  absences             383 non-null    float64\n",
      " 29  score                389 non-null    float64\n",
      "dtypes: float64(12), int64(1), object(17)\n",
      "memory usage: 92.7+ KB\n"
     ]
    }
   ],
   "source": [
    "display(st.head(10))\n",
    "st.info()"
   ]
  },
  {
   "cell_type": "code",
   "execution_count": 151,
   "metadata": {},
   "outputs": [],
   "source": [
    "# function for generate first view\n",
    "def first_view(tab):\n",
    "    print('Количество уникальных значений:', st[tab].nunique())\n",
    "    print('Список возможных значений', st[tab].unique())\n",
    "    print('Количество значений\\n', st[tab].value_counts())\n",
    "    print('Гистограмма распределения значений\\n')\n",
    "    st[tab].hist()\n",
    "    print(st[tab].describe())\n",
    "\n",
    "\n",
    "# function for famsize tab. If NAN than 0, if GT3 than 2, if LE3 than 1\n",
    "def famsize_fix(famsize):\n",
    "    if famsize is np.nan:\n",
    "        return 0\n",
    "    elif famsize == 'GT3':\n",
    "        return 2\n",
    "    elif famsize == 'LE3':\n",
    "        return 1\n",
    "    return famsize\n",
    "\n",
    "\n",
    "# function for edu fix. If NAN than mean, else as is in int format\n",
    "def edu_fix(edu):\n",
    "    if math.isnan(edu) == True:\n",
    "        return 3\n",
    "    elif (edu > 4) or (edu < 0):\n",
    "        return 3\n",
    "    else:\n",
    "        return edu\n",
    "\n",
    "\n",
    "# function for job fix. If NAN tha job = other, else as is\n",
    "def job_fix(job):\n",
    "    if job == 'nan':\n",
    "        return 'other'\n",
    "    else:\n",
    "        return job\n",
    "\n",
    "\n",
    "# function for traveltime fix. If NAN than mean value, else as is in int format\n",
    "def time_fix(traveltime, mean):\n",
    "    if math.isnan(traveltime) == True:\n",
    "        return mean\n",
    "    elif (traveltime > 4) or (traveltime < 0):\n",
    "        return mean\n",
    "    else:\n",
    "        return traveltime\n",
    "\n",
    "\n",
    "# function to fix nan values. It replace\n",
    "def str_fix(target, which_fix):\n",
    "    if target is np.nan:\n",
    "        return which_fix\n",
    "    return target\n",
    "\n",
    "\n",
    "# function to fix values in 24-27 tabs\n",
    "def five_point_gr_fix(value_fix, which_fix):\n",
    "    if value_fix in [1, 2, 3, 4, 5]:\n",
    "        return value_fix\n",
    "    else:\n",
    "        return which_fix\n",
    "    return value_fix"
   ]
  },
  {
   "cell_type": "code",
   "execution_count": 152,
   "metadata": {},
   "outputs": [
    {
     "name": "stdout",
     "output_type": "stream",
     "text": [
      "2\n",
      "['GP' 'MS']\n"
     ]
    },
    {
     "data": {
      "text/plain": [
       "[<matplotlib.lines.Line2D at 0x1b5300dab88>]"
      ]
     },
     "execution_count": 152,
     "metadata": {},
     "output_type": "execute_result"
    },
    {
     "data": {
      "image/png": "[encoded data removed]",
      "text/plain": [
       "<Figure size 432x288 with 1 Axes>"
      ]
     },
     "metadata": {
      "needs_background": "light"
     },
     "output_type": "display_data"
    }
   ],
   "source": [
    "# school tab\n",
    "print(st.school.nunique())\n",
    "print(st.school.unique())\n",
    "plt.plot(st.school)"
   ]
  },
  {
   "cell_type": "markdown",
   "metadata": {},
   "source": [
    "Столбец school имеет только два значения ['GP' 'MS'], пустых значений нет"
   ]
  },
  {
   "cell_type": "code",
   "execution_count": 153,
   "metadata": {},
   "outputs": [
    {
     "name": "stdout",
     "output_type": "stream",
     "text": [
      "2\n",
      "['F' 'M']\n",
      "F    208\n",
      "M    187\n",
      "Name: sex, dtype: int64\n"
     ]
    }
   ],
   "source": [
    "# sex tab\n",
    "print(st.sex.nunique())\n",
    "print(st.sex.unique())\n",
    "print(st.sex.value_counts())"
   ]
  },
  {
   "cell_type": "markdown",
   "metadata": {},
   "source": [
    "Столбец sex имеет только два значения F, M. Пустых значений нет, девочек немного больше"
   ]
  },
  {
   "cell_type": "code",
   "execution_count": 154,
   "metadata": {},
   "outputs": [
    {
     "name": "stdout",
     "output_type": "stream",
     "text": [
      "Количество уникальных значений: 8\n",
      "Список возможных значений [18 17 15 16 19 22 20 21]\n",
      "Количество значений\n",
      " 16    104\n",
      "17     98\n",
      "18     82\n",
      "15     82\n",
      "19     24\n",
      "20      3\n",
      "22      1\n",
      "21      1\n",
      "Name: age, dtype: int64\n",
      "Гистограмма распределения значений\n",
      "\n",
      "count    395.000000\n",
      "mean      16.696203\n",
      "std        1.276043\n",
      "min       15.000000\n",
      "25%       16.000000\n",
      "50%       17.000000\n",
      "75%       18.000000\n",
      "max       22.000000\n",
      "Name: age, dtype: float64\n"
     ]
    },
    {
     "data": {
      "image/png": "[encoded data removed]",
      "text/plain": [
       "<Figure size 432x288 with 1 Axes>"
      ]
     },
     "metadata": {
      "needs_background": "light"
     },
     "output_type": "display_data"
    }
   ],
   "source": [
    "# age tab\n",
    "first_view('age')"
   ]
  },
  {
   "cell_type": "markdown",
   "metadata": {},
   "source": [
    "Возможных возрастов - 8, больше всего 16 и 17 летних. Не заполненных значений нет"
   ]
  },
  {
   "cell_type": "code",
   "execution_count": 155,
   "metadata": {},
   "outputs": [
    {
     "name": "stdout",
     "output_type": "stream",
     "text": [
      "Количество уникальных значений: 3\n",
      "Список возможных значений ['U' 'nan' 'R']\n",
      "Количество значений\n",
      " U      295\n",
      "R       83\n",
      "nan     17\n",
      "Name: address, dtype: int64\n",
      "Гистограмма распределения значений\n",
      "\n",
      "count     395\n",
      "unique      3\n",
      "top         U\n",
      "freq      295\n",
      "Name: address, dtype: object\n"
     ]
    },
    {
     "data": {
      "image/png": "[encoded data removed]",
      "text/plain": [
       "<Figure size 432x288 with 1 Axes>"
      ]
     },
     "metadata": {
      "needs_background": "light"
     },
     "output_type": "display_data"
    }
   ],
   "source": [
    "# address tab\n",
    "st.address = st.address.astype(str).apply(\n",
    "    lambda x: None if x.strip() == '' else x)\n",
    "first_view('address')"
   ]
  },
  {
   "cell_type": "markdown",
   "metadata": {},
   "source": [
    "17 учеников не имеют признака адреса. Заменил на None. Большинство студенов живут в городе"
   ]
  },
  {
   "cell_type": "code",
   "execution_count": 156,
   "metadata": {},
   "outputs": [
    {
     "name": "stdout",
     "output_type": "stream",
     "text": [
      "Количество уникальных значений: 3\n",
      "Список возможных значений [0 2 1]\n",
      "Количество значений\n",
      " 2    261\n",
      "1    107\n",
      "0     27\n",
      "Name: famsize, dtype: int64\n",
      "Гистограмма распределения значений\n",
      "\n",
      "count    395.000000\n",
      "mean       1.592405\n",
      "std        0.615735\n",
      "min        0.000000\n",
      "25%        1.000000\n",
      "50%        2.000000\n",
      "75%        2.000000\n",
      "max        2.000000\n",
      "Name: famsize, dtype: float64\n"
     ]
    },
    {
     "data": {
      "image/png": "[encoded data removed]",
      "text/plain": [
       "<Figure size 432x288 with 1 Axes>"
      ]
     },
     "metadata": {
      "needs_background": "light"
     },
     "output_type": "display_data"
    }
   ],
   "source": [
    "# famsize tab\n",
    "st.famsize = st.famsize.apply(famsize_fix)\n",
    "first_view('famsize')"
   ]
  },
  {
   "cell_type": "markdown",
   "metadata": {},
   "source": [
    "Столбец famsize. Преобразовал в численный. 0 - значение неизвестно, 1 меньше 3 человек, 2 больше трех человек"
   ]
  },
  {
   "cell_type": "code",
   "execution_count": 157,
   "metadata": {},
   "outputs": [
    {
     "name": "stdout",
     "output_type": "stream",
     "text": [
      "Количество уникальных значений: 3\n",
      "Список возможных значений ['A' 'nan' 'T']\n",
      "Количество значений\n",
      " T      314\n",
      "nan     45\n",
      "A       36\n",
      "Name: Pstatus, dtype: int64\n",
      "Гистограмма распределения значений\n",
      "\n",
      "count     395\n",
      "unique      3\n",
      "top         T\n",
      "freq      314\n",
      "Name: Pstatus, dtype: object\n"
     ]
    },
    {
     "data": {
      "image/png": "[encoded data removed]",
      "text/plain": [
       "<Figure size 432x288 with 1 Axes>"
      ]
     },
     "metadata": {
      "needs_background": "light"
     },
     "output_type": "display_data"
    }
   ],
   "source": [
    "# pstatus tab\n",
    "st.Pstatus = st.Pstatus.astype(str).apply(\n",
    "    lambda x: None if x.strip() == '' else x)\n",
    "first_view('Pstatus')"
   ]
  },
  {
   "cell_type": "markdown",
   "metadata": {},
   "source": [
    "Большинство студентов живут с родителями. Меньшинство - одни. Много пустых данных, больше чем одиноких студентов"
   ]
  },
  {
   "cell_type": "code",
   "execution_count": 158,
   "metadata": {},
   "outputs": [
    {
     "name": "stdout",
     "output_type": "stream",
     "text": [
      "Количество уникальных значений: 5\n",
      "Список возможных значений [4. 1. 3. 2. 0.]\n",
      "Количество значений\n",
      " 4.0    131\n",
      "2.0    102\n",
      "3.0    100\n",
      "1.0     59\n",
      "0.0      3\n",
      "Name: Medu, dtype: int64\n",
      "Гистограмма распределения значений\n",
      "\n",
      "count    395.000000\n",
      "mean       2.751899\n",
      "std        1.094154\n",
      "min        0.000000\n",
      "25%        2.000000\n",
      "50%        3.000000\n",
      "75%        4.000000\n",
      "max        4.000000\n",
      "Name: Medu, dtype: float64\n"
     ]
    },
    {
     "data": {
      "image/png": "[encoded data removed]",
      "text/plain": [
       "<Figure size 432x288 with 1 Axes>"
      ]
     },
     "metadata": {
      "needs_background": "light"
     },
     "output_type": "display_data"
    }
   ],
   "source": [
    "# Medu tab\n",
    "st.Medu = st.Medu.apply(edu_fix)\n",
    "first_view('Medu')"
   ]
  },
  {
   "cell_type": "markdown",
   "metadata": {},
   "source": [
    "Medu преобразовал к числовому типу. Если нет инофрмации об образовании - приравнял к округленному среднему (3)"
   ]
  },
  {
   "cell_type": "code",
   "execution_count": 159,
   "metadata": {
    "scrolled": true
   },
   "outputs": [
    {
     "name": "stdout",
     "output_type": "stream",
     "text": [
      "Количество уникальных значений: 5\n",
      "Список возможных значений [4. 1. 2. 3. 0.]\n",
      "Количество значений\n",
      " 3.0    121\n",
      "2.0    106\n",
      "4.0     88\n",
      "1.0     78\n",
      "0.0      2\n",
      "Name: Fedu, dtype: int64\n",
      "Гистограмма распределения значений\n",
      "\n",
      "count    395.000000\n",
      "mean       2.544304\n",
      "std        1.059133\n",
      "min        0.000000\n",
      "25%        2.000000\n",
      "50%        3.000000\n",
      "75%        3.000000\n",
      "max        4.000000\n",
      "Name: Fedu, dtype: float64\n"
     ]
    },
    {
     "data": {
      "image/png": "[encoded data removed]",
      "text/plain": [
       "<Figure size 432x288 with 1 Axes>"
      ]
     },
     "metadata": {
      "needs_background": "light"
     },
     "output_type": "display_data"
    }
   ],
   "source": [
    "# Fedu tab\n",
    "st.Fedu = st.Fedu.apply(edu_fix)\n",
    "first_view('Fedu')"
   ]
  },
  {
   "cell_type": "markdown",
   "metadata": {},
   "source": [
    "Fedu преобразовал к числовому типу. Если нет инофрмации об образовании - приравнял к округленному среднему (3), один выброс ==40 приравнял к 3"
   ]
  },
  {
   "cell_type": "code",
   "execution_count": 160,
   "metadata": {},
   "outputs": [
    {
     "name": "stdout",
     "output_type": "stream",
     "text": [
      "Количество уникальных значений: 5\n",
      "Список возможных значений ['at_home' 'health' 'other' 'services' 'teacher']\n",
      "Количество значений\n",
      " other       152\n",
      "services     98\n",
      "at_home      58\n",
      "teacher      55\n",
      "health       32\n",
      "Name: Mjob, dtype: int64\n",
      "Гистограмма распределения значений\n",
      "\n",
      "count       395\n",
      "unique        5\n",
      "top       other\n",
      "freq        152\n",
      "Name: Mjob, dtype: object\n"
     ]
    },
    {
     "data": {
      "image/png": "[encoded data removed]",
      "text/plain": [
       "<Figure size 432x288 with 1 Axes>"
      ]
     },
     "metadata": {
      "needs_background": "light"
     },
     "output_type": "display_data"
    }
   ],
   "source": [
    "# Mjob tab\n",
    "st.Mjob = st.Mjob.astype(str).apply(job_fix)\n",
    "first_view('Mjob')"
   ]
  },
  {
   "cell_type": "markdown",
   "metadata": {},
   "source": [
    "Mjob убрал NAN, заменив их на other"
   ]
  },
  {
   "cell_type": "code",
   "execution_count": 161,
   "metadata": {},
   "outputs": [
    {
     "name": "stdout",
     "output_type": "stream",
     "text": [
      "Количество уникальных значений: 5\n",
      "Список возможных значений ['teacher' 'other' 'health' 'services' 'at_home']\n",
      "Количество значений\n",
      " other       233\n",
      "services    102\n",
      "teacher      29\n",
      "at_home      16\n",
      "health       15\n",
      "Name: Fjob, dtype: int64\n",
      "Гистограмма распределения значений\n",
      "\n",
      "count       395\n",
      "unique        5\n",
      "top       other\n",
      "freq        233\n",
      "Name: Fjob, dtype: object\n"
     ]
    },
    {
     "data": {
      "image/png": "[encoded data removed]",
      "text/plain": [
       "<Figure size 432x288 with 1 Axes>"
      ]
     },
     "metadata": {
      "needs_background": "light"
     },
     "output_type": "display_data"
    }
   ],
   "source": [
    "# Fjob tab\n",
    "st.Fjob = st.Fjob.astype(str).apply(job_fix)\n",
    "first_view('Fjob')"
   ]
  },
  {
   "cell_type": "markdown",
   "metadata": {},
   "source": [
    "Fjob убрал NAN, заменив их на other"
   ]
  },
  {
   "cell_type": "code",
   "execution_count": 162,
   "metadata": {},
   "outputs": [
    {
     "name": "stdout",
     "output_type": "stream",
     "text": [
      "Количество уникальных значений: 4\n",
      "Список возможных значений ['course' 'other' 'home' 'reputation']\n",
      "Количество значений\n",
      " course        137\n",
      "home          104\n",
      "reputation    103\n",
      "other          51\n",
      "Name: reason, dtype: int64\n",
      "Гистограмма распределения значений\n",
      "\n",
      "count        395\n",
      "unique         4\n",
      "top       course\n",
      "freq         137\n",
      "Name: reason, dtype: object\n"
     ]
    },
    {
     "data": {
      "image/png": "[encoded data removed]",
      "text/plain": [
       "<Figure size 432x288 with 1 Axes>"
      ]
     },
     "metadata": {
      "needs_background": "light"
     },
     "output_type": "display_data"
    }
   ],
   "source": [
    "# reason tab\n",
    "st.reason = st.reason.astype(str).apply(job_fix)\n",
    "first_view('reason')"
   ]
  },
  {
   "cell_type": "markdown",
   "metadata": {},
   "source": [
    "reason убрал NAN, заменив их на other. Использовал функцию job_fix, так как логика работы - подходит"
   ]
  },
  {
   "cell_type": "code",
   "execution_count": 163,
   "metadata": {},
   "outputs": [
    {
     "name": "stdout",
     "output_type": "stream",
     "text": [
      "Количество уникальных значений: 3\n",
      "Список возможных значений ['mother' 'father' 'other']\n",
      "Количество значений\n",
      " mother    250\n",
      "father     86\n",
      "other      59\n",
      "Name: guardian, dtype: int64\n",
      "Гистограмма распределения значений\n",
      "\n",
      "count        395\n",
      "unique         3\n",
      "top       mother\n",
      "freq         250\n",
      "Name: guardian, dtype: object\n"
     ]
    },
    {
     "data": {
      "image/png": "[encoded data removed]",
      "text/plain": [
       "<Figure size 432x288 with 1 Axes>"
      ]
     },
     "metadata": {
      "needs_background": "light"
     },
     "output_type": "display_data"
    }
   ],
   "source": [
    "# guardian tab\n",
    "st.guardian = st.guardian.astype(str).apply(job_fix)\n",
    "first_view('guardian')"
   ]
  },
  {
   "cell_type": "markdown",
   "metadata": {},
   "source": [
    "guardian убрал NAN, заменив их на other. Использовал функцию job_fix, так как логика работы - подходит"
   ]
  },
  {
   "cell_type": "code",
   "execution_count": 164,
   "metadata": {},
   "outputs": [
    {
     "name": "stdout",
     "output_type": "stream",
     "text": [
      "Количество уникальных значений: 4\n",
      "Список возможных значений [2. 1. 3. 4.]\n",
      "Количество значений\n",
      " 1.0    270\n",
      "2.0     96\n",
      "3.0     22\n",
      "4.0      7\n",
      "Name: traveltime, dtype: int64\n",
      "Гистограмма распределения значений\n",
      "\n",
      "count    395.000000\n",
      "mean       1.407595\n",
      "std        0.678490\n",
      "min        1.000000\n",
      "25%        1.000000\n",
      "50%        1.000000\n",
      "75%        2.000000\n",
      "max        4.000000\n",
      "Name: traveltime, dtype: float64\n"
     ]
    },
    {
     "data": {
      "image/png": "[encoded data removed]",
      "text/plain": [
       "<Figure size 432x288 with 1 Axes>"
      ]
     },
     "metadata": {
      "needs_background": "light"
     },
     "output_type": "display_data"
    }
   ],
   "source": [
    "# traveltime tab\n",
    "st.traveltime = st.traveltime.apply(time_fix, mean=round(st.traveltime.mean()))\n",
    "first_view('traveltime')"
   ]
  },
  {
   "cell_type": "markdown",
   "metadata": {},
   "source": [
    "traveltime убрал NAN, заменив их на 1 (mean==1.4)."
   ]
  },
  {
   "cell_type": "code",
   "execution_count": 165,
   "metadata": {},
   "outputs": [
    {
     "name": "stdout",
     "output_type": "stream",
     "text": [
      "Количество уникальных значений: 4\n",
      "Список возможных значений [2. 3. 1. 4.]\n",
      "Количество значений\n",
      " 2.0    201\n",
      "1.0    103\n",
      "3.0     64\n",
      "4.0     27\n",
      "Name: studytime, dtype: int64\n",
      "Гистограмма распределения значений\n",
      "\n",
      "count    395.000000\n",
      "mean       2.037975\n",
      "std        0.834580\n",
      "min        1.000000\n",
      "25%        1.000000\n",
      "50%        2.000000\n",
      "75%        2.000000\n",
      "max        4.000000\n",
      "Name: studytime, dtype: float64\n"
     ]
    },
    {
     "data": {
      "image/png": "[encoded data removed]",
      "text/plain": [
       "<Figure size 432x288 with 1 Axes>"
      ]
     },
     "metadata": {
      "needs_background": "light"
     },
     "output_type": "display_data"
    }
   ],
   "source": [
    "# studytime tab\n",
    "st.studytime = st.studytime.apply(time_fix, mean=round(st.studytime.mean()))\n",
    "first_view('studytime')"
   ]
  },
  {
   "cell_type": "markdown",
   "metadata": {},
   "source": [
    "studytime убрал NAN, заменив их на mean."
   ]
  },
  {
   "cell_type": "code",
   "execution_count": 166,
   "metadata": {},
   "outputs": [
    {
     "name": "stdout",
     "output_type": "stream",
     "text": [
      "Количество уникальных значений: 4\n",
      "Список возможных значений [0. 3. 2. 1.]\n",
      "Количество значений\n",
      " 0.0    315\n",
      "1.0     49\n",
      "2.0     16\n",
      "3.0     15\n",
      "Name: failures, dtype: int64\n",
      "Гистограмма распределения значений\n",
      "\n",
      "count    395.000000\n",
      "mean       0.318987\n",
      "std        0.726244\n",
      "min        0.000000\n",
      "25%        0.000000\n",
      "50%        0.000000\n",
      "75%        0.000000\n",
      "max        3.000000\n",
      "Name: failures, dtype: float64\n"
     ]
    },
    {
     "data": {
      "image/png": "[encoded data removed]",
      "text/plain": [
       "<Figure size 432x288 with 1 Axes>"
      ]
     },
     "metadata": {
      "needs_background": "light"
     },
     "output_type": "display_data"
    }
   ],
   "source": [
    "# failures tab\n",
    "st.failures = st.failures.apply(time_fix, mean=round(st.failures.mean()))\n",
    "first_view('failures')"
   ]
  },
  {
   "cell_type": "markdown",
   "metadata": {},
   "source": [
    "failures, убрал nan подставив округленное среднее"
   ]
  },
  {
   "cell_type": "code",
   "execution_count": 167,
   "metadata": {},
   "outputs": [
    {
     "name": "stdout",
     "output_type": "stream",
     "text": [
      "Количество уникальных значений: 3\n",
      "Список возможных значений ['yes' 'no' 'None']\n",
      "Количество значений\n",
      " no      335\n",
      "yes      51\n",
      "None      9\n",
      "Name: schoolsup, dtype: int64\n",
      "Гистограмма распределения значений\n",
      "\n",
      "count     395\n",
      "unique      3\n",
      "top        no\n",
      "freq      335\n",
      "Name: schoolsup, dtype: object\n"
     ]
    },
    {
     "data": {
      "image/png": "[encoded data removed]",
      "text/plain": [
       "<Figure size 432x288 with 1 Axes>"
      ]
     },
     "metadata": {
      "needs_background": "light"
     },
     "output_type": "display_data"
    }
   ],
   "source": [
    "# schoolsup tab\n",
    "st.schoolsup = st.schoolsup.apply(str_fix, which_fix='None')\n",
    "first_view('schoolsup')"
   ]
  },
  {
   "cell_type": "markdown",
   "metadata": {},
   "source": [
    "убрал nan, заменив на 'None'"
   ]
  },
  {
   "cell_type": "code",
   "execution_count": 168,
   "metadata": {},
   "outputs": [
    {
     "name": "stdout",
     "output_type": "stream",
     "text": [
      "Количество уникальных значений: 3\n",
      "Список возможных значений ['no' 'yes' 'None']\n",
      "Количество значений\n",
      " yes     219\n",
      "no      137\n",
      "None     39\n",
      "Name: famsup, dtype: int64\n",
      "Гистограмма распределения значений\n",
      "\n",
      "count     395\n",
      "unique      3\n",
      "top       yes\n",
      "freq      219\n",
      "Name: famsup, dtype: object\n"
     ]
    },
    {
     "data": {
      "image/png": "[encoded data removed]",
      "text/plain": [
       "<Figure size 432x288 with 1 Axes>"
      ]
     },
     "metadata": {
      "needs_background": "light"
     },
     "output_type": "display_data"
    }
   ],
   "source": [
    "# famsup tab\n",
    "st.famsup = st.famsup.apply(str_fix, which_fix='None')\n",
    "first_view('famsup')"
   ]
  },
  {
   "cell_type": "markdown",
   "metadata": {},
   "source": [
    "убрал nan, заменив на 'None'"
   ]
  },
  {
   "cell_type": "code",
   "execution_count": 169,
   "metadata": {},
   "outputs": [
    {
     "name": "stdout",
     "output_type": "stream",
     "text": [
      "Количество уникальных значений: 3\n",
      "Список возможных значений ['no' 'None' 'yes']\n",
      "Количество значений\n",
      " no      200\n",
      "yes     155\n",
      "None     40\n",
      "Name: paid, dtype: int64\n",
      "Гистограмма распределения значений\n",
      "\n",
      "count     395\n",
      "unique      3\n",
      "top        no\n",
      "freq      200\n",
      "Name: paid, dtype: object\n"
     ]
    },
    {
     "data": {
      "image/png": "[encoded data removed]",
      "text/plain": [
       "<Figure size 432x288 with 1 Axes>"
      ]
     },
     "metadata": {
      "needs_background": "light"
     },
     "output_type": "display_data"
    }
   ],
   "source": [
    "# paid tab\n",
    "st.paid = st.paid.apply(str_fix, which_fix='None')\n",
    "first_view('paid')"
   ]
  },
  {
   "cell_type": "markdown",
   "metadata": {},
   "source": [
    "убрал nan, заменив на 'None'"
   ]
  },
  {
   "cell_type": "code",
   "execution_count": 170,
   "metadata": {},
   "outputs": [
    {
     "name": "stdout",
     "output_type": "stream",
     "text": [
      "Количество уникальных значений: 3\n",
      "Список возможных значений ['no' 'yes' 'None']\n",
      "Количество значений\n",
      " yes     195\n",
      "no      186\n",
      "None     14\n",
      "Name: activities, dtype: int64\n",
      "Гистограмма распределения значений\n",
      "\n",
      "count     395\n",
      "unique      3\n",
      "top       yes\n",
      "freq      195\n",
      "Name: activities, dtype: object\n"
     ]
    },
    {
     "data": {
      "image/png": "[encoded data removed]",
      "text/plain": [
       "<Figure size 432x288 with 1 Axes>"
      ]
     },
     "metadata": {
      "needs_background": "light"
     },
     "output_type": "display_data"
    }
   ],
   "source": [
    "# activities tab\n",
    "st.activities = st.activities.apply(str_fix, which_fix='None')\n",
    "first_view('activities')"
   ]
  },
  {
   "cell_type": "markdown",
   "metadata": {},
   "source": [
    "убрал nan, заменив на 'None'"
   ]
  },
  {
   "cell_type": "code",
   "execution_count": 171,
   "metadata": {},
   "outputs": [
    {
     "name": "stdout",
     "output_type": "stream",
     "text": [
      "Количество уникальных значений: 3\n",
      "Список возможных значений ['yes' 'no' 'None']\n",
      "Количество значений\n",
      " yes     300\n",
      "no       79\n",
      "None     16\n",
      "Name: nursery, dtype: int64\n",
      "Гистограмма распределения значений\n",
      "\n",
      "count     395\n",
      "unique      3\n",
      "top       yes\n",
      "freq      300\n",
      "Name: nursery, dtype: object\n"
     ]
    },
    {
     "data": {
      "image/png": "[encoded data removed]",
      "text/plain": [
       "<Figure size 432x288 with 1 Axes>"
      ]
     },
     "metadata": {
      "needs_background": "light"
     },
     "output_type": "display_data"
    }
   ],
   "source": [
    "# nursery tab\n",
    "st.nursery = st.nursery.apply(str_fix, which_fix='None')\n",
    "first_view('nursery')"
   ]
  },
  {
   "cell_type": "markdown",
   "metadata": {},
   "source": [
    "убрал nan, заменив на 'None'"
   ]
  },
  {
   "cell_type": "code",
   "execution_count": 172,
   "metadata": {},
   "outputs": [
    {
     "name": "stdout",
     "output_type": "stream",
     "text": [
      "Количество уникальных значений: 3\n",
      "Список возможных значений ['yes' 'None' 'no']\n",
      "Количество значений\n",
      " yes     356\n",
      "None     20\n",
      "no       19\n",
      "Name: higher, dtype: int64\n",
      "Гистограмма распределения значений\n",
      "\n",
      "count     395\n",
      "unique      3\n",
      "top       yes\n",
      "freq      356\n",
      "Name: higher, dtype: object\n"
     ]
    },
    {
     "data": {
      "image/png": "[encoded data removed]",
      "text/plain": [
       "<Figure size 432x288 with 1 Axes>"
      ]
     },
     "metadata": {
      "needs_background": "light"
     },
     "output_type": "display_data"
    }
   ],
   "source": [
    "# higher tab\n",
    "st.higher = st.higher.apply(str_fix, which_fix='None')\n",
    "first_view('higher')"
   ]
  },
  {
   "cell_type": "markdown",
   "metadata": {},
   "source": [
    "убрал nan, заменив на 'None'"
   ]
  },
  {
   "cell_type": "code",
   "execution_count": 173,
   "metadata": {},
   "outputs": [
    {
     "name": "stdout",
     "output_type": "stream",
     "text": [
      "Количество уникальных значений: 3\n",
      "Список возможных значений ['None' 'yes' 'no']\n",
      "Количество значений\n",
      " yes     305\n",
      "no       56\n",
      "None     34\n",
      "Name: internet, dtype: int64\n",
      "Гистограмма распределения значений\n",
      "\n",
      "count     395\n",
      "unique      3\n",
      "top       yes\n",
      "freq      305\n",
      "Name: internet, dtype: object\n"
     ]
    },
    {
     "data": {
      "image/png": "[encoded data removed]",
      "text/plain": [
       "<Figure size 432x288 with 1 Axes>"
      ]
     },
     "metadata": {
      "needs_background": "light"
     },
     "output_type": "display_data"
    }
   ],
   "source": [
    "# internet tab\n",
    "st.internet = st.internet.apply(str_fix, which_fix='None')\n",
    "first_view('internet')"
   ]
  },
  {
   "cell_type": "markdown",
   "metadata": {},
   "source": [
    "убрал nan, заменив на 'None'"
   ]
  },
  {
   "cell_type": "code",
   "execution_count": 174,
   "metadata": {},
   "outputs": [
    {
     "name": "stdout",
     "output_type": "stream",
     "text": [
      "Количество уникальных значений: 3\n",
      "Список возможных значений ['no' 'None' 'yes']\n",
      "Количество значений\n",
      " no      240\n",
      "yes     124\n",
      "None     31\n",
      "Name: romantic, dtype: int64\n",
      "Гистограмма распределения значений\n",
      "\n",
      "count     395\n",
      "unique      3\n",
      "top        no\n",
      "freq      240\n",
      "Name: romantic, dtype: object\n"
     ]
    },
    {
     "data": {
      "image/png": "[encoded data removed]",
      "text/plain": [
       "<Figure size 432x288 with 1 Axes>"
      ]
     },
     "metadata": {
      "needs_background": "light"
     },
     "output_type": "display_data"
    }
   ],
   "source": [
    "# romantic tab\n",
    "st.romantic = st.romantic.apply(str_fix, which_fix='None')\n",
    "first_view('romantic')"
   ]
  },
  {
   "cell_type": "markdown",
   "metadata": {},
   "source": [
    "убрал nan, заменив на 'None'"
   ]
  },
  {
   "cell_type": "code",
   "execution_count": 175,
   "metadata": {},
   "outputs": [
    {
     "name": "stdout",
     "output_type": "stream",
     "text": [
      "Количество уникальных значений: 5\n",
      "Список возможных значений [4. 5. 3. 2. 1.]\n",
      "Количество значений\n",
      " 4.0    210\n",
      "5.0     99\n",
      "3.0     62\n",
      "2.0     17\n",
      "1.0      7\n",
      "Name: famrel, dtype: int64\n",
      "Гистограмма распределения значений\n",
      "\n",
      "count    395.000000\n",
      "mean       3.954430\n",
      "std        0.859671\n",
      "min        1.000000\n",
      "25%        4.000000\n",
      "50%        4.000000\n",
      "75%        4.500000\n",
      "max        5.000000\n",
      "Name: famrel, dtype: float64\n"
     ]
    },
    {
     "data": {
      "image/png": "[encoded data removed]",
      "text/plain": [
       "<Figure size 432x288 with 1 Axes>"
      ]
     },
     "metadata": {
      "needs_background": "light"
     },
     "output_type": "display_data"
    }
   ],
   "source": [
    "# famrel tab\n",
    "st.famrel = st.famrel.apply(\n",
    "    five_point_gr_fix, which_fix=round(st.famrel.median()))\n",
    "first_view('famrel')"
   ]
  },
  {
   "cell_type": "markdown",
   "metadata": {},
   "source": [
    "убрал NaN, -1 заменив медианным значением"
   ]
  },
  {
   "cell_type": "code",
   "execution_count": 176,
   "metadata": {},
   "outputs": [
    {
     "name": "stdout",
     "output_type": "stream",
     "text": [
      "Количество уникальных значений: 5\n",
      "Список возможных значений [3. 2. 4. 1. 5.]\n",
      "Количество значений\n",
      " 3.0    164\n",
      "4.0    112\n",
      "2.0     63\n",
      "5.0     38\n",
      "1.0     18\n",
      "Name: freetime, dtype: int64\n",
      "Гистограмма распределения значений\n",
      "\n",
      "count    395.000000\n",
      "mean       3.225316\n",
      "std        0.980711\n",
      "min        1.000000\n",
      "25%        3.000000\n",
      "50%        3.000000\n",
      "75%        4.000000\n",
      "max        5.000000\n",
      "Name: freetime, dtype: float64\n"
     ]
    },
    {
     "data": {
      "image/png": "[encoded data removed]",
      "text/plain": [
       "<Figure size 432x288 with 1 Axes>"
      ]
     },
     "metadata": {
      "needs_background": "light"
     },
     "output_type": "display_data"
    }
   ],
   "source": [
    "# freetime tab\n",
    "st.freetime = st.freetime.apply(\n",
    "    five_point_gr_fix, which_fix=round(st.freetime.median()))\n",
    "first_view('freetime')"
   ]
  },
  {
   "cell_type": "markdown",
   "metadata": {},
   "source": [
    "убрал NaN заменив медианным значением"
   ]
  },
  {
   "cell_type": "code",
   "execution_count": 177,
   "metadata": {},
   "outputs": [
    {
     "name": "stdout",
     "output_type": "stream",
     "text": [
      "Количество уникальных значений: 5\n",
      "Список возможных значений [4. 3. 2. 1. 5.]\n",
      "Количество значений\n",
      " 3.0    135\n",
      "2.0    101\n",
      "4.0     84\n",
      "5.0     52\n",
      "1.0     23\n",
      "Name: goout, dtype: int64\n",
      "Гистограмма распределения значений\n",
      "\n",
      "count    395.000000\n",
      "mean       3.103797\n",
      "std        1.104610\n",
      "min        1.000000\n",
      "25%        2.000000\n",
      "50%        3.000000\n",
      "75%        4.000000\n",
      "max        5.000000\n",
      "Name: goout, dtype: float64\n"
     ]
    },
    {
     "data": {
      "image/png": "[encoded data removed]",
      "text/plain": [
       "<Figure size 432x288 with 1 Axes>"
      ]
     },
     "metadata": {
      "needs_background": "light"
     },
     "output_type": "display_data"
    }
   ],
   "source": [
    "# goout tab\n",
    "st.goout = st.goout.apply(\n",
    "    five_point_gr_fix, which_fix=round(st.goout.median()))\n",
    "first_view('goout')"
   ]
  },
  {
   "cell_type": "markdown",
   "metadata": {},
   "source": [
    "убрал NaN заменив медианным значением"
   ]
  },
  {
   "cell_type": "code",
   "execution_count": 178,
   "metadata": {},
   "outputs": [
    {
     "name": "stdout",
     "output_type": "stream",
     "text": [
      "Количество уникальных значений: 5\n",
      "Список возможных значений [3. 5. 1. 2. 4.]\n",
      "Количество значений\n",
      " 5.0    138\n",
      "3.0     89\n",
      "4.0     78\n",
      "1.0     47\n",
      "2.0     43\n",
      "Name: health, dtype: int64\n",
      "Гистограмма распределения значений\n",
      "\n",
      "count    395.000000\n",
      "mean       3.549367\n",
      "std        1.372118\n",
      "min        1.000000\n",
      "25%        3.000000\n",
      "50%        4.000000\n",
      "75%        5.000000\n",
      "max        5.000000\n",
      "Name: health, dtype: float64\n"
     ]
    },
    {
     "data": {
      "image/png": "[encoded data removed]",
      "text/plain": [
       "<Figure size 432x288 with 1 Axes>"
      ]
     },
     "metadata": {
      "needs_background": "light"
     },
     "output_type": "display_data"
    }
   ],
   "source": [
    "# health tab\n",
    "st.health = st.health.apply(\n",
    "    five_point_gr_fix, which_fix=round(st.health.median()))\n",
    "first_view('health')"
   ]
  },
  {
   "cell_type": "markdown",
   "metadata": {},
   "source": [
    "убрал NaN заменив медианным значением"
   ]
  },
  {
   "cell_type": "code",
   "execution_count": 179,
   "metadata": {},
   "outputs": [
    {
     "name": "stdout",
     "output_type": "stream",
     "text": [
      "25-й перцентиль: 0.0, 75-й перцентиль: 8.0, IQR: 8.0,  Границы выбросов: [-12.0, 20.0].\n",
      "Количество уникальных значений: 21\n",
      "Список возможных значений [ 6.  4. 10.  2.  0. 16. 14.  7.  8. 12. 18. 20.  5. 13. 15.  3.  1. 19.\n",
      "  9. 11. 17.]\n",
      "Количество значений\n",
      " 0.0     111\n",
      "2.0      60\n",
      "4.0      53\n",
      "6.0      31\n",
      "8.0      21\n",
      "10.0     17\n",
      "12.0     12\n",
      "14.0     12\n",
      "3.0       8\n",
      "16.0      7\n",
      "7.0       6\n",
      "18.0      5\n",
      "5.0       5\n",
      "20.0      4\n",
      "1.0       3\n",
      "9.0       3\n",
      "11.0      2\n",
      "13.0      2\n",
      "15.0      2\n",
      "19.0      1\n",
      "17.0      1\n",
      "Name: absences, dtype: int64\n",
      "Гистограмма распределения значений\n",
      "\n",
      "count    366.000000\n",
      "mean       4.603825\n",
      "std        4.965512\n",
      "min        0.000000\n",
      "25%        0.000000\n",
      "50%        4.000000\n",
      "75%        7.000000\n",
      "max       20.000000\n",
      "Name: absences, dtype: float64\n"
     ]
    },
    {
     "data": {
      "image/png": "[encoded data removed]",
      "text/plain": [
       "<Figure size 432x288 with 1 Axes>"
      ]
     },
     "metadata": {
      "needs_background": "light"
     },
     "output_type": "display_data"
    }
   ],
   "source": [
    "# absences tab\n",
    "\n",
    "median = st.absences.median()\n",
    "IQR = st.absences.quantile(0.75) - st.absences.quantile(0.25)\n",
    "perc25 = st.absences.quantile(0.25)\n",
    "perc75 = st.absences.quantile(0.75)\n",
    "print('25-й перцентиль: {},'.format(perc25), '75-й перцентиль: {},'.format(perc75),\n",
    "      \"IQR: {}, \".format(IQR), \"Границы выбросов: [{f}, {l}].\".format(f=perc25 - 1.5*IQR, l=perc75 + 1.5*IQR))\n",
    "# st.absences.loc[st.absences.between(perc25 - 1.5*IQR, perc75 + 1.5*IQR)].hist(bins = 10, range = (0, 10),\n",
    "#                                                                                             label = 'IQR')\n",
    "# plt.legend();\n",
    "\n",
    "st = st.loc[st.absences.between(perc25 - 1.5*IQR, perc75 + 1.5*IQR)]\n",
    "\n",
    "first_view('absences')"
   ]
  },
  {
   "cell_type": "code",
   "execution_count": 180,
   "metadata": {},
   "outputs": [
    {
     "name": "stdout",
     "output_type": "stream",
     "text": [
      "Количество уникальных значений: 17\n",
      "Список возможных значений [ 30.  50.  75.  55.  95.  45.  60.  70.  80.  25.  40.  85.  90.  65.\n",
      " 100.  35.   0.]\n",
      "Количество значений\n",
      " 50.0     53\n",
      "55.0     42\n",
      "0.0      36\n",
      "75.0     31\n",
      "65.0     30\n",
      "60.0     29\n",
      "70.0     27\n",
      "40.0     26\n",
      "45.0     23\n",
      "80.0     16\n",
      "30.0     14\n",
      "35.0      9\n",
      "90.0      9\n",
      "25.0      7\n",
      "95.0      5\n",
      "85.0      3\n",
      "100.0     1\n",
      "Name: score, dtype: int64\n",
      "Гистограмма распределения значений\n",
      "\n",
      "count    361.000000\n",
      "mean      51.994460\n",
      "std       22.956117\n",
      "min        0.000000\n",
      "25%       40.000000\n",
      "50%       55.000000\n",
      "75%       70.000000\n",
      "max      100.000000\n",
      "Name: score, dtype: float64\n"
     ]
    },
    {
     "data": {
      "image/png": "[encoded data removed]",
      "text/plain": [
       "<Figure size 432x288 with 1 Axes>"
      ]
     },
     "metadata": {
      "needs_background": "light"
     },
     "output_type": "display_data"
    }
   ],
   "source": [
    "# score tab\n",
    "st = st.loc[st.score == st.score]\n",
    "first_view('score')"
   ]
  },
  {
   "cell_type": "markdown",
   "metadata": {},
   "source": [
    "## предварительная обработка данных по каждому столбцу завершена"
   ]
  },
  {
   "cell_type": "markdown",
   "metadata": {},
   "source": [
    "## Корреляционный анализ"
   ]
  },
  {
   "cell_type": "code",
   "execution_count": 181,
   "metadata": {
    "scrolled": false
   },
   "outputs": [],
   "source": [
    "#sns.pairplot(st, kind = 'reg')"
   ]
  },
  {
   "cell_type": "code",
   "execution_count": 182,
   "metadata": {},
   "outputs": [
    {
     "data": {
      "text/html": [
       "<div>\n",
       "<style scoped>\n",
       "    .dataframe tbody tr th:only-of-type {\n",
       "        vertical-align: middle;\n",
       "    }\n",
       "\n",
       "    .dataframe tbody tr th {\n",
       "        vertical-align: top;\n",
       "    }\n",
       "\n",
       "    .dataframe thead th {\n",
       "        text-align: right;\n",
       "    }\n",
       "</style>\n",
       "<table border=\"1\" class=\"dataframe\">\n",
       "  <thead>\n",
       "    <tr style=\"text-align: right;\">\n",
       "      <th></th>\n",
       "      <th>age</th>\n",
       "      <th>famsize</th>\n",
       "      <th>Medu</th>\n",
       "      <th>Fedu</th>\n",
       "      <th>traveltime</th>\n",
       "      <th>studytime</th>\n",
       "      <th>failures</th>\n",
       "      <th>studytime, granular</th>\n",
       "      <th>famrel</th>\n",
       "      <th>freetime</th>\n",
       "      <th>goout</th>\n",
       "      <th>health</th>\n",
       "      <th>absences</th>\n",
       "      <th>score</th>\n",
       "    </tr>\n",
       "  </thead>\n",
       "  <tbody>\n",
       "    <tr>\n",
       "      <th>age</th>\n",
       "      <td>1.000000</td>\n",
       "      <td>-0.010596</td>\n",
       "      <td>-0.164165</td>\n",
       "      <td>-0.164119</td>\n",
       "      <td>0.074644</td>\n",
       "      <td>0.000437</td>\n",
       "      <td>0.183789</td>\n",
       "      <td>-0.000417</td>\n",
       "      <td>0.048036</td>\n",
       "      <td>0.039860</td>\n",
       "      <td>0.127456</td>\n",
       "      <td>-0.061210</td>\n",
       "      <td>0.155469</td>\n",
       "      <td>-0.159306</td>\n",
       "    </tr>\n",
       "    <tr>\n",
       "      <th>famsize</th>\n",
       "      <td>-0.010596</td>\n",
       "      <td>1.000000</td>\n",
       "      <td>0.069686</td>\n",
       "      <td>0.131549</td>\n",
       "      <td>-0.072107</td>\n",
       "      <td>0.063470</td>\n",
       "      <td>-0.010564</td>\n",
       "      <td>-0.064179</td>\n",
       "      <td>0.018363</td>\n",
       "      <td>-0.040551</td>\n",
       "      <td>0.048260</td>\n",
       "      <td>0.013523</td>\n",
       "      <td>-0.061853</td>\n",
       "      <td>-0.023083</td>\n",
       "    </tr>\n",
       "    <tr>\n",
       "      <th>Medu</th>\n",
       "      <td>-0.164165</td>\n",
       "      <td>0.069686</td>\n",
       "      <td>1.000000</td>\n",
       "      <td>0.608359</td>\n",
       "      <td>-0.174956</td>\n",
       "      <td>0.086452</td>\n",
       "      <td>-0.237911</td>\n",
       "      <td>-0.086878</td>\n",
       "      <td>-0.018612</td>\n",
       "      <td>0.041658</td>\n",
       "      <td>0.057665</td>\n",
       "      <td>-0.061533</td>\n",
       "      <td>0.066077</td>\n",
       "      <td>0.206390</td>\n",
       "    </tr>\n",
       "    <tr>\n",
       "      <th>Fedu</th>\n",
       "      <td>-0.164119</td>\n",
       "      <td>0.131549</td>\n",
       "      <td>0.608359</td>\n",
       "      <td>1.000000</td>\n",
       "      <td>-0.137970</td>\n",
       "      <td>0.012421</td>\n",
       "      <td>-0.268039</td>\n",
       "      <td>-0.012117</td>\n",
       "      <td>-0.029012</td>\n",
       "      <td>0.000567</td>\n",
       "      <td>0.042221</td>\n",
       "      <td>0.017353</td>\n",
       "      <td>-0.018763</td>\n",
       "      <td>0.107796</td>\n",
       "    </tr>\n",
       "    <tr>\n",
       "      <th>traveltime</th>\n",
       "      <td>0.074644</td>\n",
       "      <td>-0.072107</td>\n",
       "      <td>-0.174956</td>\n",
       "      <td>-0.137970</td>\n",
       "      <td>1.000000</td>\n",
       "      <td>-0.089327</td>\n",
       "      <td>0.048122</td>\n",
       "      <td>0.090184</td>\n",
       "      <td>-0.038504</td>\n",
       "      <td>-0.001768</td>\n",
       "      <td>0.037365</td>\n",
       "      <td>-0.024479</td>\n",
       "      <td>-0.040038</td>\n",
       "      <td>-0.059351</td>\n",
       "    </tr>\n",
       "    <tr>\n",
       "      <th>studytime</th>\n",
       "      <td>0.000437</td>\n",
       "      <td>0.063470</td>\n",
       "      <td>0.086452</td>\n",
       "      <td>0.012421</td>\n",
       "      <td>-0.089327</td>\n",
       "      <td>1.000000</td>\n",
       "      <td>-0.166219</td>\n",
       "      <td>-1.000000</td>\n",
       "      <td>0.017464</td>\n",
       "      <td>-0.137636</td>\n",
       "      <td>-0.036629</td>\n",
       "      <td>-0.082885</td>\n",
       "      <td>-0.075256</td>\n",
       "      <td>0.112166</td>\n",
       "    </tr>\n",
       "    <tr>\n",
       "      <th>failures</th>\n",
       "      <td>0.183789</td>\n",
       "      <td>-0.010564</td>\n",
       "      <td>-0.237911</td>\n",
       "      <td>-0.268039</td>\n",
       "      <td>0.048122</td>\n",
       "      <td>-0.166219</td>\n",
       "      <td>1.000000</td>\n",
       "      <td>0.167612</td>\n",
       "      <td>0.014277</td>\n",
       "      <td>0.081866</td>\n",
       "      <td>0.073092</td>\n",
       "      <td>0.094170</td>\n",
       "      <td>0.081094</td>\n",
       "      <td>-0.322940</td>\n",
       "    </tr>\n",
       "    <tr>\n",
       "      <th>studytime, granular</th>\n",
       "      <td>-0.000417</td>\n",
       "      <td>-0.064179</td>\n",
       "      <td>-0.086878</td>\n",
       "      <td>-0.012117</td>\n",
       "      <td>0.090184</td>\n",
       "      <td>-1.000000</td>\n",
       "      <td>0.167612</td>\n",
       "      <td>1.000000</td>\n",
       "      <td>-0.017780</td>\n",
       "      <td>0.139491</td>\n",
       "      <td>0.037030</td>\n",
       "      <td>0.083571</td>\n",
       "      <td>0.075454</td>\n",
       "      <td>-0.113113</td>\n",
       "    </tr>\n",
       "    <tr>\n",
       "      <th>famrel</th>\n",
       "      <td>0.048036</td>\n",
       "      <td>0.018363</td>\n",
       "      <td>-0.018612</td>\n",
       "      <td>-0.029012</td>\n",
       "      <td>-0.038504</td>\n",
       "      <td>0.017464</td>\n",
       "      <td>0.014277</td>\n",
       "      <td>-0.017780</td>\n",
       "      <td>1.000000</td>\n",
       "      <td>0.159221</td>\n",
       "      <td>0.076054</td>\n",
       "      <td>0.093837</td>\n",
       "      <td>-0.070825</td>\n",
       "      <td>0.054753</td>\n",
       "    </tr>\n",
       "    <tr>\n",
       "      <th>freetime</th>\n",
       "      <td>0.039860</td>\n",
       "      <td>-0.040551</td>\n",
       "      <td>0.041658</td>\n",
       "      <td>0.000567</td>\n",
       "      <td>-0.001768</td>\n",
       "      <td>-0.137636</td>\n",
       "      <td>0.081866</td>\n",
       "      <td>0.139491</td>\n",
       "      <td>0.159221</td>\n",
       "      <td>1.000000</td>\n",
       "      <td>0.286151</td>\n",
       "      <td>0.042130</td>\n",
       "      <td>0.091072</td>\n",
       "      <td>0.032556</td>\n",
       "    </tr>\n",
       "    <tr>\n",
       "      <th>goout</th>\n",
       "      <td>0.127456</td>\n",
       "      <td>0.048260</td>\n",
       "      <td>0.057665</td>\n",
       "      <td>0.042221</td>\n",
       "      <td>0.037365</td>\n",
       "      <td>-0.036629</td>\n",
       "      <td>0.073092</td>\n",
       "      <td>0.037030</td>\n",
       "      <td>0.076054</td>\n",
       "      <td>0.286151</td>\n",
       "      <td>1.000000</td>\n",
       "      <td>0.006246</td>\n",
       "      <td>0.111631</td>\n",
       "      <td>-0.120345</td>\n",
       "    </tr>\n",
       "    <tr>\n",
       "      <th>health</th>\n",
       "      <td>-0.061210</td>\n",
       "      <td>0.013523</td>\n",
       "      <td>-0.061533</td>\n",
       "      <td>0.017353</td>\n",
       "      <td>-0.024479</td>\n",
       "      <td>-0.082885</td>\n",
       "      <td>0.094170</td>\n",
       "      <td>0.083571</td>\n",
       "      <td>0.093837</td>\n",
       "      <td>0.042130</td>\n",
       "      <td>0.006246</td>\n",
       "      <td>1.000000</td>\n",
       "      <td>-0.015157</td>\n",
       "      <td>-0.060110</td>\n",
       "    </tr>\n",
       "    <tr>\n",
       "      <th>absences</th>\n",
       "      <td>0.155469</td>\n",
       "      <td>-0.061853</td>\n",
       "      <td>0.066077</td>\n",
       "      <td>-0.018763</td>\n",
       "      <td>-0.040038</td>\n",
       "      <td>-0.075256</td>\n",
       "      <td>0.081094</td>\n",
       "      <td>0.075454</td>\n",
       "      <td>-0.070825</td>\n",
       "      <td>0.091072</td>\n",
       "      <td>0.111631</td>\n",
       "      <td>-0.015157</td>\n",
       "      <td>1.000000</td>\n",
       "      <td>0.081274</td>\n",
       "    </tr>\n",
       "    <tr>\n",
       "      <th>score</th>\n",
       "      <td>-0.159306</td>\n",
       "      <td>-0.023083</td>\n",
       "      <td>0.206390</td>\n",
       "      <td>0.107796</td>\n",
       "      <td>-0.059351</td>\n",
       "      <td>0.112166</td>\n",
       "      <td>-0.322940</td>\n",
       "      <td>-0.113113</td>\n",
       "      <td>0.054753</td>\n",
       "      <td>0.032556</td>\n",
       "      <td>-0.120345</td>\n",
       "      <td>-0.060110</td>\n",
       "      <td>0.081274</td>\n",
       "      <td>1.000000</td>\n",
       "    </tr>\n",
       "  </tbody>\n",
       "</table>\n",
       "</div>"
      ],
      "text/plain": [
       "                          age   famsize      Medu      Fedu  traveltime  \\\n",
       "age                  1.000000 -0.010596 -0.164165 -0.164119    0.074644   \n",
       "famsize             -0.010596  1.000000  0.069686  0.131549   -0.072107   \n",
       "Medu                -0.164165  0.069686  1.000000  0.608359   -0.174956   \n",
       "Fedu                -0.164119  0.131549  0.608359  1.000000   -0.137970   \n",
       "traveltime           0.074644 -0.072107 -0.174956 -0.137970    1.000000   \n",
       "studytime            0.000437  0.063470  0.086452  0.012421   -0.089327   \n",
       "failures             0.183789 -0.010564 -0.237911 -0.268039    0.048122   \n",
       "studytime, granular -0.000417 -0.064179 -0.086878 -0.012117    0.090184   \n",
       "famrel               0.048036  0.018363 -0.018612 -0.029012   -0.038504   \n",
       "freetime             0.039860 -0.040551  0.041658  0.000567   -0.001768   \n",
       "goout                0.127456  0.048260  0.057665  0.042221    0.037365   \n",
       "health              -0.061210  0.013523 -0.061533  0.017353   -0.024479   \n",
       "absences             0.155469 -0.061853  0.066077 -0.018763   -0.040038   \n",
       "score               -0.159306 -0.023083  0.206390  0.107796   -0.059351   \n",
       "\n",
       "                     studytime  failures  studytime, granular    famrel  \\\n",
       "age                   0.000437  0.183789            -0.000417  0.048036   \n",
       "famsize               0.063470 -0.010564            -0.064179  0.018363   \n",
       "Medu                  0.086452 -0.237911            -0.086878 -0.018612   \n",
       "Fedu                  0.012421 -0.268039            -0.012117 -0.029012   \n",
       "traveltime           -0.089327  0.048122             0.090184 -0.038504   \n",
       "studytime             1.000000 -0.166219            -1.000000  0.017464   \n",
       "failures             -0.166219  1.000000             0.167612  0.014277   \n",
       "studytime, granular  -1.000000  0.167612             1.000000 -0.017780   \n",
       "famrel                0.017464  0.014277            -0.017780  1.000000   \n",
       "freetime             -0.137636  0.081866             0.139491  0.159221   \n",
       "goout                -0.036629  0.073092             0.037030  0.076054   \n",
       "health               -0.082885  0.094170             0.083571  0.093837   \n",
       "absences             -0.075256  0.081094             0.075454 -0.070825   \n",
       "score                 0.112166 -0.322940            -0.113113  0.054753   \n",
       "\n",
       "                     freetime     goout    health  absences     score  \n",
       "age                  0.039860  0.127456 -0.061210  0.155469 -0.159306  \n",
       "famsize             -0.040551  0.048260  0.013523 -0.061853 -0.023083  \n",
       "Medu                 0.041658  0.057665 -0.061533  0.066077  0.206390  \n",
       "Fedu                 0.000567  0.042221  0.017353 -0.018763  0.107796  \n",
       "traveltime          -0.001768  0.037365 -0.024479 -0.040038 -0.059351  \n",
       "studytime           -0.137636 -0.036629 -0.082885 -0.075256  0.112166  \n",
       "failures             0.081866  0.073092  0.094170  0.081094 -0.322940  \n",
       "studytime, granular  0.139491  0.037030  0.083571  0.075454 -0.113113  \n",
       "famrel               0.159221  0.076054  0.093837 -0.070825  0.054753  \n",
       "freetime             1.000000  0.286151  0.042130  0.091072  0.032556  \n",
       "goout                0.286151  1.000000  0.006246  0.111631 -0.120345  \n",
       "health               0.042130  0.006246  1.000000 -0.015157 -0.060110  \n",
       "absences             0.091072  0.111631 -0.015157  1.000000  0.081274  \n",
       "score                0.032556 -0.120345 -0.060110  0.081274  1.000000  "
      ]
     },
     "metadata": {},
     "output_type": "display_data"
    },
    {
     "data": {
      "text/plain": [
       "<matplotlib.axes._subplots.AxesSubplot at 0x1b531bd4b88>"
      ]
     },
     "execution_count": 182,
     "metadata": {},
     "output_type": "execute_result"
    },
    {
     "data": {
      "image/png": "[encoded data removed]",
      "text/plain": [
       "<Figure size 432x288 with 2 Axes>"
      ]
     },
     "metadata": {
      "needs_background": "light"
     },
     "output_type": "display_data"
    }
   ],
   "source": [
    "# корреляционный анализ\n",
    "display(st.corr())\n",
    "cr = st.corr()\n",
    "sns.heatmap(cr)"
   ]
  },
  {
   "cell_type": "markdown",
   "metadata": {},
   "source": [
    "studytime_granular можно удалить, коэффициент корреляции -1 с studytime."
   ]
  },
  {
   "cell_type": "code",
   "execution_count": 183,
   "metadata": {},
   "outputs": [
    {
     "data": {
      "text/html": [
       "<div>\n",
       "<style scoped>\n",
       "    .dataframe tbody tr th:only-of-type {\n",
       "        vertical-align: middle;\n",
       "    }\n",
       "\n",
       "    .dataframe tbody tr th {\n",
       "        vertical-align: top;\n",
       "    }\n",
       "\n",
       "    .dataframe thead th {\n",
       "        text-align: right;\n",
       "    }\n",
       "</style>\n",
       "<table border=\"1\" class=\"dataframe\">\n",
       "  <thead>\n",
       "    <tr style=\"text-align: right;\">\n",
       "      <th></th>\n",
       "      <th>school</th>\n",
       "      <th>sex</th>\n",
       "      <th>age</th>\n",
       "      <th>address</th>\n",
       "      <th>famsize</th>\n",
       "      <th>Pstatus</th>\n",
       "      <th>Medu</th>\n",
       "      <th>Fedu</th>\n",
       "      <th>Mjob</th>\n",
       "      <th>Fjob</th>\n",
       "      <th>reason</th>\n",
       "      <th>guardian</th>\n",
       "      <th>traveltime</th>\n",
       "      <th>studytime</th>\n",
       "      <th>failures</th>\n",
       "      <th>schoolsup</th>\n",
       "      <th>famsup</th>\n",
       "      <th>paid</th>\n",
       "      <th>activities</th>\n",
       "      <th>nursery</th>\n",
       "      <th>higher</th>\n",
       "      <th>internet</th>\n",
       "      <th>romantic</th>\n",
       "      <th>famrel</th>\n",
       "      <th>freetime</th>\n",
       "      <th>goout</th>\n",
       "      <th>health</th>\n",
       "      <th>absences</th>\n",
       "      <th>score</th>\n",
       "    </tr>\n",
       "  </thead>\n",
       "  <tbody>\n",
       "    <tr>\n",
       "      <th>0</th>\n",
       "      <td>GP</td>\n",
       "      <td>F</td>\n",
       "      <td>18</td>\n",
       "      <td>U</td>\n",
       "      <td>0</td>\n",
       "      <td>A</td>\n",
       "      <td>4.0</td>\n",
       "      <td>4.0</td>\n",
       "      <td>at_home</td>\n",
       "      <td>teacher</td>\n",
       "      <td>course</td>\n",
       "      <td>mother</td>\n",
       "      <td>2.0</td>\n",
       "      <td>2.0</td>\n",
       "      <td>0.0</td>\n",
       "      <td>yes</td>\n",
       "      <td>no</td>\n",
       "      <td>no</td>\n",
       "      <td>no</td>\n",
       "      <td>yes</td>\n",
       "      <td>yes</td>\n",
       "      <td>None</td>\n",
       "      <td>no</td>\n",
       "      <td>4.0</td>\n",
       "      <td>3.0</td>\n",
       "      <td>4.0</td>\n",
       "      <td>3.0</td>\n",
       "      <td>6.0</td>\n",
       "      <td>30.0</td>\n",
       "    </tr>\n",
       "    <tr>\n",
       "      <th>1</th>\n",
       "      <td>GP</td>\n",
       "      <td>F</td>\n",
       "      <td>17</td>\n",
       "      <td>U</td>\n",
       "      <td>2</td>\n",
       "      <td>nan</td>\n",
       "      <td>1.0</td>\n",
       "      <td>1.0</td>\n",
       "      <td>at_home</td>\n",
       "      <td>other</td>\n",
       "      <td>course</td>\n",
       "      <td>father</td>\n",
       "      <td>1.0</td>\n",
       "      <td>2.0</td>\n",
       "      <td>0.0</td>\n",
       "      <td>no</td>\n",
       "      <td>yes</td>\n",
       "      <td>no</td>\n",
       "      <td>no</td>\n",
       "      <td>no</td>\n",
       "      <td>yes</td>\n",
       "      <td>yes</td>\n",
       "      <td>no</td>\n",
       "      <td>5.0</td>\n",
       "      <td>3.0</td>\n",
       "      <td>3.0</td>\n",
       "      <td>3.0</td>\n",
       "      <td>4.0</td>\n",
       "      <td>30.0</td>\n",
       "    </tr>\n",
       "    <tr>\n",
       "      <th>2</th>\n",
       "      <td>GP</td>\n",
       "      <td>F</td>\n",
       "      <td>15</td>\n",
       "      <td>U</td>\n",
       "      <td>1</td>\n",
       "      <td>T</td>\n",
       "      <td>1.0</td>\n",
       "      <td>1.0</td>\n",
       "      <td>at_home</td>\n",
       "      <td>other</td>\n",
       "      <td>other</td>\n",
       "      <td>mother</td>\n",
       "      <td>1.0</td>\n",
       "      <td>2.0</td>\n",
       "      <td>3.0</td>\n",
       "      <td>yes</td>\n",
       "      <td>no</td>\n",
       "      <td>None</td>\n",
       "      <td>no</td>\n",
       "      <td>yes</td>\n",
       "      <td>yes</td>\n",
       "      <td>yes</td>\n",
       "      <td>None</td>\n",
       "      <td>4.0</td>\n",
       "      <td>3.0</td>\n",
       "      <td>2.0</td>\n",
       "      <td>3.0</td>\n",
       "      <td>10.0</td>\n",
       "      <td>50.0</td>\n",
       "    </tr>\n",
       "  </tbody>\n",
       "</table>\n",
       "</div>"
      ],
      "text/plain": [
       "  school sex  age address  famsize Pstatus  Medu  Fedu     Mjob     Fjob  \\\n",
       "0     GP   F   18       U        0       A   4.0   4.0  at_home  teacher   \n",
       "1     GP   F   17       U        2     nan   1.0   1.0  at_home    other   \n",
       "2     GP   F   15       U        1       T   1.0   1.0  at_home    other   \n",
       "\n",
       "   reason guardian  traveltime  studytime  failures schoolsup famsup  paid  \\\n",
       "0  course   mother         2.0        2.0       0.0       yes     no    no   \n",
       "1  course   father         1.0        2.0       0.0        no    yes    no   \n",
       "2   other   mother         1.0        2.0       3.0       yes     no  None   \n",
       "\n",
       "  activities nursery higher internet romantic  famrel  freetime  goout  \\\n",
       "0         no     yes    yes     None       no     4.0       3.0    4.0   \n",
       "1         no      no    yes      yes       no     5.0       3.0    3.0   \n",
       "2         no     yes    yes      yes     None     4.0       3.0    2.0   \n",
       "\n",
       "   health  absences  score  \n",
       "0     3.0       6.0   30.0  \n",
       "1     3.0       4.0   30.0  \n",
       "2     3.0      10.0   50.0  "
      ]
     },
     "metadata": {},
     "output_type": "display_data"
    }
   ],
   "source": [
    "st.drop(['studytime, granular'], inplace=True, axis=1)\n",
    "display(st.head(3))"
   ]
  },
  {
   "cell_type": "code",
   "execution_count": 184,
   "metadata": {
    "scrolled": false
   },
   "outputs": [
    {
     "data": {
      "image/png": "[encoded data removed]",
      "text/plain": [
       "<Figure size 1008x288 with 1 Axes>"
      ]
     },
     "metadata": {
      "needs_background": "light"
     },
     "output_type": "display_data"
    },
    {
     "data": {
      "image/png": "[encoded data removed]",
      "text/plain": [
       "<Figure size 1008x288 with 1 Axes>"
      ]
     },
     "metadata": {
      "needs_background": "light"
     },
     "output_type": "display_data"
    },
    {
     "data": {
      "image/png": "[encoded data removed]",
      "text/plain": [
       "<Figure size 1008x288 with 1 Axes>"
      ]
     },
     "metadata": {
      "needs_background": "light"
     },
     "output_type": "display_data"
    },
    {
     "data": {
      "image/png": "[encoded data removed]",
      "text/plain": [
       "<Figure size 1008x288 with 1 Axes>"
      ]
     },
     "metadata": {
      "needs_background": "light"
     },
     "output_type": "display_data"
    },
    {
     "data": {
      "image/png": "[encoded data removed]",
      "text/plain": [
       "<Figure size 1008x288 with 1 Axes>"
      ]
     },
     "metadata": {
      "needs_background": "light"
     },
     "output_type": "display_data"
    },
    {
     "data": {
      "image/png": "[encoded data removed]",
      "text/plain": [
       "<Figure size 1008x288 with 1 Axes>"
      ]
     },
     "metadata": {
      "needs_background": "light"
     },
     "output_type": "display_data"
    },
    {
     "data": {
      "image/png": "[encoded data removed]",
      "text/plain": [
       "<Figure size 1008x288 with 1 Axes>"
      ]
     },
     "metadata": {
      "needs_background": "light"
     },
     "output_type": "display_data"
    },
    {
     "data": {
      "image/png": "[encoded data removed]",
      "text/plain": [
       "<Figure size 1008x288 with 1 Axes>"
      ]
     },
     "metadata": {
      "needs_background": "light"
     },
     "output_type": "display_data"
    },
    {
     "data": {
      "image/png": "[encoded data removed]",
      "text/plain": [
       "<Figure size 1008x288 with 1 Axes>"
      ]
     },
     "metadata": {
      "needs_background": "light"
     },
     "output_type": "display_data"
    },
    {
     "data": {
      "image/png": "[encoded data removed]",
      "text/plain": [
       "<Figure size 1008x288 with 1 Axes>"
      ]
     },
     "metadata": {
      "needs_background": "light"
     },
     "output_type": "display_data"
    },
    {
     "data": {
      "image/png": "[encoded data removed]",
      "text/plain": [
       "<Figure size 1008x288 with 1 Axes>"
      ]
     },
     "metadata": {
      "needs_background": "light"
     },
     "output_type": "display_data"
    },
    {
     "data": {
      "image/png": "[encoded data removed]",
      "text/plain": [
       "<Figure size 1008x288 with 1 Axes>"
      ]
     },
     "metadata": {
      "needs_background": "light"
     },
     "output_type": "display_data"
    },
    {
     "data": {
      "image/png": "[encoded data removed]",
      "text/plain": [
       "<Figure size 1008x288 with 1 Axes>"
      ]
     },
     "metadata": {
      "needs_background": "light"
     },
     "output_type": "display_data"
    },
    {
     "data": {
      "image/png": "[encoded data removed]",
      "text/plain": [
       "<Figure size 1008x288 with 1 Axes>"
      ]
     },
     "metadata": {
      "needs_background": "light"
     },
     "output_type": "display_data"
    },
    {
     "data": {
      "image/png": "[encoded data removed]",
      "text/plain": [
       "<Figure size 1008x288 with 1 Axes>"
      ]
     },
     "metadata": {
      "needs_background": "light"
     },
     "output_type": "display_data"
    },
    {
     "data": {
      "image/png": "[encoded data removed]",
      "text/plain": [
       "<Figure size 1008x288 with 1 Axes>"
      ]
     },
     "metadata": {
      "needs_background": "light"
     },
     "output_type": "display_data"
    }
   ],
   "source": [
    "# номинативные переменные, влияние на score\n",
    "def get_boxplot(column):\n",
    "    fig, ax = plt.subplots(figsize=(14, 4))\n",
    "    sns.boxplot(x=column, y='score',\n",
    "                data=st.loc[st.loc[:, column].isin(\n",
    "                    st.loc[:, column].value_counts().index[:10])],\n",
    "                ax=ax)\n",
    "    plt.xticks(rotation=45)\n",
    "    ax.set_title('Boxplot for ' + column)\n",
    "    plt.show()\n",
    "\n",
    "\n",
    "for col in ['sex', 'address', 'famsize', 'Pstatus', 'Mjob', 'Fjob', 'reason', 'guardian', 'schoolsup',\n",
    "            'famsup', 'paid', 'activities', 'nursery', 'higher', 'internet', 'romantic']:\n",
    "    get_boxplot(col)"
   ]
  },
  {
   "cell_type": "markdown",
   "metadata": {},
   "source": [
    "Анализ с помощью boxplot показал, что переменные:\n",
    "- Pstatus\n",
    "- famsup\n",
    "- activities\n",
    "- nursery\n",
    "- romantic\n",
    "не влияют на значение scores, соответетсвенно могут быть исключены при построении модели"
   ]
  },
  {
   "cell_type": "code",
   "execution_count": 188,
   "metadata": {},
   "outputs": [
    {
     "name": "stdout",
     "output_type": "stream",
     "text": [
      "Найдены статистически значимые различия для колонки sex\n",
      "Найдены статистически значимые различия для колонки address\n",
      "Найдены статистически значимые различия для колонки Mjob\n",
      "Найдены статистически значимые различия для колонки higher\n",
      "Найдены статистически значимые различия для колонки romantic\n"
     ]
    },
    {
     "data": {
      "text/html": [
       "<div>\n",
       "<style scoped>\n",
       "    .dataframe tbody tr th:only-of-type {\n",
       "        vertical-align: middle;\n",
       "    }\n",
       "\n",
       "    .dataframe tbody tr th {\n",
       "        vertical-align: top;\n",
       "    }\n",
       "\n",
       "    .dataframe thead th {\n",
       "        text-align: right;\n",
       "    }\n",
       "</style>\n",
       "<table border=\"1\" class=\"dataframe\">\n",
       "  <thead>\n",
       "    <tr style=\"text-align: right;\">\n",
       "      <th></th>\n",
       "      <th>school</th>\n",
       "      <th>sex</th>\n",
       "      <th>age</th>\n",
       "      <th>address</th>\n",
       "      <th>Medu</th>\n",
       "      <th>Fedu</th>\n",
       "      <th>Mjob</th>\n",
       "      <th>traveltime</th>\n",
       "      <th>studytime</th>\n",
       "      <th>failures</th>\n",
       "      <th>higher</th>\n",
       "      <th>romantic</th>\n",
       "      <th>famrel</th>\n",
       "      <th>freetime</th>\n",
       "      <th>goout</th>\n",
       "      <th>health</th>\n",
       "      <th>absences</th>\n",
       "      <th>score</th>\n",
       "    </tr>\n",
       "  </thead>\n",
       "  <tbody>\n",
       "    <tr>\n",
       "      <th>0</th>\n",
       "      <td>GP</td>\n",
       "      <td>F</td>\n",
       "      <td>18</td>\n",
       "      <td>U</td>\n",
       "      <td>4.0</td>\n",
       "      <td>4.0</td>\n",
       "      <td>at_home</td>\n",
       "      <td>2.0</td>\n",
       "      <td>2.0</td>\n",
       "      <td>0.0</td>\n",
       "      <td>yes</td>\n",
       "      <td>no</td>\n",
       "      <td>4.0</td>\n",
       "      <td>3.0</td>\n",
       "      <td>4.0</td>\n",
       "      <td>3.0</td>\n",
       "      <td>6.0</td>\n",
       "      <td>30.0</td>\n",
       "    </tr>\n",
       "    <tr>\n",
       "      <th>1</th>\n",
       "      <td>GP</td>\n",
       "      <td>F</td>\n",
       "      <td>17</td>\n",
       "      <td>U</td>\n",
       "      <td>1.0</td>\n",
       "      <td>1.0</td>\n",
       "      <td>at_home</td>\n",
       "      <td>1.0</td>\n",
       "      <td>2.0</td>\n",
       "      <td>0.0</td>\n",
       "      <td>yes</td>\n",
       "      <td>no</td>\n",
       "      <td>5.0</td>\n",
       "      <td>3.0</td>\n",
       "      <td>3.0</td>\n",
       "      <td>3.0</td>\n",
       "      <td>4.0</td>\n",
       "      <td>30.0</td>\n",
       "    </tr>\n",
       "    <tr>\n",
       "      <th>2</th>\n",
       "      <td>GP</td>\n",
       "      <td>F</td>\n",
       "      <td>15</td>\n",
       "      <td>U</td>\n",
       "      <td>1.0</td>\n",
       "      <td>1.0</td>\n",
       "      <td>at_home</td>\n",
       "      <td>1.0</td>\n",
       "      <td>2.0</td>\n",
       "      <td>3.0</td>\n",
       "      <td>yes</td>\n",
       "      <td>None</td>\n",
       "      <td>4.0</td>\n",
       "      <td>3.0</td>\n",
       "      <td>2.0</td>\n",
       "      <td>3.0</td>\n",
       "      <td>10.0</td>\n",
       "      <td>50.0</td>\n",
       "    </tr>\n",
       "  </tbody>\n",
       "</table>\n",
       "</div>"
      ],
      "text/plain": [
       "  school sex  age address  Medu  Fedu     Mjob  traveltime  studytime  \\\n",
       "0     GP   F   18       U   4.0   4.0  at_home         2.0        2.0   \n",
       "1     GP   F   17       U   1.0   1.0  at_home         1.0        2.0   \n",
       "2     GP   F   15       U   1.0   1.0  at_home         1.0        2.0   \n",
       "\n",
       "   failures higher romantic  famrel  freetime  goout  health  absences  score  \n",
       "0       0.0    yes       no     4.0       3.0    4.0     3.0       6.0   30.0  \n",
       "1       0.0    yes       no     5.0       3.0    3.0     3.0       4.0   30.0  \n",
       "2       3.0    yes     None     4.0       3.0    2.0     3.0      10.0   50.0  "
      ]
     },
     "metadata": {},
     "output_type": "display_data"
    }
   ],
   "source": [
    "def get_stat_dif(column):\n",
    "    cols = st.loc[:, column].value_counts().index[:10]\n",
    "    combinations_all = list(combinations(cols, 2))\n",
    "    for comb in combinations_all:\n",
    "        if ttest_ind(st.loc[st.loc[:, column] == comb[0], 'score'],\n",
    "                     st.loc[st.loc[:, column] == comb[1], 'score']).pvalue \\\n",
    "                <= 0.05/len(combinations_all):  # Учли поправку Бонферони\n",
    "            print('Найдены статистически значимые различия для колонки', column)\n",
    "            break\n",
    "\n",
    "\n",
    "for col in ['sex', 'address', 'famsize', 'Pstatus', 'Mjob', 'Fjob', 'reason', 'guardian', 'schoolsup',\n",
    "            'famsup', 'paid', 'activities', 'nursery', 'higher', 'internet', 'romantic']:\n",
    "    get_stat_dif(col)\n",
    "\n",
    "st.drop(['famsize', 'Pstatus', 'Fjob', 'reason', 'guardian', 'schoolsup',\n",
    "            'famsup', 'paid', 'activities', 'nursery', 'internet'], inplace=True, axis=1)\n",
    "display(st.head(3))"
   ]
  },
  {
   "cell_type": "markdown",
   "metadata": {},
   "source": [
    "### Выводы\n",
    "\n",
    "1. Проведена первичная обработка данных. Большинство строк удалось сохранить, заменив отсутствующие значения средним или медианным значениями.\n",
    "2. Выбросы и очевидно неверные значения были обработаны\n",
    "3. Корреляционный анализ показал, что имеющиеся числовые столбцы слабо коррелируют друг с другом, следовательно все данные можно использовать для построения модели. Возможно, можно использовать одно из двух значений Fedu или Medu, так как коэффициент корреляции составляет 0.6. Кроме того, не документированный столбец granular по модулю имеет полную корреляцию с studytime, соответственно может быть удален из модели.\n",
    "4. Анализ номинативных переменных показал значимость стобцов sex, address, Mjob, higher, romantic. Остальные при построении модели можно исключить.\n",
    "\n"
   ]
  },
  {
   "cell_type": "code",
   "execution_count": null,
   "metadata": {},
   "outputs": [],
   "source": []
  }
 ],
 "metadata": {
  "kernelspec": {
   "display_name": "Python 3",
   "language": "python",
   "name": "python3"
  },
  "language_info": {
   "codemirror_mode": {
    "name": "ipython",
    "version": 3
   },
   "file_extension": ".py",
   "mimetype": "text/x-python",
   "name": "python",
   "nbconvert_exporter": "python",
   "pygments_lexer": "ipython3",
   "version": "3.7.6"
  }
 },
 "nbformat": 4,
 "nbformat_minor": 4
}
