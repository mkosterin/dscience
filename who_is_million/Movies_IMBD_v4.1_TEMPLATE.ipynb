{
 "cells": [
  {
   "cell_type": "code",
   "execution_count": 1,
   "metadata": {
    "_cell_guid": "b1076dfc-b9ad-4769-8c92-a6c4dae69d19",
    "_uuid": "8f2839f25d086af736a60e9eeb907d3b93b6e0e5",
    "colab": {},
    "colab_type": "code",
    "id": "U2D2gTdJVp90"
   },
   "outputs": [],
   "source": [
    "import numpy as np\n",
    "import pandas as pd\n",
    "import seaborn as sns\n",
    "import matplotlib.pyplot as plt\n",
    "from collections import Counter"
   ]
  },
  {
   "cell_type": "code",
   "execution_count": 2,
   "metadata": {
    "_cell_guid": "79c7e3d0-c299-4dcb-8224-4455121ee9b0",
    "_uuid": "d629ff2d2480ee46fbb7e2d37f6b5fab8052498a",
    "colab": {},
    "colab_type": "code",
    "id": "oyGfxL3eVp9-"
   },
   "outputs": [
    {
     "data": {
      "text/html": [
       "<div>\n",
       "<style scoped>\n",
       "    .dataframe tbody tr th:only-of-type {\n",
       "        vertical-align: middle;\n",
       "    }\n",
       "\n",
       "    .dataframe tbody tr th {\n",
       "        vertical-align: top;\n",
       "    }\n",
       "\n",
       "    .dataframe thead th {\n",
       "        text-align: right;\n",
       "    }\n",
       "</style>\n",
       "<table border=\"1\" class=\"dataframe\">\n",
       "  <thead>\n",
       "    <tr style=\"text-align: right;\">\n",
       "      <th></th>\n",
       "      <th>imdb_id</th>\n",
       "      <th>budget</th>\n",
       "      <th>revenue</th>\n",
       "      <th>original_title</th>\n",
       "      <th>cast</th>\n",
       "      <th>director</th>\n",
       "      <th>tagline</th>\n",
       "      <th>overview</th>\n",
       "      <th>runtime</th>\n",
       "      <th>genres</th>\n",
       "      <th>production_companies</th>\n",
       "      <th>release_date</th>\n",
       "      <th>vote_average</th>\n",
       "      <th>release_year</th>\n",
       "    </tr>\n",
       "  </thead>\n",
       "  <tbody>\n",
       "    <tr>\n",
       "      <th>1352</th>\n",
       "      <td>tt0418763</td>\n",
       "      <td>72000000</td>\n",
       "      <td>96889998</td>\n",
       "      <td>Jarhead</td>\n",
       "      <td>Jamie Foxx|Jake Gyllenhaal|Scott MacDonald|Luc...</td>\n",
       "      <td>Sam Mendes</td>\n",
       "      <td>Welcome to the suck.</td>\n",
       "      <td>Jarhead is a film about a US Marine Anthony Sw...</td>\n",
       "      <td>125</td>\n",
       "      <td>Drama|War</td>\n",
       "      <td>Universal Pictures|Neal Street Productions|Red...</td>\n",
       "      <td>11/4/2005</td>\n",
       "      <td>6.4</td>\n",
       "      <td>2005</td>\n",
       "    </tr>\n",
       "    <tr>\n",
       "      <th>1806</th>\n",
       "      <td>tt0175142</td>\n",
       "      <td>19000000</td>\n",
       "      <td>278019771</td>\n",
       "      <td>Scary Movie</td>\n",
       "      <td>Carmen Electra|Dave Sheridan|Anna Faris|Jon Ab...</td>\n",
       "      <td>Keenen Ivory Wayans</td>\n",
       "      <td>No mercy. No shame. No sequel.</td>\n",
       "      <td>Following on the heels of popular teen-scream ...</td>\n",
       "      <td>88</td>\n",
       "      <td>Comedy</td>\n",
       "      <td>Gold/Miller Productions|Wayans Bros. Entertain...</td>\n",
       "      <td>7/7/2000</td>\n",
       "      <td>5.9</td>\n",
       "      <td>2000</td>\n",
       "    </tr>\n",
       "    <tr>\n",
       "      <th>1715</th>\n",
       "      <td>tt0891527</td>\n",
       "      <td>35000000</td>\n",
       "      <td>63215872</td>\n",
       "      <td>Lions for Lambs</td>\n",
       "      <td>Robert Redford|Meryl Streep|Tom Cruise|Michael...</td>\n",
       "      <td>Robert Redford</td>\n",
       "      <td>If you don't STAND for something, you might FA...</td>\n",
       "      <td>Three stories told simultaneous in ninety minu...</td>\n",
       "      <td>92</td>\n",
       "      <td>Action|Adventure|Drama|History</td>\n",
       "      <td>Cruise/Wagner Productions|United Artists|Wildw...</td>\n",
       "      <td>10/22/2007</td>\n",
       "      <td>5.7</td>\n",
       "      <td>2007</td>\n",
       "    </tr>\n",
       "    <tr>\n",
       "      <th>739</th>\n",
       "      <td>tt1284575</td>\n",
       "      <td>20000000</td>\n",
       "      <td>216197492</td>\n",
       "      <td>Bad Teacher</td>\n",
       "      <td>Jason Segel|Cameron Diaz|Justin Timberlake|Luc...</td>\n",
       "      <td>Jake Kasdan</td>\n",
       "      <td>She doesn't give an F.</td>\n",
       "      <td>A lazy, incompetent middle school teacher who ...</td>\n",
       "      <td>92</td>\n",
       "      <td>Comedy</td>\n",
       "      <td>Columbia Pictures|Mosaic Media Group</td>\n",
       "      <td>5/16/2011</td>\n",
       "      <td>5.4</td>\n",
       "      <td>2011</td>\n",
       "    </tr>\n",
       "    <tr>\n",
       "      <th>434</th>\n",
       "      <td>tt1458175</td>\n",
       "      <td>30000000</td>\n",
       "      <td>51148651</td>\n",
       "      <td>The Next Three Days</td>\n",
       "      <td>Russell Crowe|Elizabeth Banks|Brian Dennehy|RZ...</td>\n",
       "      <td>Paul Haggis</td>\n",
       "      <td>What if you had 72 hours to save everything yo...</td>\n",
       "      <td>A married couple's life is turned upside down ...</td>\n",
       "      <td>133</td>\n",
       "      <td>Romance|Drama|Thriller|Crime</td>\n",
       "      <td>Lionsgate|FidÃ©litÃ© Films|Hwy61</td>\n",
       "      <td>11/18/2010</td>\n",
       "      <td>6.8</td>\n",
       "      <td>2010</td>\n",
       "    </tr>\n",
       "  </tbody>\n",
       "</table>\n",
       "</div>"
      ],
      "text/plain": [
       "        imdb_id    budget    revenue       original_title  \\\n",
       "1352  tt0418763  72000000   96889998              Jarhead   \n",
       "1806  tt0175142  19000000  278019771          Scary Movie   \n",
       "1715  tt0891527  35000000   63215872      Lions for Lambs   \n",
       "739   tt1284575  20000000  216197492          Bad Teacher   \n",
       "434   tt1458175  30000000   51148651  The Next Three Days   \n",
       "\n",
       "                                                   cast             director  \\\n",
       "1352  Jamie Foxx|Jake Gyllenhaal|Scott MacDonald|Luc...           Sam Mendes   \n",
       "1806  Carmen Electra|Dave Sheridan|Anna Faris|Jon Ab...  Keenen Ivory Wayans   \n",
       "1715  Robert Redford|Meryl Streep|Tom Cruise|Michael...       Robert Redford   \n",
       "739   Jason Segel|Cameron Diaz|Justin Timberlake|Luc...          Jake Kasdan   \n",
       "434   Russell Crowe|Elizabeth Banks|Brian Dennehy|RZ...          Paul Haggis   \n",
       "\n",
       "                                                tagline  \\\n",
       "1352                               Welcome to the suck.   \n",
       "1806                     No mercy. No shame. No sequel.   \n",
       "1715  If you don't STAND for something, you might FA...   \n",
       "739                              She doesn't give an F.   \n",
       "434   What if you had 72 hours to save everything yo...   \n",
       "\n",
       "                                               overview  runtime  \\\n",
       "1352  Jarhead is a film about a US Marine Anthony Sw...      125   \n",
       "1806  Following on the heels of popular teen-scream ...       88   \n",
       "1715  Three stories told simultaneous in ninety minu...       92   \n",
       "739   A lazy, incompetent middle school teacher who ...       92   \n",
       "434   A married couple's life is turned upside down ...      133   \n",
       "\n",
       "                              genres  \\\n",
       "1352                       Drama|War   \n",
       "1806                          Comedy   \n",
       "1715  Action|Adventure|Drama|History   \n",
       "739                           Comedy   \n",
       "434     Romance|Drama|Thriller|Crime   \n",
       "\n",
       "                                   production_companies release_date  \\\n",
       "1352  Universal Pictures|Neal Street Productions|Red...    11/4/2005   \n",
       "1806  Gold/Miller Productions|Wayans Bros. Entertain...     7/7/2000   \n",
       "1715  Cruise/Wagner Productions|United Artists|Wildw...   10/22/2007   \n",
       "739                Columbia Pictures|Mosaic Media Group    5/16/2011   \n",
       "434                    Lionsgate|FidÃ©litÃ© Films|Hwy61   11/18/2010   \n",
       "\n",
       "      vote_average  release_year  \n",
       "1352           6.4          2005  \n",
       "1806           5.9          2000  \n",
       "1715           5.7          2007  \n",
       "739            5.4          2011  \n",
       "434            6.8          2010  "
      ]
     },
     "execution_count": 2,
     "metadata": {},
     "output_type": "execute_result"
    }
   ],
   "source": [
    "data = pd.read_csv('movie_bd_v5.csv')\n",
    "data.sample(5)"
   ]
  },
  {
   "cell_type": "code",
   "execution_count": 93,
   "metadata": {
    "colab": {},
    "colab_type": "code",
    "id": "CoYUnagMVp-C"
   },
   "outputs": [
    {
     "data": {
      "text/html": [
       "<div>\n",
       "<style scoped>\n",
       "    .dataframe tbody tr th:only-of-type {\n",
       "        vertical-align: middle;\n",
       "    }\n",
       "\n",
       "    .dataframe tbody tr th {\n",
       "        vertical-align: top;\n",
       "    }\n",
       "\n",
       "    .dataframe thead th {\n",
       "        text-align: right;\n",
       "    }\n",
       "</style>\n",
       "<table border=\"1\" class=\"dataframe\">\n",
       "  <thead>\n",
       "    <tr style=\"text-align: right;\">\n",
       "      <th></th>\n",
       "      <th>budget</th>\n",
       "      <th>revenue</th>\n",
       "      <th>runtime</th>\n",
       "      <th>vote_average</th>\n",
       "      <th>release_year</th>\n",
       "      <th>profit</th>\n",
       "      <th>release_month</th>\n",
       "    </tr>\n",
       "  </thead>\n",
       "  <tbody>\n",
       "    <tr>\n",
       "      <th>count</th>\n",
       "      <td>1.889000e+03</td>\n",
       "      <td>1.889000e+03</td>\n",
       "      <td>1889.000000</td>\n",
       "      <td>1889.000000</td>\n",
       "      <td>1889.000000</td>\n",
       "      <td>1.889000e+03</td>\n",
       "      <td>1889.000000</td>\n",
       "    </tr>\n",
       "    <tr>\n",
       "      <th>mean</th>\n",
       "      <td>5.431083e+07</td>\n",
       "      <td>1.553653e+08</td>\n",
       "      <td>109.658549</td>\n",
       "      <td>6.140762</td>\n",
       "      <td>2007.860773</td>\n",
       "      <td>1.010545e+08</td>\n",
       "      <td>6.933298</td>\n",
       "    </tr>\n",
       "    <tr>\n",
       "      <th>std</th>\n",
       "      <td>4.858721e+07</td>\n",
       "      <td>2.146698e+08</td>\n",
       "      <td>18.017041</td>\n",
       "      <td>0.764763</td>\n",
       "      <td>4.468841</td>\n",
       "      <td>1.830733e+08</td>\n",
       "      <td>3.390196</td>\n",
       "    </tr>\n",
       "    <tr>\n",
       "      <th>min</th>\n",
       "      <td>5.000000e+06</td>\n",
       "      <td>2.033165e+06</td>\n",
       "      <td>63.000000</td>\n",
       "      <td>3.300000</td>\n",
       "      <td>2000.000000</td>\n",
       "      <td>-1.657101e+08</td>\n",
       "      <td>1.000000</td>\n",
       "    </tr>\n",
       "    <tr>\n",
       "      <th>25%</th>\n",
       "      <td>2.000000e+07</td>\n",
       "      <td>3.456058e+07</td>\n",
       "      <td>97.000000</td>\n",
       "      <td>5.600000</td>\n",
       "      <td>2004.000000</td>\n",
       "      <td>5.000000e+06</td>\n",
       "      <td>4.000000</td>\n",
       "    </tr>\n",
       "    <tr>\n",
       "      <th>50%</th>\n",
       "      <td>3.800000e+07</td>\n",
       "      <td>8.361541e+07</td>\n",
       "      <td>107.000000</td>\n",
       "      <td>6.100000</td>\n",
       "      <td>2008.000000</td>\n",
       "      <td>4.400041e+07</td>\n",
       "      <td>7.000000</td>\n",
       "    </tr>\n",
       "    <tr>\n",
       "      <th>75%</th>\n",
       "      <td>7.200000e+07</td>\n",
       "      <td>1.782626e+08</td>\n",
       "      <td>120.000000</td>\n",
       "      <td>6.600000</td>\n",
       "      <td>2012.000000</td>\n",
       "      <td>1.201842e+08</td>\n",
       "      <td>10.000000</td>\n",
       "    </tr>\n",
       "    <tr>\n",
       "      <th>max</th>\n",
       "      <td>3.800000e+08</td>\n",
       "      <td>2.781506e+09</td>\n",
       "      <td>214.000000</td>\n",
       "      <td>8.100000</td>\n",
       "      <td>2015.000000</td>\n",
       "      <td>2.544506e+09</td>\n",
       "      <td>12.000000</td>\n",
       "    </tr>\n",
       "  </tbody>\n",
       "</table>\n",
       "</div>"
      ],
      "text/plain": [
       "             budget       revenue      runtime  vote_average  release_year  \\\n",
       "count  1.889000e+03  1.889000e+03  1889.000000   1889.000000   1889.000000   \n",
       "mean   5.431083e+07  1.553653e+08   109.658549      6.140762   2007.860773   \n",
       "std    4.858721e+07  2.146698e+08    18.017041      0.764763      4.468841   \n",
       "min    5.000000e+06  2.033165e+06    63.000000      3.300000   2000.000000   \n",
       "25%    2.000000e+07  3.456058e+07    97.000000      5.600000   2004.000000   \n",
       "50%    3.800000e+07  8.361541e+07   107.000000      6.100000   2008.000000   \n",
       "75%    7.200000e+07  1.782626e+08   120.000000      6.600000   2012.000000   \n",
       "max    3.800000e+08  2.781506e+09   214.000000      8.100000   2015.000000   \n",
       "\n",
       "             profit  release_month  \n",
       "count  1.889000e+03    1889.000000  \n",
       "mean   1.010545e+08       6.933298  \n",
       "std    1.830733e+08       3.390196  \n",
       "min   -1.657101e+08       1.000000  \n",
       "25%    5.000000e+06       4.000000  \n",
       "50%    4.400041e+07       7.000000  \n",
       "75%    1.201842e+08      10.000000  \n",
       "max    2.544506e+09      12.000000  "
      ]
     },
     "metadata": {},
     "output_type": "display_data"
    },
    {
     "name": "stdout",
     "output_type": "stream",
     "text": [
      "<class 'pandas.core.frame.DataFrame'>\n",
      "RangeIndex: 1889 entries, 0 to 1888\n",
      "Data columns (total 16 columns):\n",
      " #   Column                Non-Null Count  Dtype         \n",
      "---  ------                --------------  -----         \n",
      " 0   imdb_id               1889 non-null   object        \n",
      " 1   budget                1889 non-null   int64         \n",
      " 2   revenue               1889 non-null   int64         \n",
      " 3   original_title        1889 non-null   object        \n",
      " 4   cast                  1889 non-null   object        \n",
      " 5   director              1889 non-null   object        \n",
      " 6   tagline               1889 non-null   object        \n",
      " 7   overview              1889 non-null   object        \n",
      " 8   runtime               1889 non-null   int64         \n",
      " 9   genres                1889 non-null   object        \n",
      " 10  production_companies  1889 non-null   object        \n",
      " 11  release_date          1889 non-null   datetime64[ns]\n",
      " 12  vote_average          1889 non-null   float64       \n",
      " 13  release_year          1889 non-null   int64         \n",
      " 14  profit                1889 non-null   int64         \n",
      " 15  release_month         1889 non-null   int64         \n",
      "dtypes: datetime64[ns](1), float64(1), int64(6), object(8)\n",
      "memory usage: 236.2+ KB\n"
     ]
    },
    {
     "data": {
      "text/plain": [
       "None"
      ]
     },
     "metadata": {},
     "output_type": "display_data"
    }
   ],
   "source": [
    "display(data.describe())\n",
    "display(data.info())"
   ]
  },
  {
   "cell_type": "markdown",
   "metadata": {
    "colab_type": "text",
    "id": "DTIt7ezGVp-G"
   },
   "source": [
    "# Предобработка"
   ]
  },
  {
   "cell_type": "code",
   "execution_count": 94,
   "metadata": {
    "colab": {},
    "colab_type": "code",
    "id": "jNb40DwKVp-H"
   },
   "outputs": [],
   "source": [
    "answers = {} # создадим словарь для ответов\n",
    "\n",
    "# тут другие ваши предобработки колонок например:\n",
    "\n",
    "#the time given in the dataset is in string format.\n",
    "#So we need to change this in datetime format\n",
    "# ...\n",
    "data.release_date = pd.to_datetime(data.release_date)\n",
    "#Generate extra column: profit \n",
    "data['profit'] = data.revenue - data.budget\n",
    "#Generate extra column: release_month \n",
    "data['release_month'] =  pd.DatetimeIndex(data.release_date).month"
   ]
  },
  {
   "cell_type": "markdown",
   "metadata": {
    "colab_type": "text",
    "id": "YxZaH-nPVp-L"
   },
   "source": [
    "# 1. У какого фильма из списка самый большой бюджет?"
   ]
  },
  {
   "cell_type": "markdown",
   "metadata": {
    "colab_type": "text",
    "id": "Nd-G5gX6Vp-M"
   },
   "source": [
    "Использовать варианты ответов в коде решения запрещено.    \n",
    "Вы думаете и в жизни у вас будут варианты ответов?)"
   ]
  },
  {
   "cell_type": "code",
   "execution_count": 5,
   "metadata": {
    "colab": {},
    "colab_type": "code",
    "id": "uVnXAY5RVp-O"
   },
   "outputs": [],
   "source": [
    "# в словарь вставляем номер вопроса и ваш ответ на него\n",
    "# Пример: \n",
    "answers['1'] = '2. Spider-Man 3 (tt0413300)'\n",
    "# запишите свой вариант ответа\n",
    "answers['1'] = 'Pirates of the Caribbean: On Stranger Tides'\n",
    "# если ответили верно, можете добавить комментарий со значком \"+\""
   ]
  },
  {
   "cell_type": "code",
   "execution_count": 8,
   "metadata": {
    "colab": {},
    "colab_type": "code",
    "id": "dZwb3m28Vp-S"
   },
   "outputs": [
    {
     "data": {
      "text/html": [
       "<div>\n",
       "<style scoped>\n",
       "    .dataframe tbody tr th:only-of-type {\n",
       "        vertical-align: middle;\n",
       "    }\n",
       "\n",
       "    .dataframe tbody tr th {\n",
       "        vertical-align: top;\n",
       "    }\n",
       "\n",
       "    .dataframe thead th {\n",
       "        text-align: right;\n",
       "    }\n",
       "</style>\n",
       "<table border=\"1\" class=\"dataframe\">\n",
       "  <thead>\n",
       "    <tr style=\"text-align: right;\">\n",
       "      <th></th>\n",
       "      <th>imdb_id</th>\n",
       "      <th>budget</th>\n",
       "      <th>revenue</th>\n",
       "      <th>original_title</th>\n",
       "      <th>cast</th>\n",
       "      <th>director</th>\n",
       "      <th>tagline</th>\n",
       "      <th>overview</th>\n",
       "      <th>runtime</th>\n",
       "      <th>genres</th>\n",
       "      <th>production_companies</th>\n",
       "      <th>release_date</th>\n",
       "      <th>vote_average</th>\n",
       "      <th>release_year</th>\n",
       "      <th>profit</th>\n",
       "    </tr>\n",
       "  </thead>\n",
       "  <tbody>\n",
       "    <tr>\n",
       "      <th>723</th>\n",
       "      <td>tt1298650</td>\n",
       "      <td>380000000</td>\n",
       "      <td>1021683000</td>\n",
       "      <td>Pirates of the Caribbean: On Stranger Tides</td>\n",
       "      <td>Johnny Depp|PenÃ©lope Cruz|Geoffrey Rush|Ian M...</td>\n",
       "      <td>Rob Marshall</td>\n",
       "      <td>Live Forever Or Die Trying.</td>\n",
       "      <td>Captain Jack Sparrow crosses paths with a woma...</td>\n",
       "      <td>136</td>\n",
       "      <td>Adventure|Action|Fantasy</td>\n",
       "      <td>Walt Disney Pictures|Jerry Bruckheimer Films|M...</td>\n",
       "      <td>2011-05-11</td>\n",
       "      <td>6.3</td>\n",
       "      <td>2011</td>\n",
       "      <td>641683000</td>\n",
       "    </tr>\n",
       "  </tbody>\n",
       "</table>\n",
       "</div>"
      ],
      "text/plain": [
       "       imdb_id     budget     revenue  \\\n",
       "723  tt1298650  380000000  1021683000   \n",
       "\n",
       "                                  original_title  \\\n",
       "723  Pirates of the Caribbean: On Stranger Tides   \n",
       "\n",
       "                                                  cast      director  \\\n",
       "723  Johnny Depp|PenÃ©lope Cruz|Geoffrey Rush|Ian M...  Rob Marshall   \n",
       "\n",
       "                         tagline  \\\n",
       "723  Live Forever Or Die Trying.   \n",
       "\n",
       "                                              overview  runtime  \\\n",
       "723  Captain Jack Sparrow crosses paths with a woma...      136   \n",
       "\n",
       "                       genres  \\\n",
       "723  Adventure|Action|Fantasy   \n",
       "\n",
       "                                  production_companies release_date  \\\n",
       "723  Walt Disney Pictures|Jerry Bruckheimer Films|M...   2011-05-11   \n",
       "\n",
       "     vote_average  release_year     profit  \n",
       "723           6.3          2011  641683000  "
      ]
     },
     "metadata": {},
     "output_type": "display_data"
    }
   ],
   "source": [
    "# тут пишем ваш код для решения данного вопроса:\n",
    "display(data[data.budget == data.budget.max()])"
   ]
  },
  {
   "cell_type": "markdown",
   "metadata": {
    "colab_type": "text",
    "id": "K7L3nbRXVp-X"
   },
   "source": [
    "ВАРИАНТ 2"
   ]
  },
  {
   "cell_type": "code",
   "execution_count": 13,
   "metadata": {
    "colab": {},
    "colab_type": "code",
    "id": "OGaoQI7rVp-X"
   },
   "outputs": [],
   "source": [
    "# можно добавлять разные варианты решения"
   ]
  },
  {
   "cell_type": "markdown",
   "metadata": {
    "colab_type": "text",
    "id": "FNRbbI3vVp-c"
   },
   "source": [
    "# 2. Какой из фильмов самый длительный (в минутах)?"
   ]
  },
  {
   "cell_type": "code",
   "execution_count": 9,
   "metadata": {
    "colab": {},
    "colab_type": "code",
    "id": "vHAoEXNTVp-d"
   },
   "outputs": [],
   "source": [
    "# думаю логику работы с этим словарем вы уже поняли, \n",
    "# по этому не буду больше его дублировать\n",
    "answers['2'] = 'Gods and Generals'"
   ]
  },
  {
   "cell_type": "code",
   "execution_count": 10,
   "metadata": {
    "colab": {},
    "colab_type": "code",
    "id": "ot-VX2XrVp-g"
   },
   "outputs": [
    {
     "data": {
      "text/html": [
       "<div>\n",
       "<style scoped>\n",
       "    .dataframe tbody tr th:only-of-type {\n",
       "        vertical-align: middle;\n",
       "    }\n",
       "\n",
       "    .dataframe tbody tr th {\n",
       "        vertical-align: top;\n",
       "    }\n",
       "\n",
       "    .dataframe thead th {\n",
       "        text-align: right;\n",
       "    }\n",
       "</style>\n",
       "<table border=\"1\" class=\"dataframe\">\n",
       "  <thead>\n",
       "    <tr style=\"text-align: right;\">\n",
       "      <th></th>\n",
       "      <th>imdb_id</th>\n",
       "      <th>budget</th>\n",
       "      <th>revenue</th>\n",
       "      <th>original_title</th>\n",
       "      <th>cast</th>\n",
       "      <th>director</th>\n",
       "      <th>tagline</th>\n",
       "      <th>overview</th>\n",
       "      <th>runtime</th>\n",
       "      <th>genres</th>\n",
       "      <th>production_companies</th>\n",
       "      <th>release_date</th>\n",
       "      <th>vote_average</th>\n",
       "      <th>release_year</th>\n",
       "      <th>profit</th>\n",
       "    </tr>\n",
       "  </thead>\n",
       "  <tbody>\n",
       "    <tr>\n",
       "      <th>1157</th>\n",
       "      <td>tt0279111</td>\n",
       "      <td>56000000</td>\n",
       "      <td>12923936</td>\n",
       "      <td>Gods and Generals</td>\n",
       "      <td>Stephen Lang|Jeff Daniels|Robert Duvall|Kevin ...</td>\n",
       "      <td>Ronald F. Maxwell</td>\n",
       "      <td>The nations heart was touched by...</td>\n",
       "      <td>The film centers mostly around the personal an...</td>\n",
       "      <td>214</td>\n",
       "      <td>Drama|History|War</td>\n",
       "      <td>Turner Pictures|Antietam Filmworks</td>\n",
       "      <td>2003-02-21</td>\n",
       "      <td>5.8</td>\n",
       "      <td>2003</td>\n",
       "      <td>-43076064</td>\n",
       "    </tr>\n",
       "  </tbody>\n",
       "</table>\n",
       "</div>"
      ],
      "text/plain": [
       "        imdb_id    budget   revenue     original_title  \\\n",
       "1157  tt0279111  56000000  12923936  Gods and Generals   \n",
       "\n",
       "                                                   cast           director  \\\n",
       "1157  Stephen Lang|Jeff Daniels|Robert Duvall|Kevin ...  Ronald F. Maxwell   \n",
       "\n",
       "                                  tagline  \\\n",
       "1157  The nations heart was touched by...   \n",
       "\n",
       "                                               overview  runtime  \\\n",
       "1157  The film centers mostly around the personal an...      214   \n",
       "\n",
       "                 genres                production_companies release_date  \\\n",
       "1157  Drama|History|War  Turner Pictures|Antietam Filmworks   2003-02-21   \n",
       "\n",
       "      vote_average  release_year    profit  \n",
       "1157           5.8          2003 -43076064  "
      ]
     },
     "metadata": {},
     "output_type": "display_data"
    }
   ],
   "source": [
    "display(data[data.runtime == data.runtime.max()])"
   ]
  },
  {
   "cell_type": "markdown",
   "metadata": {
    "colab_type": "text",
    "id": "bapLlpW8Vp-k"
   },
   "source": [
    "# 3. Какой из фильмов самый короткий (в минутах)?\n",
    "\n",
    "\n",
    "\n"
   ]
  },
  {
   "cell_type": "code",
   "execution_count": 23,
   "metadata": {
    "colab": {},
    "colab_type": "code",
    "id": "YBxaSHuAVp-l"
   },
   "outputs": [
    {
     "data": {
      "text/html": [
       "<div>\n",
       "<style scoped>\n",
       "    .dataframe tbody tr th:only-of-type {\n",
       "        vertical-align: middle;\n",
       "    }\n",
       "\n",
       "    .dataframe tbody tr th {\n",
       "        vertical-align: top;\n",
       "    }\n",
       "\n",
       "    .dataframe thead th {\n",
       "        text-align: right;\n",
       "    }\n",
       "</style>\n",
       "<table border=\"1\" class=\"dataframe\">\n",
       "  <thead>\n",
       "    <tr style=\"text-align: right;\">\n",
       "      <th></th>\n",
       "      <th>imdb_id</th>\n",
       "      <th>budget</th>\n",
       "      <th>revenue</th>\n",
       "      <th>original_title</th>\n",
       "      <th>cast</th>\n",
       "      <th>director</th>\n",
       "      <th>tagline</th>\n",
       "      <th>overview</th>\n",
       "      <th>runtime</th>\n",
       "      <th>genres</th>\n",
       "      <th>production_companies</th>\n",
       "      <th>release_date</th>\n",
       "      <th>vote_average</th>\n",
       "      <th>release_year</th>\n",
       "    </tr>\n",
       "  </thead>\n",
       "  <tbody>\n",
       "    <tr>\n",
       "      <th>768</th>\n",
       "      <td>tt1449283</td>\n",
       "      <td>30000000</td>\n",
       "      <td>14460000</td>\n",
       "      <td>Winnie the Pooh</td>\n",
       "      <td>Jim Cummings|Travis Oates|Jim Cummings|Bud Luc...</td>\n",
       "      <td>Stephen Anderson|Don Hall</td>\n",
       "      <td>Oh Pooh.</td>\n",
       "      <td>During an ordinary day in Hundred Acre Wood, W...</td>\n",
       "      <td>63</td>\n",
       "      <td>Animation|Family</td>\n",
       "      <td>Walt Disney Pictures|Walt Disney Animation Stu...</td>\n",
       "      <td>2011-04-13</td>\n",
       "      <td>6.8</td>\n",
       "      <td>2011</td>\n",
       "    </tr>\n",
       "  </tbody>\n",
       "</table>\n",
       "</div>"
      ],
      "text/plain": [
       "       imdb_id    budget   revenue   original_title  \\\n",
       "768  tt1449283  30000000  14460000  Winnie the Pooh   \n",
       "\n",
       "                                                  cast  \\\n",
       "768  Jim Cummings|Travis Oates|Jim Cummings|Bud Luc...   \n",
       "\n",
       "                      director   tagline  \\\n",
       "768  Stephen Anderson|Don Hall  Oh Pooh.   \n",
       "\n",
       "                                              overview  runtime  \\\n",
       "768  During an ordinary day in Hundred Acre Wood, W...       63   \n",
       "\n",
       "               genres                               production_companies  \\\n",
       "768  Animation|Family  Walt Disney Pictures|Walt Disney Animation Stu...   \n",
       "\n",
       "    release_date  vote_average  release_year  \n",
       "768   2011-04-13           6.8          2011  "
      ]
     },
     "metadata": {},
     "output_type": "display_data"
    }
   ],
   "source": [
    "answers['3'] = 'Winnie the Pooh'\n",
    "display(data[data.runtime == data.runtime.min()])"
   ]
  },
  {
   "cell_type": "markdown",
   "metadata": {
    "colab_type": "text",
    "id": "TfQbxbfNVp-p"
   },
   "source": [
    "# 4. Какова средняя длительность фильмов?\n"
   ]
  },
  {
   "cell_type": "code",
   "execution_count": 26,
   "metadata": {
    "colab": {},
    "colab_type": "code",
    "id": "5K6dKZYVVp-q"
   },
   "outputs": [
    {
     "data": {
      "text/plain": [
       "109.6585494970884"
      ]
     },
     "metadata": {},
     "output_type": "display_data"
    }
   ],
   "source": [
    "answers['4'] = '110'\n",
    "display(data.runtime.mean())"
   ]
  },
  {
   "cell_type": "markdown",
   "metadata": {
    "colab_type": "text",
    "id": "r5TvbnT_Vp-u"
   },
   "source": [
    "# 5. Каково медианное значение длительности фильмов? "
   ]
  },
  {
   "cell_type": "code",
   "execution_count": 28,
   "metadata": {
    "colab": {},
    "colab_type": "code",
    "id": "iBROplKnVp-v"
   },
   "outputs": [
    {
     "data": {
      "text/plain": [
       "107.0"
      ]
     },
     "metadata": {},
     "output_type": "display_data"
    }
   ],
   "source": [
    "answers['5'] = '107'\n",
    "display(data.runtime.median())"
   ]
  },
  {
   "cell_type": "markdown",
   "metadata": {
    "colab_type": "text",
    "id": "39P-deDSVp-y"
   },
   "source": [
    "# 6. Какой самый прибыльный фильм?\n",
    "#### Внимание! Здесь и далее под «прибылью» или «убытками» понимается разность между сборами и бюджетом фильма. (прибыль = сборы - бюджет) в нашем датасете это будет (profit = revenue - budget) "
   ]
  },
  {
   "cell_type": "code",
   "execution_count": 33,
   "metadata": {
    "colab": {},
    "colab_type": "code",
    "id": "UYZh4T9WVp-y"
   },
   "outputs": [
    {
     "data": {
      "text/html": [
       "<div>\n",
       "<style scoped>\n",
       "    .dataframe tbody tr th:only-of-type {\n",
       "        vertical-align: middle;\n",
       "    }\n",
       "\n",
       "    .dataframe tbody tr th {\n",
       "        vertical-align: top;\n",
       "    }\n",
       "\n",
       "    .dataframe thead th {\n",
       "        text-align: right;\n",
       "    }\n",
       "</style>\n",
       "<table border=\"1\" class=\"dataframe\">\n",
       "  <thead>\n",
       "    <tr style=\"text-align: right;\">\n",
       "      <th></th>\n",
       "      <th>imdb_id</th>\n",
       "      <th>budget</th>\n",
       "      <th>revenue</th>\n",
       "      <th>original_title</th>\n",
       "      <th>cast</th>\n",
       "      <th>director</th>\n",
       "      <th>tagline</th>\n",
       "      <th>overview</th>\n",
       "      <th>runtime</th>\n",
       "      <th>genres</th>\n",
       "      <th>production_companies</th>\n",
       "      <th>release_date</th>\n",
       "      <th>vote_average</th>\n",
       "      <th>release_year</th>\n",
       "      <th>profit</th>\n",
       "    </tr>\n",
       "  </thead>\n",
       "  <tbody>\n",
       "    <tr>\n",
       "      <th>239</th>\n",
       "      <td>tt0499549</td>\n",
       "      <td>237000000</td>\n",
       "      <td>2781505847</td>\n",
       "      <td>Avatar</td>\n",
       "      <td>Sam Worthington|Zoe Saldana|Sigourney Weaver|S...</td>\n",
       "      <td>James Cameron</td>\n",
       "      <td>Enter the World of Pandora.</td>\n",
       "      <td>In the 22nd century, a paraplegic Marine is di...</td>\n",
       "      <td>162</td>\n",
       "      <td>Action|Adventure|Fantasy|Science Fiction</td>\n",
       "      <td>Ingenious Film Partners|Twentieth Century Fox ...</td>\n",
       "      <td>2009-12-10</td>\n",
       "      <td>7.1</td>\n",
       "      <td>2009</td>\n",
       "      <td>2544505847</td>\n",
       "    </tr>\n",
       "  </tbody>\n",
       "</table>\n",
       "</div>"
      ],
      "text/plain": [
       "       imdb_id     budget     revenue original_title  \\\n",
       "239  tt0499549  237000000  2781505847         Avatar   \n",
       "\n",
       "                                                  cast       director  \\\n",
       "239  Sam Worthington|Zoe Saldana|Sigourney Weaver|S...  James Cameron   \n",
       "\n",
       "                         tagline  \\\n",
       "239  Enter the World of Pandora.   \n",
       "\n",
       "                                              overview  runtime  \\\n",
       "239  In the 22nd century, a paraplegic Marine is di...      162   \n",
       "\n",
       "                                       genres  \\\n",
       "239  Action|Adventure|Fantasy|Science Fiction   \n",
       "\n",
       "                                  production_companies release_date  \\\n",
       "239  Ingenious Film Partners|Twentieth Century Fox ...   2009-12-10   \n",
       "\n",
       "     vote_average  release_year      profit  \n",
       "239           7.1          2009  2544505847  "
      ]
     },
     "metadata": {},
     "output_type": "display_data"
    }
   ],
   "source": [
    "# лучше код получения столбца profit вынести в Предобработку что в начале\n",
    "answers['6'] = 'Avatar'\n",
    "display(data[data.profit == data.profit.max()])"
   ]
  },
  {
   "cell_type": "markdown",
   "metadata": {
    "colab_type": "text",
    "id": "M99JmIX4Vp-2"
   },
   "source": [
    "# 7. Какой фильм самый убыточный? "
   ]
  },
  {
   "cell_type": "code",
   "execution_count": 35,
   "metadata": {
    "colab": {},
    "colab_type": "code",
    "id": "w-D2m4XPVp-3"
   },
   "outputs": [
    {
     "data": {
      "text/html": [
       "<div>\n",
       "<style scoped>\n",
       "    .dataframe tbody tr th:only-of-type {\n",
       "        vertical-align: middle;\n",
       "    }\n",
       "\n",
       "    .dataframe tbody tr th {\n",
       "        vertical-align: top;\n",
       "    }\n",
       "\n",
       "    .dataframe thead th {\n",
       "        text-align: right;\n",
       "    }\n",
       "</style>\n",
       "<table border=\"1\" class=\"dataframe\">\n",
       "  <thead>\n",
       "    <tr style=\"text-align: right;\">\n",
       "      <th></th>\n",
       "      <th>imdb_id</th>\n",
       "      <th>budget</th>\n",
       "      <th>revenue</th>\n",
       "      <th>original_title</th>\n",
       "      <th>cast</th>\n",
       "      <th>director</th>\n",
       "      <th>tagline</th>\n",
       "      <th>overview</th>\n",
       "      <th>runtime</th>\n",
       "      <th>genres</th>\n",
       "      <th>production_companies</th>\n",
       "      <th>release_date</th>\n",
       "      <th>vote_average</th>\n",
       "      <th>release_year</th>\n",
       "      <th>profit</th>\n",
       "    </tr>\n",
       "  </thead>\n",
       "  <tbody>\n",
       "    <tr>\n",
       "      <th>1245</th>\n",
       "      <td>tt1210819</td>\n",
       "      <td>255000000</td>\n",
       "      <td>89289910</td>\n",
       "      <td>The Lone Ranger</td>\n",
       "      <td>Johnny Depp|Armie Hammer|William Fichtner|Hele...</td>\n",
       "      <td>Gore Verbinski</td>\n",
       "      <td>Never Take Off the Mask</td>\n",
       "      <td>The Texas Rangers chase down a gang of outlaws...</td>\n",
       "      <td>149</td>\n",
       "      <td>Action|Adventure|Western</td>\n",
       "      <td>Walt Disney Pictures|Jerry Bruckheimer Films|I...</td>\n",
       "      <td>2013-07-03</td>\n",
       "      <td>6.0</td>\n",
       "      <td>2013</td>\n",
       "      <td>-165710090</td>\n",
       "    </tr>\n",
       "  </tbody>\n",
       "</table>\n",
       "</div>"
      ],
      "text/plain": [
       "        imdb_id     budget   revenue   original_title  \\\n",
       "1245  tt1210819  255000000  89289910  The Lone Ranger   \n",
       "\n",
       "                                                   cast        director  \\\n",
       "1245  Johnny Depp|Armie Hammer|William Fichtner|Hele...  Gore Verbinski   \n",
       "\n",
       "                      tagline  \\\n",
       "1245  Never Take Off the Mask   \n",
       "\n",
       "                                               overview  runtime  \\\n",
       "1245  The Texas Rangers chase down a gang of outlaws...      149   \n",
       "\n",
       "                        genres  \\\n",
       "1245  Action|Adventure|Western   \n",
       "\n",
       "                                   production_companies release_date  \\\n",
       "1245  Walt Disney Pictures|Jerry Bruckheimer Films|I...   2013-07-03   \n",
       "\n",
       "      vote_average  release_year     profit  \n",
       "1245           6.0          2013 -165710090  "
      ]
     },
     "metadata": {},
     "output_type": "display_data"
    }
   ],
   "source": [
    "answers['7'] = 'The Lone Ranger'\n",
    "display(data[data.profit == data.profit.min()])"
   ]
  },
  {
   "cell_type": "markdown",
   "metadata": {
    "colab_type": "text",
    "id": "wEOM5ERVVp-6"
   },
   "source": [
    "# 8. У скольких фильмов из датасета объем сборов оказался выше бюджета?"
   ]
  },
  {
   "cell_type": "code",
   "execution_count": 51,
   "metadata": {
    "colab": {},
    "colab_type": "code",
    "id": "y00_7HD6Vp-7"
   },
   "outputs": [
    {
     "data": {
      "text/plain": [
       "1478"
      ]
     },
     "metadata": {},
     "output_type": "display_data"
    }
   ],
   "source": [
    "answers['8'] = '1478'\n",
    "display(data.query('revenue > budget').imdb_id.count())"
   ]
  },
  {
   "cell_type": "markdown",
   "metadata": {
    "colab_type": "text",
    "id": "xhpspA9KVp_A"
   },
   "source": [
    "# 9. Какой фильм оказался самым кассовым в 2008 году?"
   ]
  },
  {
   "cell_type": "code",
   "execution_count": 64,
   "metadata": {
    "colab": {},
    "colab_type": "code",
    "id": "MoUyQr9RVp_B"
   },
   "outputs": [
    {
     "data": {
      "text/html": [
       "<div>\n",
       "<style scoped>\n",
       "    .dataframe tbody tr th:only-of-type {\n",
       "        vertical-align: middle;\n",
       "    }\n",
       "\n",
       "    .dataframe tbody tr th {\n",
       "        vertical-align: top;\n",
       "    }\n",
       "\n",
       "    .dataframe thead th {\n",
       "        text-align: right;\n",
       "    }\n",
       "</style>\n",
       "<table border=\"1\" class=\"dataframe\">\n",
       "  <thead>\n",
       "    <tr style=\"text-align: right;\">\n",
       "      <th></th>\n",
       "      <th>imdb_id</th>\n",
       "      <th>budget</th>\n",
       "      <th>revenue</th>\n",
       "      <th>original_title</th>\n",
       "      <th>cast</th>\n",
       "      <th>director</th>\n",
       "      <th>tagline</th>\n",
       "      <th>overview</th>\n",
       "      <th>runtime</th>\n",
       "      <th>genres</th>\n",
       "      <th>production_companies</th>\n",
       "      <th>release_date</th>\n",
       "      <th>vote_average</th>\n",
       "      <th>release_year</th>\n",
       "      <th>profit</th>\n",
       "    </tr>\n",
       "  </thead>\n",
       "  <tbody>\n",
       "    <tr>\n",
       "      <th>599</th>\n",
       "      <td>tt0468569</td>\n",
       "      <td>185000000</td>\n",
       "      <td>1001921825</td>\n",
       "      <td>The Dark Knight</td>\n",
       "      <td>Christian Bale|Michael Caine|Heath Ledger|Aaro...</td>\n",
       "      <td>Christopher Nolan</td>\n",
       "      <td>Why So Serious?</td>\n",
       "      <td>Batman raises the stakes in his war on crime. ...</td>\n",
       "      <td>152</td>\n",
       "      <td>Drama|Action|Crime|Thriller</td>\n",
       "      <td>DC Comics|Legendary Pictures|Warner Bros.|Syncopy</td>\n",
       "      <td>2008-07-16</td>\n",
       "      <td>8.1</td>\n",
       "      <td>2008</td>\n",
       "      <td>816921825</td>\n",
       "    </tr>\n",
       "  </tbody>\n",
       "</table>\n",
       "</div>"
      ],
      "text/plain": [
       "       imdb_id     budget     revenue   original_title  \\\n",
       "599  tt0468569  185000000  1001921825  The Dark Knight   \n",
       "\n",
       "                                                  cast           director  \\\n",
       "599  Christian Bale|Michael Caine|Heath Ledger|Aaro...  Christopher Nolan   \n",
       "\n",
       "             tagline                                           overview  \\\n",
       "599  Why So Serious?  Batman raises the stakes in his war on crime. ...   \n",
       "\n",
       "     runtime                       genres  \\\n",
       "599      152  Drama|Action|Crime|Thriller   \n",
       "\n",
       "                                  production_companies release_date  \\\n",
       "599  DC Comics|Legendary Pictures|Warner Bros.|Syncopy   2008-07-16   \n",
       "\n",
       "     vote_average  release_year     profit  \n",
       "599           8.1          2008  816921825  "
      ]
     },
     "metadata": {},
     "output_type": "display_data"
    }
   ],
   "source": [
    "answers['9'] = 'The Dark Knight'\n",
    "df2008 = data[data.release_year == 2008]\n",
    "display(df2008[df2008.revenue == df2008.revenue.max()])"
   ]
  },
  {
   "cell_type": "markdown",
   "metadata": {
    "colab_type": "text",
    "id": "Zi4hDKidVp_F"
   },
   "source": [
    "# 10. Самый убыточный фильм за период с 2012 по 2014 г. (включительно)?\n"
   ]
  },
  {
   "cell_type": "code",
   "execution_count": 67,
   "metadata": {
    "colab": {},
    "colab_type": "code",
    "id": "XqyRmufJVp_F"
   },
   "outputs": [
    {
     "data": {
      "text/html": [
       "<div>\n",
       "<style scoped>\n",
       "    .dataframe tbody tr th:only-of-type {\n",
       "        vertical-align: middle;\n",
       "    }\n",
       "\n",
       "    .dataframe tbody tr th {\n",
       "        vertical-align: top;\n",
       "    }\n",
       "\n",
       "    .dataframe thead th {\n",
       "        text-align: right;\n",
       "    }\n",
       "</style>\n",
       "<table border=\"1\" class=\"dataframe\">\n",
       "  <thead>\n",
       "    <tr style=\"text-align: right;\">\n",
       "      <th></th>\n",
       "      <th>imdb_id</th>\n",
       "      <th>budget</th>\n",
       "      <th>revenue</th>\n",
       "      <th>original_title</th>\n",
       "      <th>cast</th>\n",
       "      <th>director</th>\n",
       "      <th>tagline</th>\n",
       "      <th>overview</th>\n",
       "      <th>runtime</th>\n",
       "      <th>genres</th>\n",
       "      <th>production_companies</th>\n",
       "      <th>release_date</th>\n",
       "      <th>vote_average</th>\n",
       "      <th>release_year</th>\n",
       "      <th>profit</th>\n",
       "    </tr>\n",
       "  </thead>\n",
       "  <tbody>\n",
       "    <tr>\n",
       "      <th>1245</th>\n",
       "      <td>tt1210819</td>\n",
       "      <td>255000000</td>\n",
       "      <td>89289910</td>\n",
       "      <td>The Lone Ranger</td>\n",
       "      <td>Johnny Depp|Armie Hammer|William Fichtner|Hele...</td>\n",
       "      <td>Gore Verbinski</td>\n",
       "      <td>Never Take Off the Mask</td>\n",
       "      <td>The Texas Rangers chase down a gang of outlaws...</td>\n",
       "      <td>149</td>\n",
       "      <td>Action|Adventure|Western</td>\n",
       "      <td>Walt Disney Pictures|Jerry Bruckheimer Films|I...</td>\n",
       "      <td>2013-07-03</td>\n",
       "      <td>6.0</td>\n",
       "      <td>2013</td>\n",
       "      <td>-165710090</td>\n",
       "    </tr>\n",
       "  </tbody>\n",
       "</table>\n",
       "</div>"
      ],
      "text/plain": [
       "        imdb_id     budget   revenue   original_title  \\\n",
       "1245  tt1210819  255000000  89289910  The Lone Ranger   \n",
       "\n",
       "                                                   cast        director  \\\n",
       "1245  Johnny Depp|Armie Hammer|William Fichtner|Hele...  Gore Verbinski   \n",
       "\n",
       "                      tagline  \\\n",
       "1245  Never Take Off the Mask   \n",
       "\n",
       "                                               overview  runtime  \\\n",
       "1245  The Texas Rangers chase down a gang of outlaws...      149   \n",
       "\n",
       "                        genres  \\\n",
       "1245  Action|Adventure|Western   \n",
       "\n",
       "                                   production_companies release_date  \\\n",
       "1245  Walt Disney Pictures|Jerry Bruckheimer Films|I...   2013-07-03   \n",
       "\n",
       "      vote_average  release_year     profit  \n",
       "1245           6.0          2013 -165710090  "
      ]
     },
     "metadata": {},
     "output_type": "display_data"
    }
   ],
   "source": [
    "answers['10'] = 'The Lone Ranger'\n",
    "df_range = data[(data.release_year >= 2012) & (data.release_year <= 2014)]\n",
    "display(df_range[df_range.profit == df_range.profit.min()])"
   ]
  },
  {
   "cell_type": "markdown",
   "metadata": {
    "colab_type": "text",
    "id": "EA7Sa9dkVp_I"
   },
   "source": [
    "# 11. Какого жанра фильмов больше всего?"
   ]
  },
  {
   "cell_type": "code",
   "execution_count": 105,
   "metadata": {
    "colab": {},
    "colab_type": "code",
    "id": "zsJAwJ8QVp_J"
   },
   "outputs": [
    {
     "data": {
      "text/plain": [
       "Drama              782\n",
       "Comedy             683\n",
       "Thriller           596\n",
       "Action             582\n",
       "Adventure          415\n",
       "Crime              315\n",
       "Romance            308\n",
       "Family             260\n",
       "Science Fiction    248\n",
       "Fantasy            222\n",
       "Horror             176\n",
       "Mystery            168\n",
       "Animation          139\n",
       "Music               64\n",
       "History             62\n",
       "War                 58\n",
       "Western             19\n",
       "Documentary          8\n",
       "Foreign              2\n",
       "dtype: int64"
      ]
     },
     "metadata": {},
     "output_type": "display_data"
    }
   ],
   "source": [
    "# эту задачу тоже можно решать разными подходами, попробуй реализовать разные варианты\n",
    "# если будешь добавлять функцию - выноси ее в предобработку что в начале\n",
    "answers['11'] = 'Drama'\n",
    "genres = (data.genres.tolist())\n",
    "big_list = []\n",
    "for i in genres:\n",
    "    for j in i.split('|'):\n",
    "        big_list.append(j)\n",
    "big_series = pd.Series(big_list)\n",
    "display (big_series.value_counts())"
   ]
  },
  {
   "cell_type": "markdown",
   "metadata": {
    "colab_type": "text",
    "id": "Ax6g2C8SVp_M"
   },
   "source": [
    "ВАРИАНТ 2"
   ]
  },
  {
   "cell_type": "code",
   "execution_count": 104,
   "metadata": {
    "colab": {},
    "colab_type": "code",
    "id": "otO3SbrSVp_N",
    "scrolled": true
   },
   "outputs": [
    {
     "data": {
      "text/plain": [
       "Drama              782\n",
       "Comedy             683\n",
       "Thriller           596\n",
       "Action             582\n",
       "Adventure          415\n",
       "Crime              315\n",
       "Romance            308\n",
       "Family             260\n",
       "Science Fiction    248\n",
       "Fantasy            222\n",
       "Horror             176\n",
       "Mystery            168\n",
       "Animation          139\n",
       "Music               64\n",
       "History             62\n",
       "War                 58\n",
       "Western             19\n",
       "Documentary          8\n",
       "Foreign              2\n",
       "dtype: int64"
      ]
     },
     "execution_count": 104,
     "metadata": {},
     "output_type": "execute_result"
    }
   ],
   "source": [
    "pd.DataFrame(data.genres.str.split('|').tolist()).stack().value_counts()"
   ]
  },
  {
   "cell_type": "markdown",
   "metadata": {
    "colab_type": "text",
    "id": "T9_bPWpkVp_Q"
   },
   "source": [
    "# 12. Фильмы какого жанра чаще всего становятся прибыльными? "
   ]
  },
  {
   "cell_type": "code",
   "execution_count": 108,
   "metadata": {
    "colab": {},
    "colab_type": "code",
    "id": "Tmt8MaK1Vp_R"
   },
   "outputs": [
    {
     "data": {
      "text/plain": [
       "Drama              560\n",
       "Comedy             551\n",
       "Thriller           446\n",
       "Action             444\n",
       "Adventure          337\n",
       "Romance            242\n",
       "Crime              231\n",
       "Family             226\n",
       "Science Fiction    195\n",
       "Fantasy            188\n",
       "Horror             150\n",
       "Animation          120\n",
       "Mystery            119\n",
       "Music               47\n",
       "History             46\n",
       "War                 41\n",
       "Western             12\n",
       "Documentary          7\n",
       "dtype: int64"
      ]
     },
     "metadata": {},
     "output_type": "display_data"
    }
   ],
   "source": [
    "answers['12'] = 'Drama'\n",
    "display(pd.DataFrame(data[data.profit > 0].genres.str.split('|').tolist()).stack().value_counts())"
   ]
  },
  {
   "cell_type": "markdown",
   "metadata": {
    "colab_type": "text",
    "id": "0F23bgsDVp_U"
   },
   "source": [
    "# 13. У какого режиссера самые большие суммарные кассовые сбооры?"
   ]
  },
  {
   "cell_type": "code",
   "execution_count": 62,
   "metadata": {
    "colab": {},
    "colab_type": "code",
    "id": "K6Z3J8ygVp_X",
    "scrolled": false
   },
   "outputs": [
    {
     "data": {
      "text/html": [
       "<div>\n",
       "<style scoped>\n",
       "    .dataframe tbody tr th:only-of-type {\n",
       "        vertical-align: middle;\n",
       "    }\n",
       "\n",
       "    .dataframe tbody tr th {\n",
       "        vertical-align: top;\n",
       "    }\n",
       "\n",
       "    .dataframe thead th {\n",
       "        text-align: right;\n",
       "    }\n",
       "</style>\n",
       "<table border=\"1\" class=\"dataframe\">\n",
       "  <thead>\n",
       "    <tr style=\"text-align: right;\">\n",
       "      <th></th>\n",
       "      <th>Summ</th>\n",
       "    </tr>\n",
       "  </thead>\n",
       "  <tbody>\n",
       "    <tr>\n",
       "      <th>Peter Jackson</th>\n",
       "      <td>6490593685</td>\n",
       "    </tr>\n",
       "    <tr>\n",
       "      <th>Christopher Nolan</th>\n",
       "      <td>4167548502</td>\n",
       "    </tr>\n",
       "    <tr>\n",
       "      <th>David Yates</th>\n",
       "      <td>4154295625</td>\n",
       "    </tr>\n",
       "    <tr>\n",
       "      <th>Michael Bay</th>\n",
       "      <td>3886938960</td>\n",
       "    </tr>\n",
       "    <tr>\n",
       "      <th>J.J. Abrams</th>\n",
       "      <td>3579169916</td>\n",
       "    </tr>\n",
       "    <tr>\n",
       "      <th>...</th>\n",
       "      <td>...</td>\n",
       "    </tr>\n",
       "    <tr>\n",
       "      <th>David MichÃ´d</th>\n",
       "      <td>2295423</td>\n",
       "    </tr>\n",
       "    <tr>\n",
       "      <th>Steven Shainberg</th>\n",
       "      <td>2281089</td>\n",
       "    </tr>\n",
       "    <tr>\n",
       "      <th>Paul Schrader</th>\n",
       "      <td>2062066</td>\n",
       "    </tr>\n",
       "    <tr>\n",
       "      <th>Keanu Reeves</th>\n",
       "      <td>2054941</td>\n",
       "    </tr>\n",
       "    <tr>\n",
       "      <th>Simon Hunter</th>\n",
       "      <td>2033165</td>\n",
       "    </tr>\n",
       "  </tbody>\n",
       "</table>\n",
       "<p>997 rows × 1 columns</p>\n",
       "</div>"
      ],
      "text/plain": [
       "                         Summ\n",
       "Peter Jackson      6490593685\n",
       "Christopher Nolan  4167548502\n",
       "David Yates        4154295625\n",
       "Michael Bay        3886938960\n",
       "J.J. Abrams        3579169916\n",
       "...                       ...\n",
       "David MichÃ´d         2295423\n",
       "Steven Shainberg      2281089\n",
       "Paul Schrader         2062066\n",
       "Keanu Reeves          2054941\n",
       "Simon Hunter          2033165\n",
       "\n",
       "[997 rows x 1 columns]"
      ]
     },
     "metadata": {},
     "output_type": "display_data"
    }
   ],
   "source": [
    "answers['13'] = 'Peter Jackson'\n",
    "def director_revenue(df, directors, revenue):\n",
    "    summ = Counter()\n",
    "    for i in range(len(df)):\n",
    "        for j in directors[i].split('|'):\n",
    "            summ[j] += revenue[i]\n",
    "    return pd.DataFrame.from_dict(summ, orient='index', columns = ['Summ'])\n",
    "    \n",
    "display(director_revenue(data, data.director, data.revenue).sort_values(by=['Summ'], ascending = False))\n"
   ]
  },
  {
   "cell_type": "markdown",
   "metadata": {
    "colab_type": "text",
    "id": "PsYC9FgRVp_a"
   },
   "source": [
    "# 14. Какой режисер снял больше всего фильмов в стиле Action?"
   ]
  },
  {
   "cell_type": "code",
   "execution_count": 12,
   "metadata": {
    "colab": {},
    "colab_type": "code",
    "id": "wd2M-wHeVp_b"
   },
   "outputs": [
    {
     "name": "stdout",
     "output_type": "stream",
     "text": [
      "Robert Rodriguez      9\n",
      "Paul W.S. Anderson    7\n",
      "Michael Bay           7\n",
      "Ridley Scott          6\n",
      "Antoine Fuqua         6\n",
      "                     ..\n",
      "Gary Goldman          1\n",
      "Josh Trank            1\n",
      "Bruce Beresford       1\n",
      "Mark Andrews          1\n",
      "Michael J. Bassett    1\n",
      "Length: 364, dtype: int64\n"
     ]
    }
   ],
   "source": [
    "answers['14'] = 'Robert Rodriguez'\n",
    "def counter(movie_bd, x):\n",
    "    #display(movie_bd)\n",
    "    data_plot=movie_bd[x].str.cat(sep='|')\n",
    "    #display(data_plot)\n",
    "    dat=pd.Series(data_plot.split('|'))\n",
    "    info=dat.value_counts(ascending=False)\n",
    "    return info\n",
    "sum_gen = counter(data[data['genres'].map(lambda x: True if 'Action' in x else False)],'director')\n",
    "print(sum_gen)"
   ]
  },
  {
   "cell_type": "markdown",
   "metadata": {
    "colab_type": "text",
    "id": "PQ0KciD7Vp_f"
   },
   "source": [
    "# 15. Фильмы с каким актером принесли самые высокие кассовые сборы в 2012 году? "
   ]
  },
  {
   "cell_type": "code",
   "execution_count": 56,
   "metadata": {
    "colab": {},
    "colab_type": "code",
    "id": "aga62oeKVp_g"
   },
   "outputs": [
    {
     "data": {
      "text/html": [
       "<div>\n",
       "<style scoped>\n",
       "    .dataframe tbody tr th:only-of-type {\n",
       "        vertical-align: middle;\n",
       "    }\n",
       "\n",
       "    .dataframe tbody tr th {\n",
       "        vertical-align: top;\n",
       "    }\n",
       "\n",
       "    .dataframe thead th {\n",
       "        text-align: right;\n",
       "    }\n",
       "</style>\n",
       "<table border=\"1\" class=\"dataframe\">\n",
       "  <thead>\n",
       "    <tr style=\"text-align: right;\">\n",
       "      <th></th>\n",
       "      <th>Summ</th>\n",
       "    </tr>\n",
       "  </thead>\n",
       "  <tbody>\n",
       "    <tr>\n",
       "      <th>Chris Hemsworth</th>\n",
       "      <td>2027450773</td>\n",
       "    </tr>\n",
       "    <tr>\n",
       "      <th>Denis Leary</th>\n",
       "      <td>1629460639</td>\n",
       "    </tr>\n",
       "    <tr>\n",
       "      <th>Anne Hathaway</th>\n",
       "      <td>1522851057</td>\n",
       "    </tr>\n",
       "    <tr>\n",
       "      <th>Robert Downey Jr.</th>\n",
       "      <td>1519557910</td>\n",
       "    </tr>\n",
       "    <tr>\n",
       "      <th>Mark Ruffalo</th>\n",
       "      <td>1519557910</td>\n",
       "    </tr>\n",
       "    <tr>\n",
       "      <th>...</th>\n",
       "      <td>...</td>\n",
       "    </tr>\n",
       "    <tr>\n",
       "      <th>Jason Bateman</th>\n",
       "      <td>3428048</td>\n",
       "    </tr>\n",
       "    <tr>\n",
       "      <th>Nicolas Cage</th>\n",
       "      <td>2106557</td>\n",
       "    </tr>\n",
       "    <tr>\n",
       "      <th>Sami Gayle</th>\n",
       "      <td>2106557</td>\n",
       "    </tr>\n",
       "    <tr>\n",
       "      <th>Josh Lucas</th>\n",
       "      <td>2106557</td>\n",
       "    </tr>\n",
       "    <tr>\n",
       "      <th>Danny Huston</th>\n",
       "      <td>2106557</td>\n",
       "    </tr>\n",
       "  </tbody>\n",
       "</table>\n",
       "<p>466 rows × 1 columns</p>\n",
       "</div>"
      ],
      "text/plain": [
       "                         Summ\n",
       "Chris Hemsworth    2027450773\n",
       "Denis Leary        1629460639\n",
       "Anne Hathaway      1522851057\n",
       "Robert Downey Jr.  1519557910\n",
       "Mark Ruffalo       1519557910\n",
       "...                       ...\n",
       "Jason Bateman         3428048\n",
       "Nicolas Cage          2106557\n",
       "Sami Gayle            2106557\n",
       "Josh Lucas            2106557\n",
       "Danny Huston          2106557\n",
       "\n",
       "[466 rows x 1 columns]"
      ]
     },
     "metadata": {},
     "output_type": "display_data"
    },
    {
     "data": {
      "text/plain": [
       "2027450773"
      ]
     },
     "metadata": {},
     "output_type": "display_data"
    }
   ],
   "source": [
    "answers['15'] = 'Chris Hemsworth'\n",
    "def actor_revenue(df):\n",
    "    summ = Counter()\n",
    "    for i in range(len(df)):\n",
    "        for j in df.iloc[i].cast.split('|'):\n",
    "            summ[j] += df.iloc[i].revenue\n",
    "    return pd.DataFrame.from_dict(summ, orient='index', columns = ['Summ'])\n",
    "\n",
    "display(actor_revenue(data[data.release_year == 2012]).sort_values(by=['Summ'], ascending = False))\n",
    "\n",
    "#check answer\n",
    "display(data[(data.cast.str.contains('Chris Hemsworth')) & (data.release_year == 2012)].revenue.sum())"
   ]
  },
  {
   "cell_type": "markdown",
   "metadata": {
    "colab_type": "text",
    "id": "mWHyyL7QVp_j"
   },
   "source": [
    "# 16. Какой актер снялся в большем количестве высокобюджетных фильмов?"
   ]
  },
  {
   "cell_type": "code",
   "execution_count": 70,
   "metadata": {
    "colab": {},
    "colab_type": "code",
    "id": "qQtmHKTFVp_k"
   },
   "outputs": [
    {
     "data": {
      "text/plain": [
       "Matt Damon           18\n",
       "Adam Sandler         17\n",
       "Angelina Jolie       16\n",
       "Eddie Murphy         15\n",
       "Samuel L. Jackson    15\n",
       "                     ..\n",
       "Dash Mihok            1\n",
       "GÃ©rard Depardieu     1\n",
       "Steven Brand          1\n",
       "Venus Schultheis      1\n",
       "Craig Bierko          1\n",
       "Length: 1505, dtype: int64"
      ]
     },
     "metadata": {},
     "output_type": "display_data"
    }
   ],
   "source": [
    "answers['16'] = 'Matt Damon'\n",
    "def actor(df):\n",
    "    who = []\n",
    "    for i in range(len(df)):\n",
    "        for j in df.iloc[i].cast.split('|'):\n",
    "            who.append(j)\n",
    "    who_series = pd.Series(who)\n",
    "    return who_series\n",
    "\n",
    "#display(data[data.budget > data.budget.mean()])\n",
    "display(actor(data[data.budget > data.budget.mean()]).value_counts())"
   ]
  },
  {
   "cell_type": "markdown",
   "metadata": {
    "colab_type": "text",
    "id": "NIh6AaW5Vp_n"
   },
   "source": [
    "# 17. В фильмах какого жанра больше всего снимался Nicolas Cage? "
   ]
  },
  {
   "cell_type": "code",
   "execution_count": 59,
   "metadata": {
    "colab": {},
    "colab_type": "code",
    "id": "H74SJDIBVp_n"
   },
   "outputs": [
    {
     "data": {
      "text/plain": [
       "Action             17\n",
       "Thriller           15\n",
       "Drama              12\n",
       "Crime              10\n",
       "Fantasy             8\n",
       "Adventure           7\n",
       "Comedy              6\n",
       "Science Fiction     4\n",
       "Family              3\n",
       "Mystery             3\n",
       "Animation           3\n",
       "History             2\n",
       "Horror              1\n",
       "Romance             1\n",
       "War                 1\n",
       "dtype: int64"
      ]
     },
     "metadata": {},
     "output_type": "display_data"
    }
   ],
   "source": [
    "answers['17'] = 'Action'\n",
    "genres = (data[data.cast.str.contains('Nicolas Cage')].genres.tolist())\n",
    "big_list = []\n",
    "for i in genres:\n",
    "    for j in i.split('|'):\n",
    "        big_list.append(j)\n",
    "big_series = pd.Series(big_list)\n",
    "display (big_series.value_counts())"
   ]
  },
  {
   "cell_type": "markdown",
   "metadata": {
    "colab_type": "text",
    "id": "RqOmPRfWVp_q"
   },
   "source": [
    "# 18. Самый убыточный фильм от Paramount Pictures"
   ]
  },
  {
   "cell_type": "code",
   "execution_count": 77,
   "metadata": {
    "colab": {},
    "colab_type": "code",
    "id": "9E_B0Y96Vp_r"
   },
   "outputs": [
    {
     "data": {
      "text/plain": [
       "925    K-19: The Widowmaker\n",
       "Name: original_title, dtype: object"
      ]
     },
     "metadata": {},
     "output_type": "display_data"
    }
   ],
   "source": [
    "answers['18'] = 'K-19: The Widowmaker'\n",
    "paramount_df = data[data.production_companies.str.contains('Paramount Pictures')]\n",
    "display(paramount_df[paramount_df.profit == paramount_df.profit.min()].original_title)"
   ]
  },
  {
   "cell_type": "markdown",
   "metadata": {
    "colab_type": "text",
    "id": "vS8Ur6ddVp_u"
   },
   "source": [
    "# 19. Какой год стал самым успешным по суммарным кассовым сборам?"
   ]
  },
  {
   "cell_type": "code",
   "execution_count": 104,
   "metadata": {
    "colab": {},
    "colab_type": "code",
    "id": "Dnbt4GdIVp_v"
   },
   "outputs": [
    {
     "data": {
      "text/plain": [
       "release_year\n",
       "2015    25449202382\n",
       "2014    23405862953\n",
       "2013    23213799791\n",
       "2012    23079001687\n",
       "2011    22676791872\n",
       "2010    21071204961\n",
       "2009    20261791024\n",
       "2008    18252781990\n",
       "2007    18162406801\n",
       "2004    15663430720\n",
       "2005    15309425558\n",
       "2006    14775042320\n",
       "2003    14346123312\n",
       "2002    14136361487\n",
       "2001    13017764865\n",
       "2000    10664099805\n",
       "Name: revenue, dtype: int64"
      ]
     },
     "metadata": {},
     "output_type": "display_data"
    }
   ],
   "source": [
    "answers['19'] = '2015'\n",
    "display(data.groupby(['release_year']).aggregate(sum).revenue.sort_values(ascending = False))"
   ]
  },
  {
   "cell_type": "markdown",
   "metadata": {
    "colab_type": "text",
    "id": "JAzJh4QAVp_z"
   },
   "source": [
    "# 20. Какой самый прибыльный год для студии Warner Bros?"
   ]
  },
  {
   "cell_type": "code",
   "execution_count": 123,
   "metadata": {
    "colab": {},
    "colab_type": "code",
    "id": "wgVu02DEVp_0"
   },
   "outputs": [
    {
     "data": {
      "text/plain": [
       "release_year\n",
       "2014    2295464519\n",
       "2007    2201675217\n",
       "2008    2134595031\n",
       "2010    1974712985\n",
       "2011    1871393682\n",
       "2003    1855493377\n",
       "2009    1822454136\n",
       "2013    1636453400\n",
       "2004    1631933725\n",
       "2005    1551980298\n",
       "2001    1343545668\n",
       "2012    1258020056\n",
       "2002    1022709901\n",
       "2015     870368348\n",
       "2006     620170743\n",
       "2000     452631386\n",
       "Name: profit, dtype: int64"
      ]
     },
     "metadata": {},
     "output_type": "display_data"
    }
   ],
   "source": [
    "answers['20'] = '2014'\n",
    "warner_df = data[data.production_companies.str.contains('Warner Bros')]\n",
    "display(warner_df.groupby(['release_year']).aggregate(sum).profit.sort_values(ascending = False))"
   ]
  },
  {
   "cell_type": "markdown",
   "metadata": {
    "colab_type": "text",
    "id": "8Im1S2HRVp_4"
   },
   "source": [
    "# 21. В каком месяце за все годы суммарно вышло больше всего фильмов?"
   ]
  },
  {
   "cell_type": "code",
   "execution_count": 113,
   "metadata": {
    "colab": {},
    "colab_type": "code",
    "id": "lev6TH7gVp_4"
   },
   "outputs": [
    {
     "data": {
      "text/html": [
       "<div>\n",
       "<style scoped>\n",
       "    .dataframe tbody tr th:only-of-type {\n",
       "        vertical-align: middle;\n",
       "    }\n",
       "\n",
       "    .dataframe tbody tr th {\n",
       "        vertical-align: top;\n",
       "    }\n",
       "\n",
       "    .dataframe thead th {\n",
       "        text-align: right;\n",
       "    }\n",
       "</style>\n",
       "<table border=\"1\" class=\"dataframe\">\n",
       "  <thead>\n",
       "    <tr style=\"text-align: right;\">\n",
       "      <th></th>\n",
       "      <th>imdb_id</th>\n",
       "    </tr>\n",
       "    <tr>\n",
       "      <th>release_month</th>\n",
       "      <th></th>\n",
       "    </tr>\n",
       "  </thead>\n",
       "  <tbody>\n",
       "    <tr>\n",
       "      <th>9</th>\n",
       "      <td>227</td>\n",
       "    </tr>\n",
       "    <tr>\n",
       "      <th>12</th>\n",
       "      <td>190</td>\n",
       "    </tr>\n",
       "    <tr>\n",
       "      <th>10</th>\n",
       "      <td>186</td>\n",
       "    </tr>\n",
       "    <tr>\n",
       "      <th>8</th>\n",
       "      <td>161</td>\n",
       "    </tr>\n",
       "    <tr>\n",
       "      <th>3</th>\n",
       "      <td>156</td>\n",
       "    </tr>\n",
       "    <tr>\n",
       "      <th>4</th>\n",
       "      <td>149</td>\n",
       "    </tr>\n",
       "    <tr>\n",
       "      <th>6</th>\n",
       "      <td>147</td>\n",
       "    </tr>\n",
       "    <tr>\n",
       "      <th>11</th>\n",
       "      <td>146</td>\n",
       "    </tr>\n",
       "    <tr>\n",
       "      <th>7</th>\n",
       "      <td>142</td>\n",
       "    </tr>\n",
       "    <tr>\n",
       "      <th>5</th>\n",
       "      <td>140</td>\n",
       "    </tr>\n",
       "    <tr>\n",
       "      <th>2</th>\n",
       "      <td>135</td>\n",
       "    </tr>\n",
       "    <tr>\n",
       "      <th>1</th>\n",
       "      <td>110</td>\n",
       "    </tr>\n",
       "  </tbody>\n",
       "</table>\n",
       "</div>"
      ],
      "text/plain": [
       "               imdb_id\n",
       "release_month         \n",
       "9                  227\n",
       "12                 190\n",
       "10                 186\n",
       "8                  161\n",
       "3                  156\n",
       "4                  149\n",
       "6                  147\n",
       "11                 146\n",
       "7                  142\n",
       "5                  140\n",
       "2                  135\n",
       "1                  110"
      ]
     },
     "metadata": {},
     "output_type": "display_data"
    }
   ],
   "source": [
    "answers['21'] = '9'\n",
    "display(data.groupby(['release_month'])[['imdb_id']].count().sort_values(['imdb_id'], ascending = False))"
   ]
  },
  {
   "cell_type": "markdown",
   "metadata": {
    "colab_type": "text",
    "id": "uAJsZ_NeVp_7"
   },
   "source": [
    "# 22. Сколько суммарно вышло фильмов летом? (за июнь, июль, август)"
   ]
  },
  {
   "cell_type": "code",
   "execution_count": 121,
   "metadata": {
    "colab": {},
    "colab_type": "code",
    "id": "Aa-hEREoVp_8"
   },
   "outputs": [
    {
     "data": {
      "text/plain": [
       "450"
      ]
     },
     "metadata": {},
     "output_type": "display_data"
    }
   ],
   "source": [
    "answers['22'] = '450'\n",
    "summer_months = [6, 7, 8]\n",
    "display(data[data.release_month.isin(summer_months)].imdb_id.count())"
   ]
  },
  {
   "cell_type": "markdown",
   "metadata": {
    "colab_type": "text",
    "id": "G94ppOY1VqAA"
   },
   "source": [
    "# 23. Для какого режиссера зима – самое продуктивное время года? "
   ]
  },
  {
   "cell_type": "code",
   "execution_count": 0,
   "metadata": {
    "colab": {},
    "colab_type": "code",
    "id": "RhNTsamuVqAB"
   },
   "outputs": [],
   "source": []
  },
  {
   "cell_type": "markdown",
   "metadata": {
    "colab_type": "text",
    "id": "RBo0JVjVVqAF"
   },
   "source": [
    "# 24. Какая студия дает самые длинные названия своим фильмам по количеству символов?"
   ]
  },
  {
   "cell_type": "code",
   "execution_count": 0,
   "metadata": {
    "colab": {},
    "colab_type": "code",
    "id": "QRGS8L0iVqAG"
   },
   "outputs": [],
   "source": []
  },
  {
   "cell_type": "markdown",
   "metadata": {
    "colab_type": "text",
    "id": "9G0hbvR7VqAK"
   },
   "source": [
    "# 25. Описание фильмов какой студии в среднем самые длинные по количеству слов?"
   ]
  },
  {
   "cell_type": "code",
   "execution_count": 0,
   "metadata": {
    "colab": {},
    "colab_type": "code",
    "id": "Ge2GsLNxVqAK"
   },
   "outputs": [],
   "source": []
  },
  {
   "cell_type": "markdown",
   "metadata": {
    "colab_type": "text",
    "id": "FJ1AFt90VqAP"
   },
   "source": [
    "# 26. Какие фильмы входят в 1 процент лучших по рейтингу? \n",
    "по vote_average"
   ]
  },
  {
   "cell_type": "code",
   "execution_count": 0,
   "metadata": {
    "colab": {},
    "colab_type": "code",
    "id": "8qmJVq4CVqAQ"
   },
   "outputs": [],
   "source": []
  },
  {
   "cell_type": "markdown",
   "metadata": {
    "colab_type": "text",
    "id": "MdXsUXbCVqAV"
   },
   "source": [
    "# 27. Какие актеры чаще всего снимаются в одном фильме вместе?\n"
   ]
  },
  {
   "cell_type": "markdown",
   "metadata": {
    "colab_type": "text",
    "id": "4ymnxEVoVqAW"
   },
   "source": [
    "ВАРИАНТ 2"
   ]
  },
  {
   "cell_type": "markdown",
   "metadata": {
    "colab_type": "text",
    "id": "U0nONFnGVqAX"
   },
   "source": [
    "# Submission"
   ]
  },
  {
   "cell_type": "code",
   "execution_count": 0,
   "metadata": {
    "colab": {},
    "colab_type": "code",
    "id": "IfcaRO9-VqAX",
    "outputId": "0f132912-32bb-4196-c98c-abfbc4ad5a5f"
   },
   "outputs": [
    {
     "data": {
      "text/plain": [
       "{'1': '...', '2': '...'}"
      ]
     },
     "execution_count": 8,
     "metadata": {
      "tags": []
     },
     "output_type": "execute_result"
    }
   ],
   "source": [
    "# в конце можно посмотреть свои ответы к каждому вопросу\n",
    "answers"
   ]
  },
  {
   "cell_type": "code",
   "execution_count": 0,
   "metadata": {
    "colab": {},
    "colab_type": "code",
    "id": "SiRmHPl8VqAd"
   },
   "outputs": [],
   "source": [
    "# и убедиться что ни чего не пропустил)\n",
    "len(answers)"
   ]
  },
  {
   "cell_type": "code",
   "execution_count": 0,
   "metadata": {
    "colab": {},
    "colab_type": "code",
    "id": "uCfuTkRbVqAg"
   },
   "outputs": [],
   "source": []
  },
  {
   "cell_type": "code",
   "execution_count": 0,
   "metadata": {
    "colab": {},
    "colab_type": "code",
    "id": "Vwx3NrkSVqAl"
   },
   "outputs": [],
   "source": []
  }
 ],
 "metadata": {
  "colab": {
   "name": "Copy of [SF-DST] Movies IMBD v4.1 TEMPLATE.ipynb",
   "provenance": []
  },
  "kernelspec": {
   "display_name": "Python 3",
   "language": "python",
   "name": "python3"
  },
  "language_info": {
   "codemirror_mode": {
    "name": "ipython",
    "version": 3
   },
   "file_extension": ".py",
   "mimetype": "text/x-python",
   "name": "python",
   "nbconvert_exporter": "python",
   "pygments_lexer": "ipython3",
   "version": "3.7.6"
  }
 },
 "nbformat": 4,
 "nbformat_minor": 1
}
