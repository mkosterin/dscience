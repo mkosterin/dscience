{
 "cells": [
  {
   "cell_type": "markdown",
   "metadata": {},
   "source": [
    "Рекомендации:\n",
    "Работайте в репозитории, который вы создали в начале этого модуля.\n",
    "\n",
    "Создавайте отдельную папку для каждого нового проекта. Папка по этому проекту должна носить название: module_0.\n",
    "Проверьте, что ваш алгоритм действительно угадывает число и делает это за как можно меньшее число попыток (без читерства).\n",
    "\n",
    "Убедитесь, что ваш код понятен и красив. Если будет возможность, задокументируйте код.\n",
    "\n",
    "Сохраните все файлы, сделайте коммит, затем запушьте (git push) все изменения в репозиторий на гитхабе, чтобы ментор смог проверить ваш код.\n",
    "\n",
    "Не стесняйтесь использовать коммиты чаще, если собираетесь писать код не за один раз. Во многих компаниях есть негласное правило: Перед уходом с работы сделайте git commit, git push."
   ]
  },
  {
   "cell_type": "code",
   "execution_count": 57,
   "metadata": {},
   "outputs": [
    {
     "name": "stdout",
     "output_type": "stream",
     "text": [
      "1\n",
      "97\n",
      "97\n",
      "too little\n"
     ]
    }
   ],
   "source": [
    "from random import randint \n",
    "class Number(object):\n",
    "    #This class can generate a number a help you to guess it\n",
    "    def __init__(self):\n",
    "        self.number = 1\n",
    "\n",
    "    def make_a_number(self):\n",
    "        self.number = random.randint(1, 100)\n",
    "    \n",
    "    def show_a_number(self):\n",
    "        return self.number\n",
    "    \n",
    "    def attempt(self, val=int):\n",
    "        if val > self.number:\n",
    "            return 'too big'\n",
    "        elif val < self.number:\n",
    "            return 'too little'\n",
    "        else:\n",
    "            return 'got it!'\n",
    "            \n",
    "\n",
    "\n",
    "\n",
    "a = Number()\n",
    "\n",
    "a.make_a_number()\n",
    "print(a.show_a_number())\n",
    "print(a.attempt(80))"
   ]
  },
  {
   "cell_type": "code",
   "execution_count": null,
   "metadata": {},
   "outputs": [],
   "source": []
  },
  {
   "cell_type": "code",
   "execution_count": null,
   "metadata": {},
   "outputs": [],
   "source": []
  }
 ],
 "metadata": {
  "kernelspec": {
   "display_name": "Python 3",
   "language": "python",
   "name": "python3"
  },
  "language_info": {
   "codemirror_mode": {
    "name": "ipython",
    "version": 3
   },
   "file_extension": ".py",
   "mimetype": "text/x-python",
   "name": "python",
   "nbconvert_exporter": "python",
   "pygments_lexer": "ipython3",
   "version": "3.7.6"
  }
 },
 "nbformat": 4,
 "nbformat_minor": 4
}
